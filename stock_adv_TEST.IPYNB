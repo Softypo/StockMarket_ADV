{
 "metadata": {
  "language_info": {
   "codemirror_mode": {
    "name": "ipython",
    "version": 3
   },
   "file_extension": ".py",
   "mimetype": "text/x-python",
   "name": "python",
   "nbconvert_exporter": "python",
   "pygments_lexer": "ipython3",
   "version": "3.8.3"
  },
  "orig_nbformat": 2,
  "kernelspec": {
   "name": "python38364bitdd2e28d60c1b43e9b49f9c27905ca31a",
   "display_name": "Python 3.8.3 64-bit"
  },
  "metadata": {
   "interpreter": {
    "hash": "fc81a2e38328932b4305c5ab4216893505a147ab677d29bf0ed218855c61a901"
   }
  }
 },
 "nbformat": 4,
 "nbformat_minor": 2,
 "cells": [
  {
   "cell_type": "code",
   "execution_count": 4,
   "metadata": {},
   "outputs": [],
   "source": [
    "import numpy as np\n",
    "import pandas as pd"
   ]
  },
  {
   "cell_type": "code",
   "execution_count": 23,
   "metadata": {},
   "outputs": [],
   "source": [
    "import stock_adv_Functions as advf"
   ]
  },
  {
   "cell_type": "code",
   "execution_count": 4,
   "metadata": {},
   "outputs": [],
   "source": [
    "from stock_adv_Functions import looker"
   ]
  },
  {
   "cell_type": "code",
   "execution_count": 38,
   "metadata": {},
   "outputs": [],
   "source": [
    "stock_info, stock_data, stock_c, stock_r, stock_a, stock_b, stock_qb = advf.y_stock_data('RBLX', '1wk', '1d')"
   ]
  },
  {
   "cell_type": "code",
   "execution_count": 5,
   "metadata": {},
   "outputs": [
    {
     "output_type": "stream",
     "name": "stdout",
     "text": [
      "Stock data downloaded from Yahoo finance\n",
      "Posts downloaded from Reddit\n",
      "Comments downloaded from Reddit\n"
     ]
    }
   ],
   "source": [
    "stock_name, subredits, sort, date, comments = 'RBLX', 'allstocks', 'relevance', 'week', True\n",
    "\n",
    "stock_info, stock_data, stock_c, stock_r, stock_a, stock_b, stock_qb, posts, comments = looker(stock_name, subredits, sort, date, comments)"
   ]
  },
  {
   "cell_type": "code",
   "execution_count": 42,
   "metadata": {},
   "outputs": [
    {
     "output_type": "display_data",
     "data": {
      "application/vnd.plotly.v1+json": {
       "config": {
        "plotlyServerURL": "https://plot.ly"
       },
       "data": [
        {
         "close": [
          69.68000030517578,
          70.94999694824219,
          76.93000030517578,
          74.98999786376953,
          75.22000122070312
         ],
         "high": [
          75.1500015258789,
          73.43000030517578,
          76.97000122070312,
          77.58999633789062,
          76.2699966430664
         ],
         "low": [
          67.51000213623047,
          69.25,
          70.91000366210938,
          73.4800033569336,
          70.33000183105469
         ],
         "name": "RBLX",
         "open": [
          75.1500015258789,
          71.19999694824219,
          70.94999694824219,
          76.69999694824219,
          70.33000183105469
         ],
         "type": "candlestick",
         "x": [
          "2021-05-13T00:00:00",
          "2021-05-14T00:00:00",
          "2021-05-17T00:00:00",
          "2021-05-18T00:00:00",
          "2021-05-19T00:00:00"
         ],
         "xaxis": "x",
         "yaxis": "y"
        },
        {
         "line": {
          "color": "#505050"
         },
         "name": "market data",
         "type": "scatter",
         "x": [
          "2021-05-13T00:00:00",
          "2021-05-14T00:00:00",
          "2021-05-17T00:00:00",
          "2021-05-18T00:00:00",
          "2021-05-19T00:00:00"
         ],
         "xaxis": "x",
         "y": [
          69.68000030517578,
          70.94999694824219,
          76.93000030517578,
          74.98999786376953,
          75.22000122070312
         ],
         "yaxis": "y"
        }
       ],
       "layout": {
        "template": {
         "data": {
          "bar": [
           {
            "error_x": {
             "color": "#2a3f5f"
            },
            "error_y": {
             "color": "#2a3f5f"
            },
            "marker": {
             "line": {
              "color": "#E5ECF6",
              "width": 0.5
             }
            },
            "type": "bar"
           }
          ],
          "barpolar": [
           {
            "marker": {
             "line": {
              "color": "#E5ECF6",
              "width": 0.5
             }
            },
            "type": "barpolar"
           }
          ],
          "carpet": [
           {
            "aaxis": {
             "endlinecolor": "#2a3f5f",
             "gridcolor": "white",
             "linecolor": "white",
             "minorgridcolor": "white",
             "startlinecolor": "#2a3f5f"
            },
            "baxis": {
             "endlinecolor": "#2a3f5f",
             "gridcolor": "white",
             "linecolor": "white",
             "minorgridcolor": "white",
             "startlinecolor": "#2a3f5f"
            },
            "type": "carpet"
           }
          ],
          "choropleth": [
           {
            "colorbar": {
             "outlinewidth": 0,
             "ticks": ""
            },
            "type": "choropleth"
           }
          ],
          "contour": [
           {
            "colorbar": {
             "outlinewidth": 0,
             "ticks": ""
            },
            "colorscale": [
             [
              0,
              "#0d0887"
             ],
             [
              0.1111111111111111,
              "#46039f"
             ],
             [
              0.2222222222222222,
              "#7201a8"
             ],
             [
              0.3333333333333333,
              "#9c179e"
             ],
             [
              0.4444444444444444,
              "#bd3786"
             ],
             [
              0.5555555555555556,
              "#d8576b"
             ],
             [
              0.6666666666666666,
              "#ed7953"
             ],
             [
              0.7777777777777778,
              "#fb9f3a"
             ],
             [
              0.8888888888888888,
              "#fdca26"
             ],
             [
              1,
              "#f0f921"
             ]
            ],
            "type": "contour"
           }
          ],
          "contourcarpet": [
           {
            "colorbar": {
             "outlinewidth": 0,
             "ticks": ""
            },
            "type": "contourcarpet"
           }
          ],
          "heatmap": [
           {
            "colorbar": {
             "outlinewidth": 0,
             "ticks": ""
            },
            "colorscale": [
             [
              0,
              "#0d0887"
             ],
             [
              0.1111111111111111,
              "#46039f"
             ],
             [
              0.2222222222222222,
              "#7201a8"
             ],
             [
              0.3333333333333333,
              "#9c179e"
             ],
             [
              0.4444444444444444,
              "#bd3786"
             ],
             [
              0.5555555555555556,
              "#d8576b"
             ],
             [
              0.6666666666666666,
              "#ed7953"
             ],
             [
              0.7777777777777778,
              "#fb9f3a"
             ],
             [
              0.8888888888888888,
              "#fdca26"
             ],
             [
              1,
              "#f0f921"
             ]
            ],
            "type": "heatmap"
           }
          ],
          "heatmapgl": [
           {
            "colorbar": {
             "outlinewidth": 0,
             "ticks": ""
            },
            "colorscale": [
             [
              0,
              "#0d0887"
             ],
             [
              0.1111111111111111,
              "#46039f"
             ],
             [
              0.2222222222222222,
              "#7201a8"
             ],
             [
              0.3333333333333333,
              "#9c179e"
             ],
             [
              0.4444444444444444,
              "#bd3786"
             ],
             [
              0.5555555555555556,
              "#d8576b"
             ],
             [
              0.6666666666666666,
              "#ed7953"
             ],
             [
              0.7777777777777778,
              "#fb9f3a"
             ],
             [
              0.8888888888888888,
              "#fdca26"
             ],
             [
              1,
              "#f0f921"
             ]
            ],
            "type": "heatmapgl"
           }
          ],
          "histogram": [
           {
            "marker": {
             "colorbar": {
              "outlinewidth": 0,
              "ticks": ""
             }
            },
            "type": "histogram"
           }
          ],
          "histogram2d": [
           {
            "colorbar": {
             "outlinewidth": 0,
             "ticks": ""
            },
            "colorscale": [
             [
              0,
              "#0d0887"
             ],
             [
              0.1111111111111111,
              "#46039f"
             ],
             [
              0.2222222222222222,
              "#7201a8"
             ],
             [
              0.3333333333333333,
              "#9c179e"
             ],
             [
              0.4444444444444444,
              "#bd3786"
             ],
             [
              0.5555555555555556,
              "#d8576b"
             ],
             [
              0.6666666666666666,
              "#ed7953"
             ],
             [
              0.7777777777777778,
              "#fb9f3a"
             ],
             [
              0.8888888888888888,
              "#fdca26"
             ],
             [
              1,
              "#f0f921"
             ]
            ],
            "type": "histogram2d"
           }
          ],
          "histogram2dcontour": [
           {
            "colorbar": {
             "outlinewidth": 0,
             "ticks": ""
            },
            "colorscale": [
             [
              0,
              "#0d0887"
             ],
             [
              0.1111111111111111,
              "#46039f"
             ],
             [
              0.2222222222222222,
              "#7201a8"
             ],
             [
              0.3333333333333333,
              "#9c179e"
             ],
             [
              0.4444444444444444,
              "#bd3786"
             ],
             [
              0.5555555555555556,
              "#d8576b"
             ],
             [
              0.6666666666666666,
              "#ed7953"
             ],
             [
              0.7777777777777778,
              "#fb9f3a"
             ],
             [
              0.8888888888888888,
              "#fdca26"
             ],
             [
              1,
              "#f0f921"
             ]
            ],
            "type": "histogram2dcontour"
           }
          ],
          "mesh3d": [
           {
            "colorbar": {
             "outlinewidth": 0,
             "ticks": ""
            },
            "type": "mesh3d"
           }
          ],
          "parcoords": [
           {
            "line": {
             "colorbar": {
              "outlinewidth": 0,
              "ticks": ""
             }
            },
            "type": "parcoords"
           }
          ],
          "pie": [
           {
            "automargin": true,
            "type": "pie"
           }
          ],
          "scatter": [
           {
            "marker": {
             "colorbar": {
              "outlinewidth": 0,
              "ticks": ""
             }
            },
            "type": "scatter"
           }
          ],
          "scatter3d": [
           {
            "line": {
             "colorbar": {
              "outlinewidth": 0,
              "ticks": ""
             }
            },
            "marker": {
             "colorbar": {
              "outlinewidth": 0,
              "ticks": ""
             }
            },
            "type": "scatter3d"
           }
          ],
          "scattercarpet": [
           {
            "marker": {
             "colorbar": {
              "outlinewidth": 0,
              "ticks": ""
             }
            },
            "type": "scattercarpet"
           }
          ],
          "scattergeo": [
           {
            "marker": {
             "colorbar": {
              "outlinewidth": 0,
              "ticks": ""
             }
            },
            "type": "scattergeo"
           }
          ],
          "scattergl": [
           {
            "marker": {
             "colorbar": {
              "outlinewidth": 0,
              "ticks": ""
             }
            },
            "type": "scattergl"
           }
          ],
          "scattermapbox": [
           {
            "marker": {
             "colorbar": {
              "outlinewidth": 0,
              "ticks": ""
             }
            },
            "type": "scattermapbox"
           }
          ],
          "scatterpolar": [
           {
            "marker": {
             "colorbar": {
              "outlinewidth": 0,
              "ticks": ""
             }
            },
            "type": "scatterpolar"
           }
          ],
          "scatterpolargl": [
           {
            "marker": {
             "colorbar": {
              "outlinewidth": 0,
              "ticks": ""
             }
            },
            "type": "scatterpolargl"
           }
          ],
          "scatterternary": [
           {
            "marker": {
             "colorbar": {
              "outlinewidth": 0,
              "ticks": ""
             }
            },
            "type": "scatterternary"
           }
          ],
          "surface": [
           {
            "colorbar": {
             "outlinewidth": 0,
             "ticks": ""
            },
            "colorscale": [
             [
              0,
              "#0d0887"
             ],
             [
              0.1111111111111111,
              "#46039f"
             ],
             [
              0.2222222222222222,
              "#7201a8"
             ],
             [
              0.3333333333333333,
              "#9c179e"
             ],
             [
              0.4444444444444444,
              "#bd3786"
             ],
             [
              0.5555555555555556,
              "#d8576b"
             ],
             [
              0.6666666666666666,
              "#ed7953"
             ],
             [
              0.7777777777777778,
              "#fb9f3a"
             ],
             [
              0.8888888888888888,
              "#fdca26"
             ],
             [
              1,
              "#f0f921"
             ]
            ],
            "type": "surface"
           }
          ],
          "table": [
           {
            "cells": {
             "fill": {
              "color": "#EBF0F8"
             },
             "line": {
              "color": "white"
             }
            },
            "header": {
             "fill": {
              "color": "#C8D4E3"
             },
             "line": {
              "color": "white"
             }
            },
            "type": "table"
           }
          ]
         },
         "layout": {
          "annotationdefaults": {
           "arrowcolor": "#2a3f5f",
           "arrowhead": 0,
           "arrowwidth": 1
          },
          "autotypenumbers": "strict",
          "coloraxis": {
           "colorbar": {
            "outlinewidth": 0,
            "ticks": ""
           }
          },
          "colorscale": {
           "diverging": [
            [
             0,
             "#8e0152"
            ],
            [
             0.1,
             "#c51b7d"
            ],
            [
             0.2,
             "#de77ae"
            ],
            [
             0.3,
             "#f1b6da"
            ],
            [
             0.4,
             "#fde0ef"
            ],
            [
             0.5,
             "#f7f7f7"
            ],
            [
             0.6,
             "#e6f5d0"
            ],
            [
             0.7,
             "#b8e186"
            ],
            [
             0.8,
             "#7fbc41"
            ],
            [
             0.9,
             "#4d9221"
            ],
            [
             1,
             "#276419"
            ]
           ],
           "sequential": [
            [
             0,
             "#0d0887"
            ],
            [
             0.1111111111111111,
             "#46039f"
            ],
            [
             0.2222222222222222,
             "#7201a8"
            ],
            [
             0.3333333333333333,
             "#9c179e"
            ],
            [
             0.4444444444444444,
             "#bd3786"
            ],
            [
             0.5555555555555556,
             "#d8576b"
            ],
            [
             0.6666666666666666,
             "#ed7953"
            ],
            [
             0.7777777777777778,
             "#fb9f3a"
            ],
            [
             0.8888888888888888,
             "#fdca26"
            ],
            [
             1,
             "#f0f921"
            ]
           ],
           "sequentialminus": [
            [
             0,
             "#0d0887"
            ],
            [
             0.1111111111111111,
             "#46039f"
            ],
            [
             0.2222222222222222,
             "#7201a8"
            ],
            [
             0.3333333333333333,
             "#9c179e"
            ],
            [
             0.4444444444444444,
             "#bd3786"
            ],
            [
             0.5555555555555556,
             "#d8576b"
            ],
            [
             0.6666666666666666,
             "#ed7953"
            ],
            [
             0.7777777777777778,
             "#fb9f3a"
            ],
            [
             0.8888888888888888,
             "#fdca26"
            ],
            [
             1,
             "#f0f921"
            ]
           ]
          },
          "colorway": [
           "#636efa",
           "#EF553B",
           "#00cc96",
           "#ab63fa",
           "#FFA15A",
           "#19d3f3",
           "#FF6692",
           "#B6E880",
           "#FF97FF",
           "#FECB52"
          ],
          "font": {
           "color": "#2a3f5f"
          },
          "geo": {
           "bgcolor": "white",
           "lakecolor": "white",
           "landcolor": "#E5ECF6",
           "showlakes": true,
           "showland": true,
           "subunitcolor": "white"
          },
          "hoverlabel": {
           "align": "left"
          },
          "hovermode": "closest",
          "mapbox": {
           "style": "light"
          },
          "paper_bgcolor": "white",
          "plot_bgcolor": "#E5ECF6",
          "polar": {
           "angularaxis": {
            "gridcolor": "white",
            "linecolor": "white",
            "ticks": ""
           },
           "bgcolor": "#E5ECF6",
           "radialaxis": {
            "gridcolor": "white",
            "linecolor": "white",
            "ticks": ""
           }
          },
          "scene": {
           "xaxis": {
            "backgroundcolor": "#E5ECF6",
            "gridcolor": "white",
            "gridwidth": 2,
            "linecolor": "white",
            "showbackground": true,
            "ticks": "",
            "zerolinecolor": "white"
           },
           "yaxis": {
            "backgroundcolor": "#E5ECF6",
            "gridcolor": "white",
            "gridwidth": 2,
            "linecolor": "white",
            "showbackground": true,
            "ticks": "",
            "zerolinecolor": "white"
           },
           "zaxis": {
            "backgroundcolor": "#E5ECF6",
            "gridcolor": "white",
            "gridwidth": 2,
            "linecolor": "white",
            "showbackground": true,
            "ticks": "",
            "zerolinecolor": "white"
           }
          },
          "shapedefaults": {
           "line": {
            "color": "#2a3f5f"
           }
          },
          "ternary": {
           "aaxis": {
            "gridcolor": "white",
            "linecolor": "white",
            "ticks": ""
           },
           "baxis": {
            "gridcolor": "white",
            "linecolor": "white",
            "ticks": ""
           },
           "bgcolor": "#E5ECF6",
           "caxis": {
            "gridcolor": "white",
            "linecolor": "white",
            "ticks": ""
           }
          },
          "title": {
           "x": 0.05
          },
          "xaxis": {
           "automargin": true,
           "gridcolor": "white",
           "linecolor": "white",
           "ticks": "",
           "title": {
            "standoff": 15
           },
           "zerolinecolor": "white",
           "zerolinewidth": 2
          },
          "yaxis": {
           "automargin": true,
           "gridcolor": "white",
           "linecolor": "white",
           "ticks": "",
           "title": {
            "standoff": 15
           },
           "zerolinecolor": "white",
           "zerolinewidth": 2
          }
         }
        },
        "title": {
         "text": "75.22 USD, Roblox Corporation, RBLX, NYQ"
        },
        "xaxis": {
         "anchor": "y",
         "domain": [
          0,
          0.94
         ]
        },
        "yaxis": {
         "anchor": "x",
         "domain": [
          0,
          1
         ],
         "title": {
          "text": "Stock Price"
         }
        },
        "yaxis2": {
         "anchor": "x",
         "overlaying": "y",
         "side": "right"
        }
       }
      }
     },
     "metadata": {}
    }
   ],
   "source": [
    "import plotly.graph_objects as go\n",
    "from plotly.subplots import make_subplots\n",
    "\n",
    "date = 'week'\n",
    "\n",
    "# Create figure with secondary y-axis\n",
    "fig = make_subplots(specs=[[{\"secondary_y\": True}]])\n",
    "\n",
    "#Candlestick\n",
    "fig.add_trace(go.Candlestick(x=stock_data.index,\n",
    "                open=stock_data['Open'],\n",
    "                high=stock_data['High'],\n",
    "                low=stock_data['Low'],\n",
    "                close=stock_data['Close'], name = stock_info['symbol']), secondary_y=False)\n",
    "\n",
    "fig.add_trace(go.Scatter(x=stock_data.index, y=stock_data['Close'], name = 'market data', line_color=\"#505050\"), secondary_y=False)\n",
    "\n",
    "# Add titles\n",
    "fig.update_layout(\n",
    "    title=str(round(stock_data['Close'][-1], 2))+' '+stock_info['currency']+', '+stock_info['longName']+', '+stock_info['symbol']+', '+stock_info['exchange'],\n",
    "    yaxis_title='Stock Price')\n",
    "\n",
    "# X-Axes\n",
    "if date=='week1':\n",
    "    fig.update_xaxes(\n",
    "        rangeslider_visible=True,\n",
    "        rangeselector=dict(\n",
    "            buttons=list([\n",
    "                dict(count=1, label=\"day\", step=\"day\", stepmode=\"backward\"),\n",
    "                dict(label=\"week\", step=\"all\"),\n",
    "                dict(count=7, label=\"HTD\", step=\"day\", stepmode=\"todate\")\n",
    "            ])\n",
    "        )\n",
    "    )\n",
    "\n",
    "    fig.update()\n",
    "if date=='month1':\n",
    "    fig.update_xaxes(\n",
    "        rangeslider_visible=True,\n",
    "        rangeselector=dict(\n",
    "            buttons=list([\n",
    "                dict(count=7, label=\"week\", step=\"day\", stepmode=\"backward\"),\n",
    "                dict(label=\"month\", step=\"all\"),\n",
    "                dict(count=1, label=\"HTD\", step=\"month\", stepmode=\"todate\")\n",
    "            ])\n",
    "        )\n",
    "    )\n",
    "\n",
    "#Show\n",
    "fig.show()"
   ]
  },
  {
   "cell_type": "code",
   "execution_count": 41,
   "metadata": {},
   "outputs": [
    {
     "output_type": "stream",
     "name": "stdout",
     "text": [
      "Figure({\n    'data': [{'close': array([69.68000031, 70.94999695, 76.93000031, 74.98999786, 75.22000122]),\n              'high': array([75.15000153, 73.43000031, 76.97000122, 77.58999634, 76.26999664]),\n              'low': array([67.51000214, 69.25      , 70.91000366, 73.48000336, 70.33000183]),\n              'name': 'RBLX',\n              'open': array([75.15000153, 71.19999695, 70.94999695, 76.69999695, 70.33000183]),\n              'type': 'candlestick',\n              'x': array([datetime.datetime(2021, 5, 13, 0, 0),\n                          datetime.datetime(2021, 5, 14, 0, 0),\n                          datetime.datetime(2021, 5, 17, 0, 0),\n                          datetime.datetime(2021, 5, 18, 0, 0),\n                          datetime.datetime(2021, 5, 19, 0, 0)], dtype=object),\n              'xaxis': 'x',\n              'yaxis': 'y'},\n             {'line': {'color': '#505050'},\n              'name': 'market data',\n              'type': 'scatter',\n              'x': array([datetime.datetime(2021, 5, 13, 0, 0),\n                          datetime.datetime(2021, 5, 14, 0, 0),\n                          datetime.datetime(2021, 5, 17, 0, 0),\n                          datetime.datetime(2021, 5, 18, 0, 0),\n                          datetime.datetime(2021, 5, 19, 0, 0)], dtype=object),\n              'xaxis': 'x',\n              'y': array([69.68000031, 70.94999695, 76.93000031, 74.98999786, 75.22000122]),\n              'yaxis': 'y'}],\n    'layout': {'template': '...',\n               'title': {'text': '75.22 USD, Roblox Corporation, RBLX, NYQ'},\n               'xaxis': {'anchor': 'y',\n                         'domain': [0.0, 0.94],\n                         'rangeselector': {'buttons': [{'count': 1, 'label': 'day', 'step': 'day', 'stepmode': 'backward'},\n                                                       {'label': 'week', 'step': 'all'},\n                                                       {'count': 7, 'label': 'HTD', 'step': 'day', 'stepmode': 'todate'}]},\n                         'rangeslider': {'visible': True}},\n               'yaxis': {'anchor': 'x', 'domain': [0.0, 1.0], 'title': {'text': 'Stock Price'}},\n               'yaxis2': {'anchor': 'x', 'overlaying': 'y', 'side': 'right'}}\n})\n"
     ]
    }
   ],
   "source": [
    "print (fig)"
   ]
  },
  {
   "cell_type": "code",
   "execution_count": 20,
   "metadata": {},
   "outputs": [],
   "source": [
    "posts, comments = pq(['roblox','RBLX'], 'allstocks', 'relevance', 'week', True)"
   ]
  },
  {
   "cell_type": "code",
   "execution_count": 21,
   "metadata": {},
   "outputs": [],
   "source": [
    "sentiment(posts, comments)"
   ]
  },
  {
   "cell_type": "code",
   "execution_count": 23,
   "metadata": {},
   "outputs": [
    {
     "output_type": "execute_result",
     "data": {
      "text/plain": [
       "array(['nbgcda', 'n8zkio', 'naz3qf', 'n8ryaa', 'n9b9l6', 'n9f8a1',\n",
       "       'na55rn', 'ncl6bw', 'n80r2l', 'na5hir', 'n95p7a', 'n9ehm8',\n",
       "       'n8mx95', 'n9fnje'], dtype=object)"
      ]
     },
     "metadata": {},
     "execution_count": 23
    }
   ],
   "source": [
    "comments[\"post_id\"].unique()"
   ]
  },
  {
   "cell_type": "code",
   "execution_count": 24,
   "metadata": {},
   "outputs": [
    {
     "output_type": "execute_result",
     "data": {
      "text/plain": [
       "array(['nbgcda', 'n8zkio', 'naz3qf', 'n8ryaa', 'n9b9l6', 'n9f8a1',\n",
       "       'na55rn', 'ncl6bw', 'n80r2l', 'nb2gq8', 'na5hir', 'n95p7a',\n",
       "       'n9ehm8', 'n8mx95', 'n9fnje'], dtype=object)"
      ]
     },
     "metadata": {},
     "execution_count": 24
    }
   ],
   "source": [
    "posts[\"post_id\"].unique()"
   ]
  },
  {
   "cell_type": "code",
   "execution_count": 25,
   "metadata": {},
   "outputs": [],
   "source": [
    "overall_posts = []\n",
    "overall_posts.append([posts['sentiment'].loc[posts['confidence'] >=0.9].mode()[0], posts['confidence'].loc[posts['confidence'] >=0.9].mean(), posts['title'].loc[(posts['sentiment'] == 'POSITIVE') & (posts['score'] == posts['score'].loc[posts['sentiment'] == 'POSITIVE'].max())], posts['title'].loc[(posts['sentiment'] == 'NEGATIVE') & (posts['score'] == posts['score'].loc[posts['sentiment'] == 'NEGATIVE'].max())]])\n",
    "overall_posts = pd.DataFrame(overall_posts,columns=['most common sentiment', 'confidence mean', 'top positive post', 'top negative post'])"
   ]
  },
  {
   "cell_type": "code",
   "execution_count": 26,
   "metadata": {
    "tags": []
   },
   "outputs": [
    {
     "output_type": "stream",
     "name": "stdout",
     "text": [
      "nbgcda\nNEGATIVE\n0.98431396484375\nn8zkio\nNEGATIVE\n0.9843349901112644\nnaz3qf\nNEGATIVE\n0.9726795946296892\nn8ryaa\nNEGATIVE\n0.9692754676708808\nn9b9l6\nNEGATIVE\n0.9713416913660561\nn9f8a1\nNEGATIVE\n0.9821830604757581\nna55rn\nNEGATIVE\n0.975262270983598\nncl6bw\nNEGATIVE\n0.9649422829215591\nn80r2l\nNEGATIVE\n0.976365752139334\nna5hir\nPOSITIVE\n0.9646734877636558\nn95p7a\nNEGATIVE\n0.9808686636388302\nn9ehm8\nNEGATIVE\n0.9724023818969727\nn8mx95\nNEGATIVE\n0.9782180840318854\nn9fnje\nNEGATIVE\n0.9891335844993592\n"
     ]
    }
   ],
   "source": [
    "overall_comments = []\n",
    "for post_id in comments[\"post_id\"].unique():\n",
    "    print (post_id)\n",
    "    print ( comments[\"sentiment\"].loc[(comments[\"post_id\"]==post_id) & (comments[\"confidence\"]>=0.8)].mode()[0] )\n",
    "    print ( comments[\"confidence\"].loc[(comments[\"post_id\"]==post_id) & (comments[\"confidence\"]>=0.8)].mean() )\n",
    "    overall_comments.append([post_id, comments[\"sentiment\"].loc[(comments[\"post_id\"]==post_id) & (comments[\"confidence\"]>=0.8)].mode()[0], comments[\"confidence\"].loc[comments[\"confidence\"]>=0.8].mean()])\n",
    "overall_comments = pd.DataFrame(overall_comments,columns=[\"post_id\", 'most common sentiment', 'confidence mean'])"
   ]
  },
  {
   "cell_type": "code",
   "execution_count": 27,
   "metadata": {},
   "outputs": [
    {
     "output_type": "execute_result",
     "data": {
      "text/plain": [
       "'NEGATIVE'"
      ]
     },
     "metadata": {},
     "execution_count": 27
    }
   ],
   "source": [
    "overall_comments[\"most common sentiment\"].mode()[0]"
   ]
  },
  {
   "cell_type": "code",
   "execution_count": 28,
   "metadata": {},
   "outputs": [
    {
     "output_type": "execute_result",
     "data": {
      "text/plain": [
       "                                                title  score post_id  \\\n",
       "0                                   Watchlist: Roblox      3  nbgcda   \n",
       "1   PSFE (Paysafe): A better way to bet on multipl...    142  n8zkio   \n",
       "2   Here is a Market Recap for today Wednesday, Ma...    127  naz3qf   \n",
       "3   Which upcoming earnings are you most excited for?     26  n8ryaa   \n",
       "4   $PSFE (Paysafe): A better way to bet on multip...     79  n9b9l6   \n",
       "6                                       $RBLX holders  30610  na55rn   \n",
       "7                                          $RBLX - DD     22  ncl6bw   \n",
       "8                   High conviction stock/leaps list.     46  n80r2l   \n",
       "9   STOCK MARKET SELLING (time to buy?) 2021 Key l...      6  nb2gq8   \n",
       "10                                RBLX TÖ da Moon 🌜🌜🌜     59  na5hir   \n",
       "12  $3.6k in less than 5 hours RBLX 66.5 P 5/14 x ...     19  n9ehm8   \n",
       "13  A quantitative observation of stock selling ac...     37  n8mx95   \n",
       "14  Historical Post Earnings Moves MEGA Compilatio...     46  n9fnje   \n",
       "\n",
       "           subreddit                                                url  \\\n",
       "0             stocks  https://www.reddit.com/r/stocks/comments/nbgcd...   \n",
       "1             stocks  https://www.reddit.com/r/stocks/comments/n8zki...   \n",
       "2             stocks  https://www.reddit.com/r/stocks/comments/naz3q...   \n",
       "3             stocks  https://www.reddit.com/r/stocks/comments/n8rya...   \n",
       "4     wallstreetbets  https://www.reddit.com/r/wallstreetbets/commen...   \n",
       "6     wallstreetbets                https://i.redd.it/hgo9iggekjy61.png   \n",
       "7     wallstreetbets  https://www.reddit.com/r/wallstreetbets/commen...   \n",
       "8     wallstreetbets  https://www.reddit.com/r/wallstreetbets/commen...   \n",
       "9   StocksAndTrading  https://www.reddit.com/r/StocksAndTrading/comm...   \n",
       "10    wallstreetbets                https://i.redd.it/rf3rsevpmjy61.jpg   \n",
       "12    wallstreetbets              https://www.reddit.com/gallery/n9ehm8   \n",
       "13    wallstreetbets  https://www.reddit.com/r/wallstreetbets/commen...   \n",
       "14    wallstreetbets  https://www.reddit.com/r/wallstreetbets/commen...   \n",
       "\n",
       "    num_comments                                               body  \\\n",
       "0              4  $RBLX:\\n\\nVideogame company  Roblox  is expand...   \n",
       "1             64  Paysafe is one hell of a company. They are a f...   \n",
       "2             46  PsychoMarket Recap - Wednesday, May 12, 2021\\n...   \n",
       "3            102  Like the title says, which upcoming company ea...   \n",
       "4             45  &#x200B;\\n\\n[Paysafe Partners](https://preview...   \n",
       "6            827                                                      \n",
       "7             42  # Introduction\\n\\nI'm proud to say I've played...   \n",
       "8             72  Figured I should share some after doing super ...   \n",
       "9              0  STOCK MARKET SELLING (time to buy?) 2021  \\nKe...   \n",
       "10            21                                                      \n",
       "12            10                                                      \n",
       "13            50  I knew that when I posted that DD on $PLTR CEO...   \n",
       "14            18  **Historical Post Earnings Moves MEGA Compilat...   \n",
       "\n",
       "         created sentiment  confidence comments_sentiment  \\\n",
       "0   1.620940e+09  POSITIVE    0.911386           NEGATIVE   \n",
       "1   1.620665e+09  NEGATIVE    0.996823           NEGATIVE   \n",
       "2   1.620882e+09  NEGATIVE    0.999158           NEGATIVE   \n",
       "3   1.620637e+09  POSITIVE    0.973245           NEGATIVE   \n",
       "4   1.620698e+09  NEGATIVE    0.978795           NEGATIVE   \n",
       "6   1.620790e+09  POSITIVE    0.982239           NEGATIVE   \n",
       "7   1.621062e+09  NEGATIVE    0.999807           NEGATIVE   \n",
       "8   1.620544e+09  NEGATIVE    0.872466           NEGATIVE   \n",
       "9   1.620891e+09  NEGATIVE    0.999487                NaN   \n",
       "10  1.620790e+09  POSITIVE    0.884135           POSITIVE   \n",
       "12  1.620706e+09  NEGATIVE    0.997980           NEGATIVE   \n",
       "13  1.620621e+09  NEGATIVE    0.999800           NEGATIVE   \n",
       "14  1.620708e+09  NEGATIVE    0.856137           NEGATIVE   \n",
       "\n",
       "    comments_confidence combined_sentiment  combined_confidence  \n",
       "0              0.984314           NEGATIVE             0.947850  \n",
       "1              0.989714           POSITIVE             0.993268  \n",
       "2              0.987627           POSITIVE             0.993393  \n",
       "3              0.982873           NEGATIVE             0.978059  \n",
       "4              0.987778           POSITIVE             0.983287  \n",
       "6              0.986198           NEGATIVE             0.984218  \n",
       "7              0.982082           POSITIVE             0.990944  \n",
       "8              0.989166           POSITIVE             0.930816  \n",
       "9                   NaN           NEGATIVE                  NaN  \n",
       "10             0.977121           POSITIVE             0.930628  \n",
       "12             0.995123           POSITIVE             0.996551  \n",
       "13             0.985970           POSITIVE             0.992885  \n",
       "14             0.989134           POSITIVE             0.922635  "
      ],
      "text/html": "<div>\n<style scoped>\n    .dataframe tbody tr th:only-of-type {\n        vertical-align: middle;\n    }\n\n    .dataframe tbody tr th {\n        vertical-align: top;\n    }\n\n    .dataframe thead th {\n        text-align: right;\n    }\n</style>\n<table border=\"1\" class=\"dataframe\">\n  <thead>\n    <tr style=\"text-align: right;\">\n      <th></th>\n      <th>title</th>\n      <th>score</th>\n      <th>post_id</th>\n      <th>subreddit</th>\n      <th>url</th>\n      <th>num_comments</th>\n      <th>body</th>\n      <th>created</th>\n      <th>sentiment</th>\n      <th>confidence</th>\n      <th>comments_sentiment</th>\n      <th>comments_confidence</th>\n      <th>combined_sentiment</th>\n      <th>combined_confidence</th>\n    </tr>\n  </thead>\n  <tbody>\n    <tr>\n      <th>0</th>\n      <td>Watchlist: Roblox</td>\n      <td>3</td>\n      <td>nbgcda</td>\n      <td>stocks</td>\n      <td>https://www.reddit.com/r/stocks/comments/nbgcd...</td>\n      <td>4</td>\n      <td>$RBLX:\\n\\nVideogame company  Roblox  is expand...</td>\n      <td>1.620940e+09</td>\n      <td>POSITIVE</td>\n      <td>0.911386</td>\n      <td>NEGATIVE</td>\n      <td>0.984314</td>\n      <td>NEGATIVE</td>\n      <td>0.947850</td>\n    </tr>\n    <tr>\n      <th>1</th>\n      <td>PSFE (Paysafe): A better way to bet on multipl...</td>\n      <td>142</td>\n      <td>n8zkio</td>\n      <td>stocks</td>\n      <td>https://www.reddit.com/r/stocks/comments/n8zki...</td>\n      <td>64</td>\n      <td>Paysafe is one hell of a company. They are a f...</td>\n      <td>1.620665e+09</td>\n      <td>NEGATIVE</td>\n      <td>0.996823</td>\n      <td>NEGATIVE</td>\n      <td>0.989714</td>\n      <td>POSITIVE</td>\n      <td>0.993268</td>\n    </tr>\n    <tr>\n      <th>2</th>\n      <td>Here is a Market Recap for today Wednesday, Ma...</td>\n      <td>127</td>\n      <td>naz3qf</td>\n      <td>stocks</td>\n      <td>https://www.reddit.com/r/stocks/comments/naz3q...</td>\n      <td>46</td>\n      <td>PsychoMarket Recap - Wednesday, May 12, 2021\\n...</td>\n      <td>1.620882e+09</td>\n      <td>NEGATIVE</td>\n      <td>0.999158</td>\n      <td>NEGATIVE</td>\n      <td>0.987627</td>\n      <td>POSITIVE</td>\n      <td>0.993393</td>\n    </tr>\n    <tr>\n      <th>3</th>\n      <td>Which upcoming earnings are you most excited for?</td>\n      <td>26</td>\n      <td>n8ryaa</td>\n      <td>stocks</td>\n      <td>https://www.reddit.com/r/stocks/comments/n8rya...</td>\n      <td>102</td>\n      <td>Like the title says, which upcoming company ea...</td>\n      <td>1.620637e+09</td>\n      <td>POSITIVE</td>\n      <td>0.973245</td>\n      <td>NEGATIVE</td>\n      <td>0.982873</td>\n      <td>NEGATIVE</td>\n      <td>0.978059</td>\n    </tr>\n    <tr>\n      <th>4</th>\n      <td>$PSFE (Paysafe): A better way to bet on multip...</td>\n      <td>79</td>\n      <td>n9b9l6</td>\n      <td>wallstreetbets</td>\n      <td>https://www.reddit.com/r/wallstreetbets/commen...</td>\n      <td>45</td>\n      <td>&amp;#x200B;\\n\\n[Paysafe Partners](https://preview...</td>\n      <td>1.620698e+09</td>\n      <td>NEGATIVE</td>\n      <td>0.978795</td>\n      <td>NEGATIVE</td>\n      <td>0.987778</td>\n      <td>POSITIVE</td>\n      <td>0.983287</td>\n    </tr>\n    <tr>\n      <th>6</th>\n      <td>$RBLX holders</td>\n      <td>30610</td>\n      <td>na55rn</td>\n      <td>wallstreetbets</td>\n      <td>https://i.redd.it/hgo9iggekjy61.png</td>\n      <td>827</td>\n      <td></td>\n      <td>1.620790e+09</td>\n      <td>POSITIVE</td>\n      <td>0.982239</td>\n      <td>NEGATIVE</td>\n      <td>0.986198</td>\n      <td>NEGATIVE</td>\n      <td>0.984218</td>\n    </tr>\n    <tr>\n      <th>7</th>\n      <td>$RBLX - DD</td>\n      <td>22</td>\n      <td>ncl6bw</td>\n      <td>wallstreetbets</td>\n      <td>https://www.reddit.com/r/wallstreetbets/commen...</td>\n      <td>42</td>\n      <td># Introduction\\n\\nI'm proud to say I've played...</td>\n      <td>1.621062e+09</td>\n      <td>NEGATIVE</td>\n      <td>0.999807</td>\n      <td>NEGATIVE</td>\n      <td>0.982082</td>\n      <td>POSITIVE</td>\n      <td>0.990944</td>\n    </tr>\n    <tr>\n      <th>8</th>\n      <td>High conviction stock/leaps list.</td>\n      <td>46</td>\n      <td>n80r2l</td>\n      <td>wallstreetbets</td>\n      <td>https://www.reddit.com/r/wallstreetbets/commen...</td>\n      <td>72</td>\n      <td>Figured I should share some after doing super ...</td>\n      <td>1.620544e+09</td>\n      <td>NEGATIVE</td>\n      <td>0.872466</td>\n      <td>NEGATIVE</td>\n      <td>0.989166</td>\n      <td>POSITIVE</td>\n      <td>0.930816</td>\n    </tr>\n    <tr>\n      <th>9</th>\n      <td>STOCK MARKET SELLING (time to buy?) 2021 Key l...</td>\n      <td>6</td>\n      <td>nb2gq8</td>\n      <td>StocksAndTrading</td>\n      <td>https://www.reddit.com/r/StocksAndTrading/comm...</td>\n      <td>0</td>\n      <td>STOCK MARKET SELLING (time to buy?) 2021  \\nKe...</td>\n      <td>1.620891e+09</td>\n      <td>NEGATIVE</td>\n      <td>0.999487</td>\n      <td>NaN</td>\n      <td>NaN</td>\n      <td>NEGATIVE</td>\n      <td>NaN</td>\n    </tr>\n    <tr>\n      <th>10</th>\n      <td>RBLX TÖ da Moon 🌜🌜🌜</td>\n      <td>59</td>\n      <td>na5hir</td>\n      <td>wallstreetbets</td>\n      <td>https://i.redd.it/rf3rsevpmjy61.jpg</td>\n      <td>21</td>\n      <td></td>\n      <td>1.620790e+09</td>\n      <td>POSITIVE</td>\n      <td>0.884135</td>\n      <td>POSITIVE</td>\n      <td>0.977121</td>\n      <td>POSITIVE</td>\n      <td>0.930628</td>\n    </tr>\n    <tr>\n      <th>12</th>\n      <td>$3.6k in less than 5 hours RBLX 66.5 P 5/14 x ...</td>\n      <td>19</td>\n      <td>n9ehm8</td>\n      <td>wallstreetbets</td>\n      <td>https://www.reddit.com/gallery/n9ehm8</td>\n      <td>10</td>\n      <td></td>\n      <td>1.620706e+09</td>\n      <td>NEGATIVE</td>\n      <td>0.997980</td>\n      <td>NEGATIVE</td>\n      <td>0.995123</td>\n      <td>POSITIVE</td>\n      <td>0.996551</td>\n    </tr>\n    <tr>\n      <th>13</th>\n      <td>A quantitative observation of stock selling ac...</td>\n      <td>37</td>\n      <td>n8mx95</td>\n      <td>wallstreetbets</td>\n      <td>https://www.reddit.com/r/wallstreetbets/commen...</td>\n      <td>50</td>\n      <td>I knew that when I posted that DD on $PLTR CEO...</td>\n      <td>1.620621e+09</td>\n      <td>NEGATIVE</td>\n      <td>0.999800</td>\n      <td>NEGATIVE</td>\n      <td>0.985970</td>\n      <td>POSITIVE</td>\n      <td>0.992885</td>\n    </tr>\n    <tr>\n      <th>14</th>\n      <td>Historical Post Earnings Moves MEGA Compilatio...</td>\n      <td>46</td>\n      <td>n9fnje</td>\n      <td>wallstreetbets</td>\n      <td>https://www.reddit.com/r/wallstreetbets/commen...</td>\n      <td>18</td>\n      <td>**Historical Post Earnings Moves MEGA Compilat...</td>\n      <td>1.620708e+09</td>\n      <td>NEGATIVE</td>\n      <td>0.856137</td>\n      <td>NEGATIVE</td>\n      <td>0.989134</td>\n      <td>POSITIVE</td>\n      <td>0.922635</td>\n    </tr>\n  </tbody>\n</table>\n</div>"
     },
     "metadata": {},
     "execution_count": 28
    }
   ],
   "source": [
    "posts.loc[posts[\"confidence\"]>=0.8]"
   ]
  },
  {
   "cell_type": "code",
   "execution_count": 29,
   "metadata": {},
   "outputs": [
    {
     "output_type": "execute_result",
     "data": {
      "text/plain": [
       "  most common sentiment  confidence mean  \\\n",
       "0              NEGATIVE         0.983872   \n",
       "\n",
       "                               top positive post  \\\n",
       "0  6    $RBLX holders\n",
       "Name: title, dtype: object   \n",
       "\n",
       "                                   top negative post  \n",
       "0  1    PSFE (Paysafe): A better way to bet on mu...  "
      ],
      "text/html": "<div>\n<style scoped>\n    .dataframe tbody tr th:only-of-type {\n        vertical-align: middle;\n    }\n\n    .dataframe tbody tr th {\n        vertical-align: top;\n    }\n\n    .dataframe thead th {\n        text-align: right;\n    }\n</style>\n<table border=\"1\" class=\"dataframe\">\n  <thead>\n    <tr style=\"text-align: right;\">\n      <th></th>\n      <th>most common sentiment</th>\n      <th>confidence mean</th>\n      <th>top positive post</th>\n      <th>top negative post</th>\n    </tr>\n  </thead>\n  <tbody>\n    <tr>\n      <th>0</th>\n      <td>NEGATIVE</td>\n      <td>0.983872</td>\n      <td>6    $RBLX holders\nName: title, dtype: object</td>\n      <td>1    PSFE (Paysafe): A better way to bet on mu...</td>\n    </tr>\n  </tbody>\n</table>\n</div>"
     },
     "metadata": {},
     "execution_count": 29
    }
   ],
   "source": [
    "overall_posts"
   ]
  },
  {
   "cell_type": "code",
   "execution_count": 30,
   "metadata": {},
   "outputs": [
    {
     "output_type": "execute_result",
     "data": {
      "text/plain": [
       "NEGATIVE    9\n",
       "POSITIVE    4\n",
       "Name: sentiment, dtype: int64"
      ]
     },
     "metadata": {},
     "execution_count": 30
    }
   ],
   "source": [
    "posts['sentiment'].loc[posts[\"confidence\"]>=0.8].value_counts()"
   ]
  },
  {
   "cell_type": "code",
   "execution_count": 31,
   "metadata": {},
   "outputs": [
    {
     "output_type": "execute_result",
     "data": {
      "text/plain": [
       "NEGATIVE    602\n",
       "POSITIVE    357\n",
       "Name: sentiment, dtype: int64"
      ]
     },
     "metadata": {},
     "execution_count": 31
    }
   ],
   "source": [
    "comments['sentiment'].value_counts()"
   ]
  },
  {
   "cell_type": "code",
   "execution_count": 32,
   "metadata": {},
   "outputs": [
    {
     "output_type": "execute_result",
     "data": {
      "text/plain": [
       "POSITIVE    10\n",
       "NEGATIVE     5\n",
       "Name: combined_sentiment, dtype: int64"
      ]
     },
     "metadata": {},
     "execution_count": 32
    }
   ],
   "source": [
    "posts['combined_sentiment'].value_counts()\n"
   ]
  },
  {
   "cell_type": "code",
   "execution_count": 33,
   "metadata": {},
   "outputs": [
    {
     "output_type": "execute_result",
     "data": {
      "text/plain": [
       "'$3.6k in less than 5 hours RBLX 66.5 P 5/14 x 25 and C3AI 50 P 5/21 x 100.'"
      ]
     },
     "metadata": {},
     "execution_count": 33
    }
   ],
   "source": [
    "posts['title'].loc[posts['confidence'] >=0.9].mode()[0]"
   ]
  },
  {
   "cell_type": "code",
   "execution_count": 34,
   "metadata": {},
   "outputs": [
    {
     "output_type": "execute_result",
     "data": {
      "text/plain": [
       "0.9838718771934509"
      ]
     },
     "metadata": {},
     "execution_count": 34
    }
   ],
   "source": [
    "posts['confidence'].loc[posts['confidence'] >=0.9].mean()"
   ]
  },
  {
   "cell_type": "code",
   "execution_count": 35,
   "metadata": {},
   "outputs": [
    {
     "output_type": "execute_result",
     "data": {
      "text/plain": [
       "30610"
      ]
     },
     "metadata": {},
     "execution_count": 35
    }
   ],
   "source": [
    "posts['score'].max()"
   ]
  },
  {
   "cell_type": "code",
   "execution_count": 36,
   "metadata": {},
   "outputs": [
    {
     "output_type": "execute_result",
     "data": {
      "text/plain": [
       "6    $RBLX holders\n",
       "Name: title, dtype: object"
      ]
     },
     "metadata": {},
     "execution_count": 36
    }
   ],
   "source": [
    "posts['title'].loc[(posts['sentiment'] == 'POSITIVE') & (posts['score'] == posts['score'].loc[posts['sentiment'] == 'POSITIVE'].max())]"
   ]
  },
  {
   "cell_type": "code",
   "execution_count": 37,
   "metadata": {},
   "outputs": [
    {
     "output_type": "execute_result",
     "data": {
      "text/plain": [
       "Empty DataFrame\n",
       "Columns: [post_id, post, score, comment_id, body, created, sentiment, confidence]\n",
       "Index: []"
      ],
      "text/html": "<div>\n<style scoped>\n    .dataframe tbody tr th:only-of-type {\n        vertical-align: middle;\n    }\n\n    .dataframe tbody tr th {\n        vertical-align: top;\n    }\n\n    .dataframe thead th {\n        text-align: right;\n    }\n</style>\n<table border=\"1\" class=\"dataframe\">\n  <thead>\n    <tr style=\"text-align: right;\">\n      <th></th>\n      <th>post_id</th>\n      <th>post</th>\n      <th>score</th>\n      <th>comment_id</th>\n      <th>body</th>\n      <th>created</th>\n      <th>sentiment</th>\n      <th>confidence</th>\n    </tr>\n  </thead>\n  <tbody>\n  </tbody>\n</table>\n</div>"
     },
     "metadata": {},
     "execution_count": 37
    }
   ],
   "source": [
    "comments.loc[comments[\"post_id\"]==\"n6j2kf\"]"
   ]
  },
  {
   "cell_type": "code",
   "execution_count": 38,
   "metadata": {},
   "outputs": [
    {
     "output_type": "execute_result",
     "data": {
      "text/plain": [
       "    post_id                                               post  score  \\\n",
       "0    nbgcda                                  Watchlist: Roblox      7   \n",
       "1    nbgcda                                  Watchlist: Roblox     -2   \n",
       "2    nbgcda                                  Watchlist: Roblox      2   \n",
       "3    nbgcda                                  Watchlist: Roblox      1   \n",
       "4    n8zkio  PSFE (Paysafe): A better way to bet on multipl...     25   \n",
       "..      ...                                                ...    ...   \n",
       "954  n9fnje  Historical Post Earnings Moves MEGA Compilatio...      3   \n",
       "955  n9fnje  Historical Post Earnings Moves MEGA Compilatio...      2   \n",
       "956  n9fnje  Historical Post Earnings Moves MEGA Compilatio...      2   \n",
       "957  n9fnje  Historical Post Earnings Moves MEGA Compilatio...      3   \n",
       "958  n9fnje  Historical Post Earnings Moves MEGA Compilatio...      2   \n",
       "\n",
       "    comment_id                                               body  \\\n",
       "0      gxz3r3g  But the stock should be at 20 per share, this ...   \n",
       "1      gxza27t  What's the reason behind the $20 price?  Roblo...   \n",
       "2      gxzgmot  The reason is the total value of the company a...   \n",
       "3      gy041d7  There are ways to calculate the actual intrins...   \n",
       "4      gxl6a7p  I love the outlook for $PSFE. I have had stock...   \n",
       "..         ...                                                ...   \n",
       "954    gxnjyn5  Shit can't hit the bottom if it's ready there,...   \n",
       "955    gxou5rf  Looking forward to that 100% gain I need to br...   \n",
       "956    gxokg8q            You mean until Football starts back up?   \n",
       "957    gxnk6r5  Truuuuuue. Im holding for a year and was expec...   \n",
       "958    gxotxxa  Football as in Football or football as in futbol?   \n",
       "\n",
       "          created sentiment  confidence  \n",
       "0    1.620941e+09  NEGATIVE    0.970646  \n",
       "1    1.620944e+09  POSITIVE    0.984581  \n",
       "2    1.620947e+09  NEGATIVE    0.643273  \n",
       "3    1.620957e+09  NEGATIVE    0.997715  \n",
       "4    1.620665e+09  POSITIVE    0.986700  \n",
       "..            ...       ...         ...  \n",
       "954  1.620709e+09  NEGATIVE    0.999844  \n",
       "955  1.620732e+09  NEGATIVE    0.997956  \n",
       "956  1.620727e+09  POSITIVE    0.504074  \n",
       "957  1.620709e+09  POSITIVE    0.999792  \n",
       "958  1.620732e+09  POSITIVE    0.994527  \n",
       "\n",
       "[959 rows x 8 columns]"
      ],
      "text/html": "<div>\n<style scoped>\n    .dataframe tbody tr th:only-of-type {\n        vertical-align: middle;\n    }\n\n    .dataframe tbody tr th {\n        vertical-align: top;\n    }\n\n    .dataframe thead th {\n        text-align: right;\n    }\n</style>\n<table border=\"1\" class=\"dataframe\">\n  <thead>\n    <tr style=\"text-align: right;\">\n      <th></th>\n      <th>post_id</th>\n      <th>post</th>\n      <th>score</th>\n      <th>comment_id</th>\n      <th>body</th>\n      <th>created</th>\n      <th>sentiment</th>\n      <th>confidence</th>\n    </tr>\n  </thead>\n  <tbody>\n    <tr>\n      <th>0</th>\n      <td>nbgcda</td>\n      <td>Watchlist: Roblox</td>\n      <td>7</td>\n      <td>gxz3r3g</td>\n      <td>But the stock should be at 20 per share, this ...</td>\n      <td>1.620941e+09</td>\n      <td>NEGATIVE</td>\n      <td>0.970646</td>\n    </tr>\n    <tr>\n      <th>1</th>\n      <td>nbgcda</td>\n      <td>Watchlist: Roblox</td>\n      <td>-2</td>\n      <td>gxza27t</td>\n      <td>What's the reason behind the $20 price?  Roblo...</td>\n      <td>1.620944e+09</td>\n      <td>POSITIVE</td>\n      <td>0.984581</td>\n    </tr>\n    <tr>\n      <th>2</th>\n      <td>nbgcda</td>\n      <td>Watchlist: Roblox</td>\n      <td>2</td>\n      <td>gxzgmot</td>\n      <td>The reason is the total value of the company a...</td>\n      <td>1.620947e+09</td>\n      <td>NEGATIVE</td>\n      <td>0.643273</td>\n    </tr>\n    <tr>\n      <th>3</th>\n      <td>nbgcda</td>\n      <td>Watchlist: Roblox</td>\n      <td>1</td>\n      <td>gy041d7</td>\n      <td>There are ways to calculate the actual intrins...</td>\n      <td>1.620957e+09</td>\n      <td>NEGATIVE</td>\n      <td>0.997715</td>\n    </tr>\n    <tr>\n      <th>4</th>\n      <td>n8zkio</td>\n      <td>PSFE (Paysafe): A better way to bet on multipl...</td>\n      <td>25</td>\n      <td>gxl6a7p</td>\n      <td>I love the outlook for $PSFE. I have had stock...</td>\n      <td>1.620665e+09</td>\n      <td>POSITIVE</td>\n      <td>0.986700</td>\n    </tr>\n    <tr>\n      <th>...</th>\n      <td>...</td>\n      <td>...</td>\n      <td>...</td>\n      <td>...</td>\n      <td>...</td>\n      <td>...</td>\n      <td>...</td>\n      <td>...</td>\n    </tr>\n    <tr>\n      <th>954</th>\n      <td>n9fnje</td>\n      <td>Historical Post Earnings Moves MEGA Compilatio...</td>\n      <td>3</td>\n      <td>gxnjyn5</td>\n      <td>Shit can't hit the bottom if it's ready there,...</td>\n      <td>1.620709e+09</td>\n      <td>NEGATIVE</td>\n      <td>0.999844</td>\n    </tr>\n    <tr>\n      <th>955</th>\n      <td>n9fnje</td>\n      <td>Historical Post Earnings Moves MEGA Compilatio...</td>\n      <td>2</td>\n      <td>gxou5rf</td>\n      <td>Looking forward to that 100% gain I need to br...</td>\n      <td>1.620732e+09</td>\n      <td>NEGATIVE</td>\n      <td>0.997956</td>\n    </tr>\n    <tr>\n      <th>956</th>\n      <td>n9fnje</td>\n      <td>Historical Post Earnings Moves MEGA Compilatio...</td>\n      <td>2</td>\n      <td>gxokg8q</td>\n      <td>You mean until Football starts back up?</td>\n      <td>1.620727e+09</td>\n      <td>POSITIVE</td>\n      <td>0.504074</td>\n    </tr>\n    <tr>\n      <th>957</th>\n      <td>n9fnje</td>\n      <td>Historical Post Earnings Moves MEGA Compilatio...</td>\n      <td>3</td>\n      <td>gxnk6r5</td>\n      <td>Truuuuuue. Im holding for a year and was expec...</td>\n      <td>1.620709e+09</td>\n      <td>POSITIVE</td>\n      <td>0.999792</td>\n    </tr>\n    <tr>\n      <th>958</th>\n      <td>n9fnje</td>\n      <td>Historical Post Earnings Moves MEGA Compilatio...</td>\n      <td>2</td>\n      <td>gxotxxa</td>\n      <td>Football as in Football or football as in futbol?</td>\n      <td>1.620732e+09</td>\n      <td>POSITIVE</td>\n      <td>0.994527</td>\n    </tr>\n  </tbody>\n</table>\n<p>959 rows × 8 columns</p>\n</div>"
     },
     "metadata": {},
     "execution_count": 38
    }
   ],
   "source": [
    "comments"
   ]
  },
  {
   "cell_type": "code",
   "execution_count": 39,
   "metadata": {},
   "outputs": [
    {
     "output_type": "execute_result",
     "data": {
      "text/plain": [
       "                                                title  score post_id  \\\n",
       "0                                   Watchlist: Roblox      3  nbgcda   \n",
       "1   PSFE (Paysafe): A better way to bet on multipl...    142  n8zkio   \n",
       "2   Here is a Market Recap for today Wednesday, Ma...    127  naz3qf   \n",
       "3   Which upcoming earnings are you most excited for?     26  n8ryaa   \n",
       "4   $PSFE (Paysafe): A better way to bet on multip...     79  n9b9l6   \n",
       "5           Roblox Reports First Quarter 2021 Results     28  n9f8a1   \n",
       "6                                       $RBLX holders  30610  na55rn   \n",
       "7                                          $RBLX - DD     22  ncl6bw   \n",
       "8                   High conviction stock/leaps list.     46  n80r2l   \n",
       "9   STOCK MARKET SELLING (time to buy?) 2021 Key l...      6  nb2gq8   \n",
       "10                                RBLX TÖ da Moon 🌜🌜🌜     59  na5hir   \n",
       "11  RBLX 66.5 P 5/14 x 25 and C3AI 50 P 5/21 x 100...     15  n95p7a   \n",
       "12  $3.6k in less than 5 hours RBLX 66.5 P 5/14 x ...     19  n9ehm8   \n",
       "13  A quantitative observation of stock selling ac...     37  n8mx95   \n",
       "14  Historical Post Earnings Moves MEGA Compilatio...     46  n9fnje   \n",
       "\n",
       "           subreddit                                                url  \\\n",
       "0             stocks  https://www.reddit.com/r/stocks/comments/nbgcd...   \n",
       "1             stocks  https://www.reddit.com/r/stocks/comments/n8zki...   \n",
       "2             stocks  https://www.reddit.com/r/stocks/comments/naz3q...   \n",
       "3             stocks  https://www.reddit.com/r/stocks/comments/n8rya...   \n",
       "4     wallstreetbets  https://www.reddit.com/r/wallstreetbets/commen...   \n",
       "5     wallstreetbets  https://ir.roblox.com/news/news-details/2021/R...   \n",
       "6     wallstreetbets                https://i.redd.it/hgo9iggekjy61.png   \n",
       "7     wallstreetbets  https://www.reddit.com/r/wallstreetbets/commen...   \n",
       "8     wallstreetbets  https://www.reddit.com/r/wallstreetbets/commen...   \n",
       "9   StocksAndTrading  https://www.reddit.com/r/StocksAndTrading/comm...   \n",
       "10    wallstreetbets                https://i.redd.it/rf3rsevpmjy61.jpg   \n",
       "11    wallstreetbets              https://www.reddit.com/gallery/n95p7a   \n",
       "12    wallstreetbets              https://www.reddit.com/gallery/n9ehm8   \n",
       "13    wallstreetbets  https://www.reddit.com/r/wallstreetbets/commen...   \n",
       "14    wallstreetbets  https://www.reddit.com/r/wallstreetbets/commen...   \n",
       "\n",
       "    num_comments                                               body  \\\n",
       "0              4  $RBLX:\\n\\nVideogame company  Roblox  is expand...   \n",
       "1             64  Paysafe is one hell of a company. They are a f...   \n",
       "2             46  PsychoMarket Recap - Wednesday, May 12, 2021\\n...   \n",
       "3            102  Like the title says, which upcoming company ea...   \n",
       "4             45  &#x200B;\\n\\n[Paysafe Partners](https://preview...   \n",
       "5             15                                                      \n",
       "6            827                                                      \n",
       "7             42  # Introduction\\n\\nI'm proud to say I've played...   \n",
       "8             72  Figured I should share some after doing super ...   \n",
       "9              0  STOCK MARKET SELLING (time to buy?) 2021  \\nKe...   \n",
       "10            21                                                      \n",
       "11            20                                                      \n",
       "12            10                                                      \n",
       "13            50  I knew that when I posted that DD on $PLTR CEO...   \n",
       "14            18  **Historical Post Earnings Moves MEGA Compilat...   \n",
       "\n",
       "         created sentiment  confidence comments_sentiment  \\\n",
       "0   1.620940e+09  POSITIVE    0.911386           NEGATIVE   \n",
       "1   1.620665e+09  NEGATIVE    0.996823           NEGATIVE   \n",
       "2   1.620882e+09  NEGATIVE    0.999158           NEGATIVE   \n",
       "3   1.620637e+09  POSITIVE    0.973245           NEGATIVE   \n",
       "4   1.620698e+09  NEGATIVE    0.978795           NEGATIVE   \n",
       "5   1.620707e+09  POSITIVE    0.765073           NEGATIVE   \n",
       "6   1.620790e+09  POSITIVE    0.982239           NEGATIVE   \n",
       "7   1.621062e+09  NEGATIVE    0.999807           NEGATIVE   \n",
       "8   1.620544e+09  NEGATIVE    0.872466           NEGATIVE   \n",
       "9   1.620891e+09  NEGATIVE    0.999487                NaN   \n",
       "10  1.620790e+09  POSITIVE    0.884135           POSITIVE   \n",
       "11  1.620685e+09  NEGATIVE    0.750368           NEGATIVE   \n",
       "12  1.620706e+09  NEGATIVE    0.997980           NEGATIVE   \n",
       "13  1.620621e+09  NEGATIVE    0.999800           NEGATIVE   \n",
       "14  1.620708e+09  NEGATIVE    0.856137           NEGATIVE   \n",
       "\n",
       "    comments_confidence combined_sentiment  combined_confidence  \n",
       "0              0.984314           NEGATIVE             0.947850  \n",
       "1              0.989714           POSITIVE             0.993268  \n",
       "2              0.987627           POSITIVE             0.993393  \n",
       "3              0.982873           NEGATIVE             0.978059  \n",
       "4              0.987778           POSITIVE             0.983287  \n",
       "5              0.994190           NEGATIVE             0.879631  \n",
       "6              0.986198           NEGATIVE             0.984218  \n",
       "7              0.982082           POSITIVE             0.990944  \n",
       "8              0.989166           POSITIVE             0.930816  \n",
       "9                   NaN           NEGATIVE                  NaN  \n",
       "10             0.977121           POSITIVE             0.930628  \n",
       "11             0.989477           POSITIVE             0.869923  \n",
       "12             0.995123           POSITIVE             0.996551  \n",
       "13             0.985970           POSITIVE             0.992885  \n",
       "14             0.989134           POSITIVE             0.922635  "
      ],
      "text/html": "<div>\n<style scoped>\n    .dataframe tbody tr th:only-of-type {\n        vertical-align: middle;\n    }\n\n    .dataframe tbody tr th {\n        vertical-align: top;\n    }\n\n    .dataframe thead th {\n        text-align: right;\n    }\n</style>\n<table border=\"1\" class=\"dataframe\">\n  <thead>\n    <tr style=\"text-align: right;\">\n      <th></th>\n      <th>title</th>\n      <th>score</th>\n      <th>post_id</th>\n      <th>subreddit</th>\n      <th>url</th>\n      <th>num_comments</th>\n      <th>body</th>\n      <th>created</th>\n      <th>sentiment</th>\n      <th>confidence</th>\n      <th>comments_sentiment</th>\n      <th>comments_confidence</th>\n      <th>combined_sentiment</th>\n      <th>combined_confidence</th>\n    </tr>\n  </thead>\n  <tbody>\n    <tr>\n      <th>0</th>\n      <td>Watchlist: Roblox</td>\n      <td>3</td>\n      <td>nbgcda</td>\n      <td>stocks</td>\n      <td>https://www.reddit.com/r/stocks/comments/nbgcd...</td>\n      <td>4</td>\n      <td>$RBLX:\\n\\nVideogame company  Roblox  is expand...</td>\n      <td>1.620940e+09</td>\n      <td>POSITIVE</td>\n      <td>0.911386</td>\n      <td>NEGATIVE</td>\n      <td>0.984314</td>\n      <td>NEGATIVE</td>\n      <td>0.947850</td>\n    </tr>\n    <tr>\n      <th>1</th>\n      <td>PSFE (Paysafe): A better way to bet on multipl...</td>\n      <td>142</td>\n      <td>n8zkio</td>\n      <td>stocks</td>\n      <td>https://www.reddit.com/r/stocks/comments/n8zki...</td>\n      <td>64</td>\n      <td>Paysafe is one hell of a company. They are a f...</td>\n      <td>1.620665e+09</td>\n      <td>NEGATIVE</td>\n      <td>0.996823</td>\n      <td>NEGATIVE</td>\n      <td>0.989714</td>\n      <td>POSITIVE</td>\n      <td>0.993268</td>\n    </tr>\n    <tr>\n      <th>2</th>\n      <td>Here is a Market Recap for today Wednesday, Ma...</td>\n      <td>127</td>\n      <td>naz3qf</td>\n      <td>stocks</td>\n      <td>https://www.reddit.com/r/stocks/comments/naz3q...</td>\n      <td>46</td>\n      <td>PsychoMarket Recap - Wednesday, May 12, 2021\\n...</td>\n      <td>1.620882e+09</td>\n      <td>NEGATIVE</td>\n      <td>0.999158</td>\n      <td>NEGATIVE</td>\n      <td>0.987627</td>\n      <td>POSITIVE</td>\n      <td>0.993393</td>\n    </tr>\n    <tr>\n      <th>3</th>\n      <td>Which upcoming earnings are you most excited for?</td>\n      <td>26</td>\n      <td>n8ryaa</td>\n      <td>stocks</td>\n      <td>https://www.reddit.com/r/stocks/comments/n8rya...</td>\n      <td>102</td>\n      <td>Like the title says, which upcoming company ea...</td>\n      <td>1.620637e+09</td>\n      <td>POSITIVE</td>\n      <td>0.973245</td>\n      <td>NEGATIVE</td>\n      <td>0.982873</td>\n      <td>NEGATIVE</td>\n      <td>0.978059</td>\n    </tr>\n    <tr>\n      <th>4</th>\n      <td>$PSFE (Paysafe): A better way to bet on multip...</td>\n      <td>79</td>\n      <td>n9b9l6</td>\n      <td>wallstreetbets</td>\n      <td>https://www.reddit.com/r/wallstreetbets/commen...</td>\n      <td>45</td>\n      <td>&amp;#x200B;\\n\\n[Paysafe Partners](https://preview...</td>\n      <td>1.620698e+09</td>\n      <td>NEGATIVE</td>\n      <td>0.978795</td>\n      <td>NEGATIVE</td>\n      <td>0.987778</td>\n      <td>POSITIVE</td>\n      <td>0.983287</td>\n    </tr>\n    <tr>\n      <th>5</th>\n      <td>Roblox Reports First Quarter 2021 Results</td>\n      <td>28</td>\n      <td>n9f8a1</td>\n      <td>wallstreetbets</td>\n      <td>https://ir.roblox.com/news/news-details/2021/R...</td>\n      <td>15</td>\n      <td></td>\n      <td>1.620707e+09</td>\n      <td>POSITIVE</td>\n      <td>0.765073</td>\n      <td>NEGATIVE</td>\n      <td>0.994190</td>\n      <td>NEGATIVE</td>\n      <td>0.879631</td>\n    </tr>\n    <tr>\n      <th>6</th>\n      <td>$RBLX holders</td>\n      <td>30610</td>\n      <td>na55rn</td>\n      <td>wallstreetbets</td>\n      <td>https://i.redd.it/hgo9iggekjy61.png</td>\n      <td>827</td>\n      <td></td>\n      <td>1.620790e+09</td>\n      <td>POSITIVE</td>\n      <td>0.982239</td>\n      <td>NEGATIVE</td>\n      <td>0.986198</td>\n      <td>NEGATIVE</td>\n      <td>0.984218</td>\n    </tr>\n    <tr>\n      <th>7</th>\n      <td>$RBLX - DD</td>\n      <td>22</td>\n      <td>ncl6bw</td>\n      <td>wallstreetbets</td>\n      <td>https://www.reddit.com/r/wallstreetbets/commen...</td>\n      <td>42</td>\n      <td># Introduction\\n\\nI'm proud to say I've played...</td>\n      <td>1.621062e+09</td>\n      <td>NEGATIVE</td>\n      <td>0.999807</td>\n      <td>NEGATIVE</td>\n      <td>0.982082</td>\n      <td>POSITIVE</td>\n      <td>0.990944</td>\n    </tr>\n    <tr>\n      <th>8</th>\n      <td>High conviction stock/leaps list.</td>\n      <td>46</td>\n      <td>n80r2l</td>\n      <td>wallstreetbets</td>\n      <td>https://www.reddit.com/r/wallstreetbets/commen...</td>\n      <td>72</td>\n      <td>Figured I should share some after doing super ...</td>\n      <td>1.620544e+09</td>\n      <td>NEGATIVE</td>\n      <td>0.872466</td>\n      <td>NEGATIVE</td>\n      <td>0.989166</td>\n      <td>POSITIVE</td>\n      <td>0.930816</td>\n    </tr>\n    <tr>\n      <th>9</th>\n      <td>STOCK MARKET SELLING (time to buy?) 2021 Key l...</td>\n      <td>6</td>\n      <td>nb2gq8</td>\n      <td>StocksAndTrading</td>\n      <td>https://www.reddit.com/r/StocksAndTrading/comm...</td>\n      <td>0</td>\n      <td>STOCK MARKET SELLING (time to buy?) 2021  \\nKe...</td>\n      <td>1.620891e+09</td>\n      <td>NEGATIVE</td>\n      <td>0.999487</td>\n      <td>NaN</td>\n      <td>NaN</td>\n      <td>NEGATIVE</td>\n      <td>NaN</td>\n    </tr>\n    <tr>\n      <th>10</th>\n      <td>RBLX TÖ da Moon 🌜🌜🌜</td>\n      <td>59</td>\n      <td>na5hir</td>\n      <td>wallstreetbets</td>\n      <td>https://i.redd.it/rf3rsevpmjy61.jpg</td>\n      <td>21</td>\n      <td></td>\n      <td>1.620790e+09</td>\n      <td>POSITIVE</td>\n      <td>0.884135</td>\n      <td>POSITIVE</td>\n      <td>0.977121</td>\n      <td>POSITIVE</td>\n      <td>0.930628</td>\n    </tr>\n    <tr>\n      <th>11</th>\n      <td>RBLX 66.5 P 5/14 x 25 and C3AI 50 P 5/21 x 100...</td>\n      <td>15</td>\n      <td>n95p7a</td>\n      <td>wallstreetbets</td>\n      <td>https://www.reddit.com/gallery/n95p7a</td>\n      <td>20</td>\n      <td></td>\n      <td>1.620685e+09</td>\n      <td>NEGATIVE</td>\n      <td>0.750368</td>\n      <td>NEGATIVE</td>\n      <td>0.989477</td>\n      <td>POSITIVE</td>\n      <td>0.869923</td>\n    </tr>\n    <tr>\n      <th>12</th>\n      <td>$3.6k in less than 5 hours RBLX 66.5 P 5/14 x ...</td>\n      <td>19</td>\n      <td>n9ehm8</td>\n      <td>wallstreetbets</td>\n      <td>https://www.reddit.com/gallery/n9ehm8</td>\n      <td>10</td>\n      <td></td>\n      <td>1.620706e+09</td>\n      <td>NEGATIVE</td>\n      <td>0.997980</td>\n      <td>NEGATIVE</td>\n      <td>0.995123</td>\n      <td>POSITIVE</td>\n      <td>0.996551</td>\n    </tr>\n    <tr>\n      <th>13</th>\n      <td>A quantitative observation of stock selling ac...</td>\n      <td>37</td>\n      <td>n8mx95</td>\n      <td>wallstreetbets</td>\n      <td>https://www.reddit.com/r/wallstreetbets/commen...</td>\n      <td>50</td>\n      <td>I knew that when I posted that DD on $PLTR CEO...</td>\n      <td>1.620621e+09</td>\n      <td>NEGATIVE</td>\n      <td>0.999800</td>\n      <td>NEGATIVE</td>\n      <td>0.985970</td>\n      <td>POSITIVE</td>\n      <td>0.992885</td>\n    </tr>\n    <tr>\n      <th>14</th>\n      <td>Historical Post Earnings Moves MEGA Compilatio...</td>\n      <td>46</td>\n      <td>n9fnje</td>\n      <td>wallstreetbets</td>\n      <td>https://www.reddit.com/r/wallstreetbets/commen...</td>\n      <td>18</td>\n      <td>**Historical Post Earnings Moves MEGA Compilat...</td>\n      <td>1.620708e+09</td>\n      <td>NEGATIVE</td>\n      <td>0.856137</td>\n      <td>NEGATIVE</td>\n      <td>0.989134</td>\n      <td>POSITIVE</td>\n      <td>0.922635</td>\n    </tr>\n  </tbody>\n</table>\n</div>"
     },
     "metadata": {},
     "execution_count": 39
    }
   ],
   "source": [
    "posts"
   ]
  },
  {
   "cell_type": "code",
   "execution_count": null,
   "metadata": {},
   "outputs": [],
   "source": []
  }
 ]
}