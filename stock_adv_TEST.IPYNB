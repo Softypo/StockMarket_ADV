{
 "metadata": {
  "language_info": {
   "codemirror_mode": {
    "name": "ipython",
    "version": 3
   },
   "file_extension": ".py",
   "mimetype": "text/x-python",
   "name": "python",
   "nbconvert_exporter": "python",
   "pygments_lexer": "ipython3",
   "version": "3.8.3"
  },
  "orig_nbformat": 2,
  "kernelspec": {
   "name": "python38364bitdd2e28d60c1b43e9b49f9c27905ca31a",
   "display_name": "Python 3.8.3 64-bit"
  },
  "metadata": {
   "interpreter": {
    "hash": "fc81a2e38328932b4305c5ab4216893505a147ab677d29bf0ed218855c61a901"
   }
  }
 },
 "nbformat": 4,
 "nbformat_minor": 2,
 "cells": [
  {
   "cell_type": "code",
   "execution_count": 1,
   "metadata": {},
   "outputs": [],
   "source": [
    "import numpy as np\n",
    "import pandas as pd"
   ]
  },
  {
   "cell_type": "code",
   "execution_count": 2,
   "metadata": {},
   "outputs": [],
   "source": [
    "import stock_adv_Functions as advf"
   ]
  },
  {
   "cell_type": "code",
   "execution_count": 1,
   "metadata": {},
   "outputs": [],
   "source": [
    "from stock_adv_Class import stock_adv as advc"
   ]
  },
  {
   "cell_type": "code",
   "execution_count": 2,
   "metadata": {},
   "outputs": [],
   "source": [
    "ticket = advc()"
   ]
  },
  {
   "cell_type": "code",
   "execution_count": 3,
   "metadata": {},
   "outputs": [
    {
     "output_type": "stream",
     "name": "stdout",
     "text": [
      "Stock data downloaded from Yahoo finance\n",
      "Posts downloaded from Reddit\n",
      "Comments downloaded from Reddit\n"
     ]
    },
    {
     "output_type": "execute_result",
     "data": {
      "text/plain": [
       "None,\n",
       "  'dividendRate': 0.88,\n",
       "  'exDividendDate': 1620345600,\n",
       "  'beta': 1.203743,\n",
       "  'circulatingSupply': None,\n",
       "  'startDate': None,\n",
       "  'regularMarketDayLow': 124.55,\n",
       "  'priceHint': 2,\n",
       "  'currency': 'USD',\n",
       "  'trailingPE': 28.008543,\n",
       "  'regularMarketVolume': 71311109,\n",
       "  'lastMarket': None,\n",
       "  'maxSupply': None,\n",
       "  'openInterest': None,\n",
       "  'marketCap': 2079441813504,\n",
       "  'volumeAllCurrencies': None,\n",
       "  'strikePrice': None,\n",
       "  'averageVolume': 98101295,\n",
       "  'priceToSalesTrailing12Months': 6.3903,\n",
       "  'dayLow': 124.55,\n",
       "  'ask': 124.82,\n",
       "  'ytdReturn': None,\n",
       "  'askSize': 800,\n",
       "  'volume': 71311109,\n",
       "  'fiftyTwoWeekHigh': 145.09,\n",
       "  'forwardPE': 23.29159,\n",
       "  'fromCurrency': None,\n",
       "  'fiveYearAvgDividendYield': 1.37,\n",
       "  'fiftyTwoWeekLow': 79.3025,\n",
       "  'bid': 124.61,\n",
       "  'tradeable': False,\n",
       "  'dividendYield': 0.0069999998,\n",
       "  'bidSize': 3100,\n",
       "  'dayHigh': 125.79,\n",
       "  'exchange': 'NMS',\n",
       "  'shortName': 'Apple Inc.',\n",
       "  'longName': 'Apple Inc.',\n",
       "  'exchangeTimezoneName': 'America/New_York',\n",
       "  'exchangeTimezoneShortName': 'EDT',\n",
       "  'isEsgPopulated': False,\n",
       "  'gmtOffSetMilliseconds': '-14400000',\n",
       "  'quoteType': 'EQUITY',\n",
       "  'symbol': 'AAPL',\n",
       "  'messageBoardId': 'finmb_24937',\n",
       "  'market': 'us_market',\n",
       "  'annualHoldingsTurnover': None,\n",
       "  'enterpriseToRevenue': 6.624,\n",
       "  'beta3Year': None,\n",
       "  'profitMargins': 0.23451,\n",
       "  'enterpriseToEbitda': 21.594,\n",
       "  '52WeekChange': 0.5569986,\n",
       "  'morningStarRiskRating': None,\n",
       "  'forwardEps': 5.35,\n",
       "  'revenueQuarterlyGrowth': None,\n",
       "  'sharesOutstanding': 16687599616,\n",
       "  'fundInceptionDate': None,\n",
       "  'annualReportExpenseRatio': None,\n",
       "  'bookValue': 4.146,\n",
       "  'sharesShort': 94747255,\n",
       "  'sharesPercentSharesOut': 0.0057,\n",
       "  'fundFamily': None,\n",
       "  'lastFiscalYearEnd': 1601078400,\n",
       "  'heldPercentInstitutions': 0.58716,\n",
       "  'netIncomeToCommon': 76311003136,\n",
       "  'trailingEps': 4.449,\n",
       "  'lastDividendValue': 0.22,\n",
       "  'SandP52WeekChange': 0.37475502,\n",
       "  'priceToBook': 30.055475,\n",
       "  'heldPercentInsiders': 0.00066,\n",
       "  'nextFiscalYearEnd': 1664150400,\n",
       "  'mostRecentQuarter': 1616803200,\n",
       "  'shortRatio': 1.01,\n",
       "  'sharesShortPreviousMonthDate': 1618444800,\n",
       "  'floatShares': 16670609616,\n",
       "  'enterpriseValue': 2155537367040,\n",
       "  'threeYearAverageReturn': None,\n",
       "  'lastSplitDate': 1598832000,\n",
       "  'lastSplitFactor': '4:1',\n",
       "  'legalType': None,\n",
       "  'lastDividendDate': 1620345600,\n",
       "  'morningStarOverallRating': None,\n",
       "  'earningsQuarterlyGrowth': 1.101,\n",
       "  'dateShortInterest': 1620950400,\n",
       "  'pegRatio': 1.45,\n",
       "  'lastCapGain': None,\n",
       "  'shortPercentOfFloat': 0.0057,\n",
       "  'sharesShortPriorMonth': 127937929,\n",
       "  'impliedSharesOutstanding': None,\n",
       "  'category': None,\n",
       "  'fiveYearAverageReturn': None,\n",
       "  'regularMarketPrice': 124.61,\n",
       "  'logo_url': 'https://logo.clearbit.com/apple.com'},\n",
       "                   Open        High         Low       Close     Volume  \\\n",
       " Date                                                                    \n",
       " 2021-04-29  136.238598  136.837586  132.225410  133.253662  151101000   \n",
       " 2021-04-30  131.556541  133.333521  130.847753  131.237091  109713200   \n",
       " 2021-05-03  131.816094  133.842666  131.606459  132.315247   75135100   \n",
       " 2021-05-04  130.967542  131.267036  126.485150  127.633202  137564700   \n",
       " 2021-05-05  128.980915  130.228796  127.753005  127.882790   84000900   \n",
       " 2021-05-06  127.673135  129.529982  126.914422  129.520004   78128300   \n",
       " 2021-05-07  130.850006  131.259995  129.479996  130.210007   78892700   \n",
       " 2021-05-10  129.410004  129.539993  126.809998  126.849998   88071200   \n",
       " 2021-05-11  123.500000  126.269997  122.769997  125.910004  126142800   \n",
       " 2021-05-12  123.400002  124.639999  122.250000  122.769997  112172300   \n",
       " 2021-05-13  124.580002  126.150002  124.260002  124.970001  105861300   \n",
       " 2021-05-14  126.250000  127.889999  125.849998  127.449997   81806500   \n",
       " 2021-05-17  126.820000  126.930000  125.169998  126.269997   74244600   \n",
       " 2021-05-18  126.559998  126.989998  124.779999  124.849998   63342900   \n",
       " 2021-05-19  123.160004  124.919998  122.860001  124.690002   92612000   \n",
       " 2021-05-20  125.230003  127.720001  125.099998  127.309998   76857100   \n",
       " 2021-05-21  127.820000  128.000000  125.209999  125.430000   79209300   \n",
       " 2021-05-24  126.010002  127.940002  125.940002  127.099998   63092900   \n",
       " 2021-05-25  127.820000  128.320007  126.320000  126.900002   72009500   \n",
       " 2021-05-26  126.959999  127.389999  126.419998  126.849998   56575900   \n",
       " 2021-05-27  126.440002  127.639999  125.080002  125.279999   94625600   \n",
       " 2021-05-28  125.570000  125.800003  124.550003  124.610001   71232700   \n",
       " \n",
       "             Dividends  Stock Splits  \n",
       " Date                                 \n",
       " 2021-04-29       0.00             0  \n",
       " 2021-04-30       0.00             0  \n",
       " 2021-05-03       0.00             0  \n",
       " 2021-05-04       0.00             0  \n",
       " 2021-05-05       0.00             0  \n",
       " 2021-05-06       0.00             0  \n",
       " 2021-05-07       0.22             0  \n",
       " 2021-05-10       0.00             0  \n",
       " 2021-05-11       0.00             0  \n",
       " 2021-05-12       0.00             0  \n",
       " 2021-05-13       0.00             0  \n",
       " 2021-05-14       0.00             0  \n",
       " 2021-05-17       0.00             0  \n",
       " 2021-05-18       0.00             0  \n",
       " 2021-05-19       0.00             0  \n",
       " 2021-05-20       0.00             0  \n",
       " 2021-05-21       0.00             0  \n",
       " 2021-05-24       0.00             0  \n",
       " 2021-05-25       0.00             0  \n",
       " 2021-05-26       0.00             0  \n",
       " 2021-05-27       0.00             0  \n",
       " 2021-05-28       0.00             0  ,\n",
       "                                     0                    1\n",
       " Earnings Date     2021-07-28 00:00:00  2021-08-02 00:00:00\n",
       " Earnings Average                 0.99                 0.99\n",
       " Earnings Low                     0.82                 0.82\n",
       " Earnings High                    1.16                 1.16\n",
       " Revenue Average           72873300000          72873300000\n",
       " Revenue Low               65682000000          65682000000\n",
       " Revenue High              77148000000          77148000000,\n",
       "                                        Firm      To Grade From Grade Action\n",
       " Date                                                                       \n",
       " 2012-02-09 08:17:00       Canaccord Genuity           Buy              main\n",
       " 2012-03-08 07:33:00          FBN Securities    Outperform              main\n",
       " 2012-03-13 06:08:00               Jefferies           Buy              main\n",
       " 2012-03-14 06:13:00          Morgan Stanley    Overweight              main\n",
       " 2012-03-14 08:21:00       Canaccord Genuity           Buy              main\n",
       " ...                                     ...           ...        ...    ...\n",
       " 2021-04-29 13:20:06           Credit Suisse       Neutral              main\n",
       " 2021-04-29 13:40:32  Monness, Crespi, Hardt           Buy              main\n",
       " 2021-04-29 14:01:59                Barclays  Equal-Weight              main\n",
       " 2021-05-19 10:59:15                Barclays  Equal-Weight              main\n",
       " 2021-05-28 11:25:16     New Street Research          Sell    Neutral   down\n",
       " \n",
       " [791 rows x 4 columns],\n",
       "             Dividends  Stock Splits\n",
       " Date                               \n",
       " 1987-05-11   0.000536           0.0\n",
       " 1987-06-16   0.000000           2.0\n",
       " 1987-08-10   0.000536           0.0\n",
       " 1987-11-17   0.000714           0.0\n",
       " 1988-02-12   0.000714           0.0\n",
       " ...               ...           ...\n",
       " 2020-08-07   0.205000           0.0\n",
       " 2020-08-31   0.000000           4.0\n",
       " 2020-11-06   0.205000           0.0\n",
       " 2021-02-05   0.205000           0.0\n",
       " 2021-05-07   0.220000           0.0\n",
       " \n",
       " [76 rows x 2 columns],\n",
       "                              2020-09-26    2019-09-28    2018-09-29  \\\n",
       " Total Liab                 2.585490e+11  2.480280e+11  2.585780e+11   \n",
       " Total Stockholder Equity   6.533900e+10  9.048800e+10  1.071470e+11   \n",
       " Other Current Liab         4.786700e+10  4.324200e+10  3.929300e+10   \n",
       " Total Assets               3.238880e+11  3.385160e+11  3.657250e+11   \n",
       " Common Stock               5.077900e+10  4.517400e+10  4.020100e+10   \n",
       " Other Current Assets       1.126400e+10  1.235200e+10  1.208700e+10   \n",
       " Retained Earnings          1.496600e+10  4.589800e+10  7.040000e+10   \n",
       " Other Liab                 4.610800e+10  5.050300e+10  4.891400e+10   \n",
       " Treasury Stock            -4.060000e+08 -5.840000e+08 -3.454000e+09   \n",
       " Other Assets               3.395200e+10  3.297800e+10  2.228300e+10   \n",
       " Cash                       3.801600e+10  4.884400e+10  2.591300e+10   \n",
       " Total Current Liabilities  1.053920e+11  1.057180e+11  1.159290e+11   \n",
       " Short Long Term Debt       8.773000e+09  1.026000e+10  8.784000e+09   \n",
       " Other Stockholder Equity  -4.060000e+08 -5.840000e+08 -3.454000e+09   \n",
       " Property Plant Equipment   4.533600e+10  3.737800e+10  4.130400e+10   \n",
       " Total Current Assets       1.437130e+11  1.628190e+11  1.313390e+11   \n",
       " Long Term Investments      1.008870e+11  1.053410e+11  1.707990e+11   \n",
       " Net Tangible Assets        6.533900e+10  9.048800e+10  1.071470e+11   \n",
       " Short Term Investments     5.292700e+10  5.171300e+10  4.038800e+10   \n",
       " Net Receivables            3.744500e+10  4.580400e+10  4.899500e+10   \n",
       " Long Term Debt             9.866700e+10  9.180700e+10  9.373500e+10   \n",
       " Inventory                  4.061000e+09  4.106000e+09  3.956000e+09   \n",
       " Accounts Payable           4.229600e+10  4.623600e+10  5.588800e+10   \n",
       " \n",
       "                              2017-09-30  \n",
       " Total Liab                 2.412720e+11  \n",
       " Total Stockholder Equity   1.340470e+11  \n",
       " Other Current Liab         3.809900e+10  \n",
       " Total Assets               3.753190e+11  \n",
       " Common Stock               3.586700e+10  \n",
       " Other Current Assets       1.393600e+10  \n",
       " Retained Earnings          9.833000e+10  \n",
       " Other Liab                 4.325100e+10  \n",
       " Treasury Stock            -1.500000e+08  \n",
       " Other Assets               1.817700e+10  \n",
       " Cash                       2.028900e+10  \n",
       " Total Current Liabilities  1.008140e+11  \n",
       " Short Long Term Debt       6.496000e+09  \n",
       " Other Stockholder Equity  -1.500000e+08  \n",
       " Property Plant Equipment   3.378300e+10  \n",
       " Total Current Assets       1.286450e+11  \n",
       " Long Term Investments      1.947140e+11  \n",
       " Net Tangible Assets        1.340470e+11  \n",
       " Short Term Investments     5.389200e+10  \n",
       " Net Receivables            3.567300e+10  \n",
       " Long Term Debt             9.720700e+10  \n",
       " Inventory                  4.855000e+09  \n",
       " Accounts Payable           4.424200e+10  ,\n",
       "                              2021-03-27    2020-12-26    2020-09-26  \\\n",
       " Total Liab                 2.679800e+11  2.878300e+11  2.585490e+11   \n",
       " Total Stockholder Equity   6.917800e+10  6.622400e+10  6.533900e+10   \n",
       " Other Current Liab         5.325500e+10  5.589900e+10  4.786700e+10   \n",
       " Total Assets               3.371580e+11  3.540540e+11  3.238880e+11   \n",
       " Common Stock               5.420300e+10  5.174400e+10  5.077900e+10   \n",
       " Other Current Assets       1.337600e+10  1.368700e+10  1.126400e+10   \n",
       " Retained Earnings          1.526100e+10  1.430100e+10  1.496600e+10   \n",
       " Other Liab                 3.985300e+10  4.304200e+10  4.610800e+10   \n",
       " Treasury Stock            -2.860000e+08  1.790000e+08 -4.060000e+08   \n",
       " Other Assets               4.333900e+10  4.327000e+10  3.395200e+10   \n",
       " Cash                       3.846600e+10  3.601000e+10  3.801600e+10   \n",
       " Total Current Liabilities  1.063850e+11  1.325070e+11  1.053920e+11   \n",
       " Short Long Term Debt       8.003000e+09  7.762000e+09  8.773000e+09   \n",
       " Other Stockholder Equity  -2.860000e+08  1.790000e+08 -4.060000e+08   \n",
       " Property Plant Equipment   3.781500e+10  3.793300e+10  4.533600e+10   \n",
       " Total Current Assets       1.214650e+11  1.541060e+11  1.437130e+11   \n",
       " Long Term Investments      1.345390e+11  1.187450e+11  1.008870e+11   \n",
       " Net Tangible Assets        6.917800e+10  6.622400e+10  6.533900e+10   \n",
       " Short Term Investments     3.136800e+10  4.081600e+10  5.292700e+10   \n",
       " Net Receivables            3.303600e+10  5.862000e+10  3.744500e+10   \n",
       " Long Term Debt             1.086420e+11  9.928100e+10  9.866700e+10   \n",
       " Inventory                  5.219000e+09  4.973000e+09  4.061000e+09   \n",
       " Accounts Payable           4.012700e+10  6.384600e+10  4.229600e+10   \n",
       " \n",
       "                              2020-06-27  \n",
       " Total Liab                 2.450620e+11  \n",
       " Total Stockholder Equity   7.228200e+10  \n",
       " Other Current Liab         3.994500e+10  \n",
       " Total Assets               3.173440e+11  \n",
       " Common Stock               4.869600e+10  \n",
       " Other Current Assets       1.098700e+10  \n",
       " Retained Earnings          2.413600e+10  \n",
       " Other Liab                 4.760600e+10  \n",
       " Treasury Stock            -5.500000e+08  \n",
       " Other Assets               3.283600e+10  \n",
       " Cash                       3.338300e+10  \n",
       " Total Current Liabilities  9.531800e+10  \n",
       " Short Long Term Debt       7.509000e+09  \n",
       " Other Stockholder Equity  -5.500000e+08  \n",
       " Property Plant Equipment   4.385100e+10  \n",
       " Total Current Assets       1.400650e+11  \n",
       " Long Term Investments      1.005920e+11  \n",
       " Net Tangible Assets        7.228200e+10  \n",
       " Short Term Investments     5.964200e+10  \n",
       " Net Receivables            3.207500e+10  \n",
       " Long Term Debt             9.404800e+10  \n",
       " Inventory                  3.978000e+09  \n",
       " Accounts Payable           3.532500e+10  ,\n",
       "                                                                  title  score  \\\n",
       " created                                                                         \n",
       " 2021-05-24 22:34:22  $AAPL Apple Inc. Beats Studio Buds A2513 (BCGA...      2   \n",
       " 2021-05-24 22:34:22  $AAPL Apple Inc. Beats Studio Buds A2512 (BCGA...      2   \n",
       " 2021-05-21 21:10:55  Stocks trending on Reddit and Twitter as of 21...     17   \n",
       " 2021-05-27 21:52:03      Your Morning Brief for Thursday, May 27, 2021     18   \n",
       " 2021-05-27 14:17:29                        Looking for help with xpath      3   \n",
       " ...                                                                ...    ...   \n",
       " 2021-04-30 19:48:29    Investing News Morning Roundup – April 30, 2021      3   \n",
       " 2021-05-05 04:19:57  Stockboomer[Alphaversion] 2021-05-04 - Stockbo...      1   \n",
       " 2021-05-03 17:24:48  In Apple versus Epic Games, courtroom battle i...      2   \n",
       " 2021-04-28 21:29:41  Apple to report quarterly results as investors...      2   \n",
       " 2021-04-29 02:40:30      German Authorities Are Not Happy with Binance      2   \n",
       " \n",
       "                     post_id       subreddit  \\\n",
       " created                                       \n",
       " 2021-05-24 22:34:22  njzddz           FCCID   \n",
       " 2021-05-24 22:34:22  njzddp           FCCID   \n",
       " 2021-05-21 21:10:55  nhs5nd     CassandraAI   \n",
       " 2021-05-27 21:52:03  nm7xjt   RedditTickers   \n",
       " 2021-05-27 14:17:29  nm138z          sheets   \n",
       " ...                     ...             ...   \n",
       " 2021-04-30 19:48:29  n1s52s      Qai_Invest   \n",
       " 2021-05-05 04:19:57  n4x5a6     stockboomer   \n",
       " 2021-05-03 17:24:48  n3rwl3  u_Soundarya_CH   \n",
       " 2021-04-28 21:29:41  n0etsg  u_Soundarya_CH   \n",
       " 2021-04-29 02:40:30  n0lncd      DeFiTeller   \n",
       " \n",
       "                                                                    url  \\\n",
       " created                                                                  \n",
       " 2021-05-24 22:34:22                          https://fccid.io/BCGA2513   \n",
       " 2021-05-24 22:34:22                          https://fccid.io/BCGA2512   \n",
       " 2021-05-21 21:10:55  https://www.reddit.com/r/CassandraAI/comments/...   \n",
       " 2021-05-27 21:52:03  https://www.reddit.com/r/RedditTickers/comment...   \n",
       " 2021-05-27 14:17:29  https://www.reddit.com/r/sheets/comments/nm138...   \n",
       " ...                                                                ...   \n",
       " 2021-04-30 19:48:29  https://www.reddit.com/r/Qai_Invest/comments/n...   \n",
       " 2021-05-05 04:19:57  https://www.reddit.com/r/stockboomer/comments/...   \n",
       " 2021-05-03 17:24:48  https://www.reddit.com/r/u_Soundarya_CH/commen...   \n",
       " 2021-04-28 21:29:41  https://www.reddit.com/r/u_Soundarya_CH/commen...   \n",
       " 2021-04-29 02:40:30  https://www.reddit.com/r/DeFiTeller/comments/n...   \n",
       " \n",
       "                      num_comments  \\\n",
       " created                             \n",
       " 2021-05-24 22:34:22             0   \n",
       " 2021-05-24 22:34:22             0   \n",
       " 2021-05-21 21:10:55             9   \n",
       " 2021-05-27 21:52:03             0   \n",
       " 2021-05-27 14:17:29             3   \n",
       " ...                           ...   \n",
       " 2021-04-30 19:48:29             0   \n",
       " 2021-05-05 04:19:57             0   \n",
       " 2021-05-03 17:24:48             0   \n",
       " 2021-04-28 21:29:41             0   \n",
       " 2021-04-29 02:40:30             0   \n",
       " \n",
       "                                                                   body  \n",
       " created                                                                 \n",
       " 2021-05-24 22:34:22                                                     \n",
       " 2021-05-24 22:34:22                                                     \n",
       " 2021-05-21 21:10:55  \\n\\n**Hello Humans, I'm here again!**\\n\\t\\n\\n\\...  \n",
       " 2021-05-27 21:52:03  #Market Overview\\n\\nThe S&P 500 is higher Thur...  \n",
       " 2021-05-27 14:17:29  Hi all,\\n\\nI've been trying to figure out how ...  \n",
       " ...                                                                ...  \n",
       " 2021-04-30 19:48:29  **Investing News Morning Roundup – April 30, 2...  \n",
       " 2021-05-05 04:19:57  Currently in early development state. Experime...  \n",
       " 2021-05-03 17:24:48  https://preview.redd.it/tc6qy35xivw61.jpg?widt...  \n",
       " 2021-04-28 21:29:41  https://preview.redd.it/88oplpp32xv61.jpg?widt...  \n",
       " 2021-04-29 02:40:30  BaFin or the Federal Financial Supervisory Aut...  \n",
       " \n",
       " [94 rows x 7 columns],\n",
       "                     post_id  \\\n",
       " created                       \n",
       " 2021-05-21 21:10:55  nhs5nd   \n",
       " 2021-05-21 21:34:28  nhs5nd   \n",
       " 2021-05-21 21:47:48  nhs5nd   \n",
       " 2021-05-21 23:12:41  nhs5nd   \n",
       " 2021-05-22 05:12:32  nhs5nd   \n",
       " ...                     ...   \n",
       " 2021-05-06 06:57:10  n5qauh   \n",
       " 2021-05-07 02:10:29  n5qauh   \n",
       " 2021-05-07 01:49:57  n5qauh   \n",
       " 2021-05-07 07:08:57  n5qauh   \n",
       " 2021-05-04 06:24:41  n471s6   \n",
       " \n",
       "                                                                   post  score  \\\n",
       " created                                                                         \n",
       " 2021-05-21 21:10:55  Stocks trending on Reddit and Twitter as of 21...      1   \n",
       " 2021-05-21 21:34:28  Stocks trending on Reddit and Twitter as of 21...      1   \n",
       " 2021-05-21 21:47:48  Stocks trending on Reddit and Twitter as of 21...      1   \n",
       " 2021-05-21 23:12:41  Stocks trending on Reddit and Twitter as of 21...      1   \n",
       " 2021-05-22 05:12:32  Stocks trending on Reddit and Twitter as of 21...      1   \n",
       " ...                                                                ...    ...   \n",
       " 2021-05-06 06:57:10  Stockboomer[Alphaversion] 2021-05-05 - Stockbo...      1   \n",
       " 2021-05-07 02:10:29  Stockboomer[Alphaversion] 2021-05-05 - Stockbo...      1   \n",
       " 2021-05-07 01:49:57  Stockboomer[Alphaversion] 2021-05-05 - Stockbo...      1   \n",
       " 2021-05-07 07:08:57  Stockboomer[Alphaversion] 2021-05-05 - Stockbo...      1   \n",
       " 2021-05-04 06:24:41  Here is a Market Recap for today Monday, May 3...      2   \n",
       " \n",
       "                     comment_id  \\\n",
       " created                          \n",
       " 2021-05-21 21:10:55    gyxu1pt   \n",
       " 2021-05-21 21:34:28    gyxwpzw   \n",
       " 2021-05-21 21:47:48    gyxyb2g   \n",
       " 2021-05-21 23:12:41    gyy9cwn   \n",
       " 2021-05-22 05:12:32    gyzkddp   \n",
       " ...                        ...   \n",
       " 2021-05-06 06:57:10    gx3336d   \n",
       " 2021-05-07 02:10:29    gx6fc0s   \n",
       " 2021-05-07 01:49:57    gx6capp   \n",
       " 2021-05-07 07:08:57    gx7l9mf   \n",
       " 2021-05-04 06:24:41    gwu61jo   \n",
       " \n",
       "                                                                   body  \n",
       " created                                                                 \n",
       " 2021-05-21 21:10:55  - Do not treat anything on this subreddit as f...  \n",
       " 2021-05-21 21:34:28                                          Mlfb!!!!!  \n",
       " 2021-05-21 21:47:48  $ONCT is on sale and has every indication of g...  \n",
       " 2021-05-21 23:12:41                                              $MLFB  \n",
       " 2021-05-22 05:12:32  Thats Awesome! i was a believer since its was ...  \n",
       " ...                                                                ...  \n",
       " 2021-05-06 06:57:10  Kind of a newb here, how do you read this data...  \n",
       " 2021-05-07 02:10:29  Yeah I got screwed over with COCP. Totally got...  \n",
       " 2021-05-07 01:49:57  Yeah i know currently quiet confusing. working...  \n",
       " 2021-05-07 07:08:57  Thanks for the explanation, I'll definitely ke...  \n",
       " 2021-05-04 06:24:41                                             Thanks  \n",
       " \n",
       " [415 rows x 5 columns])"
      ]
     },
     "metadata": {},
     "execution_count": 3
    }
   ],
   "source": [
    "ticket.looker('AAPL', 'all', 'relevance', 'month', True)"
   ]
  },
  {
   "cell_type": "code",
   "execution_count": 4,
   "metadata": {},
   "outputs": [
    {
     "output_type": "stream",
     "name": "stdout",
     "text": [
      "2021-05-28 22:16:36,042 loading file C:\\Users\\Softypo\\.flair\\models\\sentiment-en-mix-distillbert_4.pt\n"
     ]
    }
   ],
   "source": [
    "ticket.sentiment()"
   ]
  },
  {
   "cell_type": "code",
   "execution_count": 8,
   "metadata": {},
   "outputs": [
    {
     "output_type": "display_data",
     "data": {
      "application/vnd.plotly.v1+json": {
       "config": {
        "plotlyServerURL": "https://plot.ly"
       },
       "data": [
        {
         "close": [
          133.253662109375,
          131.23709106445312,
          132.31524658203125,
          127.6332015991211,
          127.8827896118164,
          129.52000427246094,
          130.2100067138672,
          126.8499984741211,
          125.91000366210938,
          122.7699966430664,
          124.97000122070312,
          127.44999694824219,
          126.2699966430664,
          124.8499984741211,
          124.69000244140625,
          127.30999755859375,
          125.43000030517578,
          127.0999984741211,
          126.9000015258789,
          126.8499984741211,
          125.27999877929688,
          124.61000061035156
         ],
         "high": [
          136.83758634959727,
          133.33352097202,
          133.8426661910414,
          131.2670362117806,
          130.2287956263908,
          129.5299818315274,
          131.25999450683594,
          129.5399932861328,
          126.2699966430664,
          124.63999938964844,
          126.1500015258789,
          127.88999938964844,
          126.93000030517578,
          126.98999786376953,
          124.91999816894531,
          127.72000122070312,
          128,
          127.94000244140625,
          128.32000732421875,
          127.38999938964844,
          127.63999938964844,
          125.80000305175781
         ],
         "low": [
          132.22540983410784,
          130.8477529935539,
          131.60645905216478,
          126.48515014551462,
          127.75300517555506,
          126.91442184568291,
          129.47999572753906,
          126.80999755859375,
          122.7699966430664,
          122.25,
          124.26000213623047,
          125.8499984741211,
          125.16999816894531,
          124.77999877929688,
          122.86000061035156,
          125.0999984741211,
          125.20999908447266,
          125.94000244140625,
          126.31999969482422,
          126.41999816894531,
          125.08000183105469,
          124.55000305175781
         ],
         "name": "AAPL",
         "opacity": 0.6,
         "open": [
          136.23859763862492,
          131.556540521976,
          131.81609442689125,
          130.96754187902857,
          128.98091522515494,
          127.67313523988604,
          130.85000610351562,
          129.41000366210938,
          123.5,
          123.4000015258789,
          124.58000183105469,
          126.25,
          126.81999969482422,
          126.55999755859375,
          123.16000366210938,
          125.2300033569336,
          127.81999969482422,
          126.01000213623047,
          127.81999969482422,
          126.95999908447266,
          126.44000244140625,
          125.56999969482422
         ],
         "type": "candlestick",
         "x": [
          "2021-04-29T00:00:00",
          "2021-04-30T00:00:00",
          "2021-05-03T00:00:00",
          "2021-05-04T00:00:00",
          "2021-05-05T00:00:00",
          "2021-05-06T00:00:00",
          "2021-05-07T00:00:00",
          "2021-05-10T00:00:00",
          "2021-05-11T00:00:00",
          "2021-05-12T00:00:00",
          "2021-05-13T00:00:00",
          "2021-05-14T00:00:00",
          "2021-05-17T00:00:00",
          "2021-05-18T00:00:00",
          "2021-05-19T00:00:00",
          "2021-05-20T00:00:00",
          "2021-05-21T00:00:00",
          "2021-05-24T00:00:00",
          "2021-05-25T00:00:00",
          "2021-05-26T00:00:00",
          "2021-05-27T00:00:00",
          "2021-05-28T00:00:00"
         ],
         "xaxis": "x",
         "yaxis": "y2"
        },
        {
         "line": {
          "color": "#ffffff",
          "width": 5
         },
         "name": "Stock price",
         "opacity": 0.6,
         "type": "scatter",
         "x": [
          "2021-04-29T00:00:00",
          "2021-04-30T00:00:00",
          "2021-05-03T00:00:00",
          "2021-05-04T00:00:00",
          "2021-05-05T00:00:00",
          "2021-05-06T00:00:00",
          "2021-05-07T00:00:00",
          "2021-05-10T00:00:00",
          "2021-05-11T00:00:00",
          "2021-05-12T00:00:00",
          "2021-05-13T00:00:00",
          "2021-05-14T00:00:00",
          "2021-05-17T00:00:00",
          "2021-05-18T00:00:00",
          "2021-05-19T00:00:00",
          "2021-05-20T00:00:00",
          "2021-05-21T00:00:00",
          "2021-05-24T00:00:00",
          "2021-05-25T00:00:00",
          "2021-05-26T00:00:00",
          "2021-05-27T00:00:00",
          "2021-05-28T00:00:00"
         ],
         "xaxis": "x",
         "y": [
          133.253662109375,
          131.23709106445312,
          132.31524658203125,
          127.6332015991211,
          127.8827896118164,
          129.52000427246094,
          130.2100067138672,
          126.8499984741211,
          125.91000366210938,
          122.7699966430664,
          124.97000122070312,
          127.44999694824219,
          126.2699966430664,
          124.8499984741211,
          124.69000244140625,
          127.30999755859375,
          125.43000030517578,
          127.0999984741211,
          126.9000015258789,
          126.8499984741211,
          125.27999877929688,
          124.61000061035156
         ],
         "yaxis": "y2"
        },
        {
         "base": 0,
         "marker": {
          "color": "lightgreen"
         },
         "name": "Positive Sentiment",
         "opacity": 0.6,
         "text": [
          null,
          0.62,
          0.35,
          0.75,
          null,
          0.11,
          null,
          0.87,
          0.04,
          0.6,
          null
         ],
         "textposition": "auto",
         "type": "bar",
         "x": [
          "2021-04-30T00:00:00",
          "2021-05-03T00:00:00",
          "2021-05-06T00:00:00",
          "2021-05-09T00:00:00",
          "2021-05-12T00:00:00",
          "2021-05-15T00:00:00",
          "2021-05-18T00:00:00",
          "2021-05-21T00:00:00",
          "2021-05-24T00:00:00",
          "2021-05-27T00:00:00",
          "2021-05-30T00:00:00"
         ],
         "xaxis": "x",
         "y": [
          null,
          0.6161137440758294,
          0.35135135135135137,
          0.7538461538461538,
          null,
          0.1125,
          null,
          0.8672985781990521,
          0.035856573705179286,
          0.5967741935483871,
          null
         ],
         "yaxis": "y"
        },
        {
         "base": 0,
         "marker": {
          "color": "crimson"
         },
         "name": "Negative Sentiment",
         "opacity": 0.6,
         "text": [
          -1,
          -0.38,
          -0.65,
          -0.25,
          -1,
          -0.89,
          -1,
          -0.13,
          -0.96,
          -0.4,
          -1
         ],
         "textposition": "auto",
         "type": "bar",
         "x": [
          "2021-04-30T00:00:00",
          "2021-05-03T00:00:00",
          "2021-05-06T00:00:00",
          "2021-05-09T00:00:00",
          "2021-05-12T00:00:00",
          "2021-05-15T00:00:00",
          "2021-05-18T00:00:00",
          "2021-05-21T00:00:00",
          "2021-05-24T00:00:00",
          "2021-05-27T00:00:00",
          "2021-05-30T00:00:00"
         ],
         "xaxis": "x",
         "y": [
          -1,
          -0.38388625592417064,
          -0.6486486486486487,
          -0.24615384615384617,
          -1,
          -0.8875,
          -1,
          -0.13270142180094788,
          -0.9641434262948207,
          -0.4032258064516129,
          -1
         ],
         "yaxis": "y"
        }
       ],
       "layout": {
        "barmode": "relative",
        "template": {
         "data": {
          "bar": [
           {
            "error_x": {
             "color": "#f2f5fa"
            },
            "error_y": {
             "color": "#f2f5fa"
            },
            "marker": {
             "line": {
              "color": "rgb(17,17,17)",
              "width": 0.5
             }
            },
            "type": "bar"
           }
          ],
          "barpolar": [
           {
            "marker": {
             "line": {
              "color": "rgb(17,17,17)",
              "width": 0.5
             }
            },
            "type": "barpolar"
           }
          ],
          "carpet": [
           {
            "aaxis": {
             "endlinecolor": "#A2B1C6",
             "gridcolor": "#506784",
             "linecolor": "#506784",
             "minorgridcolor": "#506784",
             "startlinecolor": "#A2B1C6"
            },
            "baxis": {
             "endlinecolor": "#A2B1C6",
             "gridcolor": "#506784",
             "linecolor": "#506784",
             "minorgridcolor": "#506784",
             "startlinecolor": "#A2B1C6"
            },
            "type": "carpet"
           }
          ],
          "choropleth": [
           {
            "colorbar": {
             "outlinewidth": 0,
             "ticks": ""
            },
            "type": "choropleth"
           }
          ],
          "contour": [
           {
            "colorbar": {
             "outlinewidth": 0,
             "ticks": ""
            },
            "colorscale": [
             [
              0,
              "#0d0887"
             ],
             [
              0.1111111111111111,
              "#46039f"
             ],
             [
              0.2222222222222222,
              "#7201a8"
             ],
             [
              0.3333333333333333,
              "#9c179e"
             ],
             [
              0.4444444444444444,
              "#bd3786"
             ],
             [
              0.5555555555555556,
              "#d8576b"
             ],
             [
              0.6666666666666666,
              "#ed7953"
             ],
             [
              0.7777777777777778,
              "#fb9f3a"
             ],
             [
              0.8888888888888888,
              "#fdca26"
             ],
             [
              1,
              "#f0f921"
             ]
            ],
            "type": "contour"
           }
          ],
          "contourcarpet": [
           {
            "colorbar": {
             "outlinewidth": 0,
             "ticks": ""
            },
            "type": "contourcarpet"
           }
          ],
          "heatmap": [
           {
            "colorbar": {
             "outlinewidth": 0,
             "ticks": ""
            },
            "colorscale": [
             [
              0,
              "#0d0887"
             ],
             [
              0.1111111111111111,
              "#46039f"
             ],
             [
              0.2222222222222222,
              "#7201a8"
             ],
             [
              0.3333333333333333,
              "#9c179e"
             ],
             [
              0.4444444444444444,
              "#bd3786"
             ],
             [
              0.5555555555555556,
              "#d8576b"
             ],
             [
              0.6666666666666666,
              "#ed7953"
             ],
             [
              0.7777777777777778,
              "#fb9f3a"
             ],
             [
              0.8888888888888888,
              "#fdca26"
             ],
             [
              1,
              "#f0f921"
             ]
            ],
            "type": "heatmap"
           }
          ],
          "heatmapgl": [
           {
            "colorbar": {
             "outlinewidth": 0,
             "ticks": ""
            },
            "colorscale": [
             [
              0,
              "#0d0887"
             ],
             [
              0.1111111111111111,
              "#46039f"
             ],
             [
              0.2222222222222222,
              "#7201a8"
             ],
             [
              0.3333333333333333,
              "#9c179e"
             ],
             [
              0.4444444444444444,
              "#bd3786"
             ],
             [
              0.5555555555555556,
              "#d8576b"
             ],
             [
              0.6666666666666666,
              "#ed7953"
             ],
             [
              0.7777777777777778,
              "#fb9f3a"
             ],
             [
              0.8888888888888888,
              "#fdca26"
             ],
             [
              1,
              "#f0f921"
             ]
            ],
            "type": "heatmapgl"
           }
          ],
          "histogram": [
           {
            "marker": {
             "colorbar": {
              "outlinewidth": 0,
              "ticks": ""
             }
            },
            "type": "histogram"
           }
          ],
          "histogram2d": [
           {
            "colorbar": {
             "outlinewidth": 0,
             "ticks": ""
            },
            "colorscale": [
             [
              0,
              "#0d0887"
             ],
             [
              0.1111111111111111,
              "#46039f"
             ],
             [
              0.2222222222222222,
              "#7201a8"
             ],
             [
              0.3333333333333333,
              "#9c179e"
             ],
             [
              0.4444444444444444,
              "#bd3786"
             ],
             [
              0.5555555555555556,
              "#d8576b"
             ],
             [
              0.6666666666666666,
              "#ed7953"
             ],
             [
              0.7777777777777778,
              "#fb9f3a"
             ],
             [
              0.8888888888888888,
              "#fdca26"
             ],
             [
              1,
              "#f0f921"
             ]
            ],
            "type": "histogram2d"
           }
          ],
          "histogram2dcontour": [
           {
            "colorbar": {
             "outlinewidth": 0,
             "ticks": ""
            },
            "colorscale": [
             [
              0,
              "#0d0887"
             ],
             [
              0.1111111111111111,
              "#46039f"
             ],
             [
              0.2222222222222222,
              "#7201a8"
             ],
             [
              0.3333333333333333,
              "#9c179e"
             ],
             [
              0.4444444444444444,
              "#bd3786"
             ],
             [
              0.5555555555555556,
              "#d8576b"
             ],
             [
              0.6666666666666666,
              "#ed7953"
             ],
             [
              0.7777777777777778,
              "#fb9f3a"
             ],
             [
              0.8888888888888888,
              "#fdca26"
             ],
             [
              1,
              "#f0f921"
             ]
            ],
            "type": "histogram2dcontour"
           }
          ],
          "mesh3d": [
           {
            "colorbar": {
             "outlinewidth": 0,
             "ticks": ""
            },
            "type": "mesh3d"
           }
          ],
          "parcoords": [
           {
            "line": {
             "colorbar": {
              "outlinewidth": 0,
              "ticks": ""
             }
            },
            "type": "parcoords"
           }
          ],
          "pie": [
           {
            "automargin": true,
            "type": "pie"
           }
          ],
          "scatter": [
           {
            "marker": {
             "line": {
              "color": "#283442"
             }
            },
            "type": "scatter"
           }
          ],
          "scatter3d": [
           {
            "line": {
             "colorbar": {
              "outlinewidth": 0,
              "ticks": ""
             }
            },
            "marker": {
             "colorbar": {
              "outlinewidth": 0,
              "ticks": ""
             }
            },
            "type": "scatter3d"
           }
          ],
          "scattercarpet": [
           {
            "marker": {
             "colorbar": {
              "outlinewidth": 0,
              "ticks": ""
             }
            },
            "type": "scattercarpet"
           }
          ],
          "scattergeo": [
           {
            "marker": {
             "colorbar": {
              "outlinewidth": 0,
              "ticks": ""
             }
            },
            "type": "scattergeo"
           }
          ],
          "scattergl": [
           {
            "marker": {
             "line": {
              "color": "#283442"
             }
            },
            "type": "scattergl"
           }
          ],
          "scattermapbox": [
           {
            "marker": {
             "colorbar": {
              "outlinewidth": 0,
              "ticks": ""
             }
            },
            "type": "scattermapbox"
           }
          ],
          "scatterpolar": [
           {
            "marker": {
             "colorbar": {
              "outlinewidth": 0,
              "ticks": ""
             }
            },
            "type": "scatterpolar"
           }
          ],
          "scatterpolargl": [
           {
            "marker": {
             "colorbar": {
              "outlinewidth": 0,
              "ticks": ""
             }
            },
            "type": "scatterpolargl"
           }
          ],
          "scatterternary": [
           {
            "marker": {
             "colorbar": {
              "outlinewidth": 0,
              "ticks": ""
             }
            },
            "type": "scatterternary"
           }
          ],
          "surface": [
           {
            "colorbar": {
             "outlinewidth": 0,
             "ticks": ""
            },
            "colorscale": [
             [
              0,
              "#0d0887"
             ],
             [
              0.1111111111111111,
              "#46039f"
             ],
             [
              0.2222222222222222,
              "#7201a8"
             ],
             [
              0.3333333333333333,
              "#9c179e"
             ],
             [
              0.4444444444444444,
              "#bd3786"
             ],
             [
              0.5555555555555556,
              "#d8576b"
             ],
             [
              0.6666666666666666,
              "#ed7953"
             ],
             [
              0.7777777777777778,
              "#fb9f3a"
             ],
             [
              0.8888888888888888,
              "#fdca26"
             ],
             [
              1,
              "#f0f921"
             ]
            ],
            "type": "surface"
           }
          ],
          "table": [
           {
            "cells": {
             "fill": {
              "color": "#506784"
             },
             "line": {
              "color": "rgb(17,17,17)"
             }
            },
            "header": {
             "fill": {
              "color": "#2a3f5f"
             },
             "line": {
              "color": "rgb(17,17,17)"
             }
            },
            "type": "table"
           }
          ]
         },
         "layout": {
          "annotationdefaults": {
           "arrowcolor": "#f2f5fa",
           "arrowhead": 0,
           "arrowwidth": 1
          },
          "autotypenumbers": "strict",
          "coloraxis": {
           "colorbar": {
            "outlinewidth": 0,
            "ticks": ""
           }
          },
          "colorscale": {
           "diverging": [
            [
             0,
             "#8e0152"
            ],
            [
             0.1,
             "#c51b7d"
            ],
            [
             0.2,
             "#de77ae"
            ],
            [
             0.3,
             "#f1b6da"
            ],
            [
             0.4,
             "#fde0ef"
            ],
            [
             0.5,
             "#f7f7f7"
            ],
            [
             0.6,
             "#e6f5d0"
            ],
            [
             0.7,
             "#b8e186"
            ],
            [
             0.8,
             "#7fbc41"
            ],
            [
             0.9,
             "#4d9221"
            ],
            [
             1,
             "#276419"
            ]
           ],
           "sequential": [
            [
             0,
             "#0d0887"
            ],
            [
             0.1111111111111111,
             "#46039f"
            ],
            [
             0.2222222222222222,
             "#7201a8"
            ],
            [
             0.3333333333333333,
             "#9c179e"
            ],
            [
             0.4444444444444444,
             "#bd3786"
            ],
            [
             0.5555555555555556,
             "#d8576b"
            ],
            [
             0.6666666666666666,
             "#ed7953"
            ],
            [
             0.7777777777777778,
             "#fb9f3a"
            ],
            [
             0.8888888888888888,
             "#fdca26"
            ],
            [
             1,
             "#f0f921"
            ]
           ],
           "sequentialminus": [
            [
             0,
             "#0d0887"
            ],
            [
             0.1111111111111111,
             "#46039f"
            ],
            [
             0.2222222222222222,
             "#7201a8"
            ],
            [
             0.3333333333333333,
             "#9c179e"
            ],
            [
             0.4444444444444444,
             "#bd3786"
            ],
            [
             0.5555555555555556,
             "#d8576b"
            ],
            [
             0.6666666666666666,
             "#ed7953"
            ],
            [
             0.7777777777777778,
             "#fb9f3a"
            ],
            [
             0.8888888888888888,
             "#fdca26"
            ],
            [
             1,
             "#f0f921"
            ]
           ]
          },
          "colorway": [
           "#636efa",
           "#EF553B",
           "#00cc96",
           "#ab63fa",
           "#FFA15A",
           "#19d3f3",
           "#FF6692",
           "#B6E880",
           "#FF97FF",
           "#FECB52"
          ],
          "font": {
           "color": "#f2f5fa"
          },
          "geo": {
           "bgcolor": "rgb(17,17,17)",
           "lakecolor": "rgb(17,17,17)",
           "landcolor": "rgb(17,17,17)",
           "showlakes": true,
           "showland": true,
           "subunitcolor": "#506784"
          },
          "hoverlabel": {
           "align": "left"
          },
          "hovermode": "closest",
          "mapbox": {
           "style": "dark"
          },
          "paper_bgcolor": "rgb(17,17,17)",
          "plot_bgcolor": "rgb(17,17,17)",
          "polar": {
           "angularaxis": {
            "gridcolor": "#506784",
            "linecolor": "#506784",
            "ticks": ""
           },
           "bgcolor": "rgb(17,17,17)",
           "radialaxis": {
            "gridcolor": "#506784",
            "linecolor": "#506784",
            "ticks": ""
           }
          },
          "scene": {
           "xaxis": {
            "backgroundcolor": "rgb(17,17,17)",
            "gridcolor": "#506784",
            "gridwidth": 2,
            "linecolor": "#506784",
            "showbackground": true,
            "ticks": "",
            "zerolinecolor": "#C8D4E3"
           },
           "yaxis": {
            "backgroundcolor": "rgb(17,17,17)",
            "gridcolor": "#506784",
            "gridwidth": 2,
            "linecolor": "#506784",
            "showbackground": true,
            "ticks": "",
            "zerolinecolor": "#C8D4E3"
           },
           "zaxis": {
            "backgroundcolor": "rgb(17,17,17)",
            "gridcolor": "#506784",
            "gridwidth": 2,
            "linecolor": "#506784",
            "showbackground": true,
            "ticks": "",
            "zerolinecolor": "#C8D4E3"
           }
          },
          "shapedefaults": {
           "line": {
            "color": "#f2f5fa"
           }
          },
          "sliderdefaults": {
           "bgcolor": "#C8D4E3",
           "bordercolor": "rgb(17,17,17)",
           "borderwidth": 1,
           "tickwidth": 0
          },
          "ternary": {
           "aaxis": {
            "gridcolor": "#506784",
            "linecolor": "#506784",
            "ticks": ""
           },
           "baxis": {
            "gridcolor": "#506784",
            "linecolor": "#506784",
            "ticks": ""
           },
           "bgcolor": "rgb(17,17,17)",
           "caxis": {
            "gridcolor": "#506784",
            "linecolor": "#506784",
            "ticks": ""
           }
          },
          "title": {
           "x": 0.05
          },
          "updatemenudefaults": {
           "bgcolor": "#506784",
           "borderwidth": 0
          },
          "xaxis": {
           "automargin": true,
           "gridcolor": "#283442",
           "linecolor": "#506784",
           "ticks": "",
           "title": {
            "standoff": 15
           },
           "zerolinecolor": "#283442",
           "zerolinewidth": 2
          },
          "yaxis": {
           "automargin": true,
           "gridcolor": "#283442",
           "linecolor": "#506784",
           "ticks": "",
           "title": {
            "standoff": 15
           },
           "zerolinecolor": "#283442",
           "zerolinewidth": 2
          }
         }
        },
        "title": {
         "text": "124.61 USD, Apple Inc., AAPL, NMS"
        },
        "xaxis": {
         "anchor": "y",
         "domain": [
          0,
          0.94
         ],
         "rangeslider": {
          "visible": false
         }
        },
        "yaxis": {
         "anchor": "x",
         "domain": [
          0,
          1
         ],
         "showgrid": false,
         "title": {
          "text": "Stock Price"
         }
        },
        "yaxis2": {
         "anchor": "x",
         "overlaying": "y",
         "showgrid": false,
         "side": "right"
        }
       }
      }
     },
     "metadata": {}
    }
   ],
   "source": [
    "ticket.analyse(period='3d')"
   ]
  },
  {
   "cell_type": "code",
   "execution_count": 18,
   "metadata": {},
   "outputs": [],
   "source": [
    "posts = ticket.reddit_posts\n",
    "stock_data = ticket.stock_data\n",
    "stock_info = ticket.stock_info"
   ]
  },
  {
   "cell_type": "code",
   "execution_count": 3,
   "metadata": {},
   "outputs": [],
   "source": [
    "stock_info, stock_data, stock_c, stock_r, stock_a, stock_b, stock_qb = advf.y_stock_data('TSLA', '7d', '1h')\n",
    "posts, comments = advf.pq([stock_info['symbol']+' '+stock_info['longName']], 'all', 'relevance', 'week', True)"
   ]
  },
  {
   "cell_type": "code",
   "execution_count": 4,
   "metadata": {},
   "outputs": [
    {
     "output_type": "stream",
     "name": "stdout",
     "text": [
      "2021-05-28 20:25:26,190 loading file C:\\Users\\Softypo\\.flair\\models\\sentiment-en-mix-distillbert_4.pt\n"
     ]
    }
   ],
   "source": [
    "advf.sentiment(posts, comments)"
   ]
  },
  {
   "cell_type": "code",
   "execution_count": 50,
   "metadata": {},
   "outputs": [],
   "source": [
    "#from stock_adv_Functions import looker"
   ]
  },
  {
   "cell_type": "code",
   "execution_count": 51,
   "metadata": {},
   "outputs": [],
   "source": [
    "#stock_name, subredits, sort, date, comments = 'TSLA', 'allstocks', 'relevance', 'month', True\n",
    "\n",
    "#stock_info, stock_data, stock_c, stock_r, stock_a, stock_b, stock_qb, posts, comments = looker(stock_name, subredits, sort, date, comments)"
   ]
  },
  {
   "cell_type": "code",
   "execution_count": 22,
   "metadata": {},
   "outputs": [
    {
     "output_type": "display_data",
     "data": {
      "application/vnd.plotly.v1+json": {
       "config": {
        "plotlyServerURL": "https://plot.ly"
       },
       "data": [
        {
         "close": [
          133.253662109375,
          131.23709106445312,
          132.31524658203125,
          127.6332015991211,
          127.8827896118164,
          129.52000427246094,
          130.2100067138672,
          126.8499984741211,
          125.91000366210938,
          122.7699966430664,
          124.97000122070312,
          127.44999694824219,
          126.2699966430664,
          124.8499984741211,
          124.69000244140625,
          127.30999755859375,
          125.43000030517578,
          127.0999984741211,
          126.9000015258789,
          126.8499984741211,
          125.27999877929688,
          124.61000061035156
         ],
         "high": [
          136.83758634959727,
          133.33352097202,
          133.8426661910414,
          131.2670362117806,
          130.2287956263908,
          129.5299818315274,
          131.25999450683594,
          129.5399932861328,
          126.2699966430664,
          124.63999938964844,
          126.1500015258789,
          127.88999938964844,
          126.93000030517578,
          126.98999786376953,
          124.91999816894531,
          127.72000122070312,
          128,
          127.94000244140625,
          128.32000732421875,
          127.38999938964844,
          127.63999938964844,
          125.80000305175781
         ],
         "low": [
          132.22540983410784,
          130.8477529935539,
          131.60645905216478,
          126.48515014551462,
          127.75300517555506,
          126.91442184568291,
          129.47999572753906,
          126.80999755859375,
          122.7699966430664,
          122.25,
          124.26000213623047,
          125.8499984741211,
          125.16999816894531,
          124.77999877929688,
          122.86000061035156,
          125.0999984741211,
          125.20999908447266,
          125.94000244140625,
          126.31999969482422,
          126.41999816894531,
          125.08000183105469,
          124.55000305175781
         ],
         "name": "AAPL",
         "opacity": 0.6,
         "open": [
          136.23859763862492,
          131.556540521976,
          131.81609442689125,
          130.96754187902857,
          128.98091522515494,
          127.67313523988604,
          130.85000610351562,
          129.41000366210938,
          123.5,
          123.4000015258789,
          124.58000183105469,
          126.25,
          126.81999969482422,
          126.55999755859375,
          123.16000366210938,
          125.2300033569336,
          127.81999969482422,
          126.01000213623047,
          127.81999969482422,
          126.95999908447266,
          126.44000244140625,
          125.56999969482422
         ],
         "type": "candlestick",
         "x": [
          "2021-04-29T00:00:00",
          "2021-04-30T00:00:00",
          "2021-05-03T00:00:00",
          "2021-05-04T00:00:00",
          "2021-05-05T00:00:00",
          "2021-05-06T00:00:00",
          "2021-05-07T00:00:00",
          "2021-05-10T00:00:00",
          "2021-05-11T00:00:00",
          "2021-05-12T00:00:00",
          "2021-05-13T00:00:00",
          "2021-05-14T00:00:00",
          "2021-05-17T00:00:00",
          "2021-05-18T00:00:00",
          "2021-05-19T00:00:00",
          "2021-05-20T00:00:00",
          "2021-05-21T00:00:00",
          "2021-05-24T00:00:00",
          "2021-05-25T00:00:00",
          "2021-05-26T00:00:00",
          "2021-05-27T00:00:00",
          "2021-05-28T00:00:00"
         ],
         "xaxis": "x",
         "yaxis": "y2"
        },
        {
         "line": {
          "color": "#ffffff",
          "width": 5
         },
         "name": "Stock price",
         "opacity": 0.6,
         "type": "scatter",
         "x": [
          "2021-04-29T00:00:00",
          "2021-04-30T00:00:00",
          "2021-05-03T00:00:00",
          "2021-05-04T00:00:00",
          "2021-05-05T00:00:00",
          "2021-05-06T00:00:00",
          "2021-05-07T00:00:00",
          "2021-05-10T00:00:00",
          "2021-05-11T00:00:00",
          "2021-05-12T00:00:00",
          "2021-05-13T00:00:00",
          "2021-05-14T00:00:00",
          "2021-05-17T00:00:00",
          "2021-05-18T00:00:00",
          "2021-05-19T00:00:00",
          "2021-05-20T00:00:00",
          "2021-05-21T00:00:00",
          "2021-05-24T00:00:00",
          "2021-05-25T00:00:00",
          "2021-05-26T00:00:00",
          "2021-05-27T00:00:00",
          "2021-05-28T00:00:00"
         ],
         "xaxis": "x",
         "y": [
          133.253662109375,
          131.23709106445312,
          132.31524658203125,
          127.6332015991211,
          127.8827896118164,
          129.52000427246094,
          130.2100067138672,
          126.8499984741211,
          125.91000366210938,
          122.7699966430664,
          124.97000122070312,
          127.44999694824219,
          126.2699966430664,
          124.8499984741211,
          124.69000244140625,
          127.30999755859375,
          125.43000030517578,
          127.0999984741211,
          126.9000015258789,
          126.8499984741211,
          125.27999877929688,
          124.61000061035156
         ],
         "yaxis": "y2"
        },
        {
         "base": 0,
         "marker": {
          "color": "lightgreen"
         },
         "name": "Positive Sentiment",
         "opacity": 0.6,
         "text": [
          null,
          null,
          0.71,
          0.49,
          0.42,
          0.73,
          null,
          null,
          0.17,
          null,
          0.59,
          0.77,
          0.44,
          0.11,
          0.55,
          0.39
         ],
         "textposition": "auto",
         "type": "bar",
         "x": [
          "2021-04-29T00:00:00",
          "2021-05-01T00:00:00",
          "2021-05-03T00:00:00",
          "2021-05-05T00:00:00",
          "2021-05-07T00:00:00",
          "2021-05-09T00:00:00",
          "2021-05-11T00:00:00",
          "2021-05-13T00:00:00",
          "2021-05-15T00:00:00",
          "2021-05-17T00:00:00",
          "2021-05-19T00:00:00",
          "2021-05-21T00:00:00",
          "2021-05-23T00:00:00",
          "2021-05-25T00:00:00",
          "2021-05-27T00:00:00",
          "2021-05-29T00:00:00"
         ],
         "xaxis": "x",
         "y": [
          null,
          null,
          0.7075471698113207,
          0.4943820224719101,
          0.423728813559322,
          0.7301587301587301,
          null,
          null,
          0.1744186046511628,
          null,
          0.5857142857142857,
          0.7708333333333334,
          0.4375,
          0.11009174311926606,
          0.5454545454545454,
          0.391304347826087
         ],
         "yaxis": "y"
        },
        {
         "base": 0,
         "marker": {
          "color": "crimson"
         },
         "name": "Negative Sentiment",
         "opacity": 0.6,
         "text": [
          -1,
          -1,
          -0.29,
          -0.51,
          -0.58,
          -0.27,
          -1,
          -1,
          -0.83,
          -1,
          -0.41,
          -0.23,
          -0.56,
          -0.89,
          -0.45,
          -0.61
         ],
         "textposition": "auto",
         "type": "bar",
         "x": [
          "2021-04-29T00:00:00",
          "2021-05-01T00:00:00",
          "2021-05-03T00:00:00",
          "2021-05-05T00:00:00",
          "2021-05-07T00:00:00",
          "2021-05-09T00:00:00",
          "2021-05-11T00:00:00",
          "2021-05-13T00:00:00",
          "2021-05-15T00:00:00",
          "2021-05-17T00:00:00",
          "2021-05-19T00:00:00",
          "2021-05-21T00:00:00",
          "2021-05-23T00:00:00",
          "2021-05-25T00:00:00",
          "2021-05-27T00:00:00",
          "2021-05-29T00:00:00"
         ],
         "xaxis": "x",
         "y": [
          -1,
          -1,
          -0.29245283018867924,
          -0.5056179775280899,
          -0.576271186440678,
          -0.2698412698412698,
          -1,
          -1,
          -0.8255813953488372,
          -1,
          -0.4142857142857143,
          -0.22916666666666666,
          -0.5625,
          -0.8899082568807339,
          -0.45454545454545453,
          -0.6086956521739131
         ],
         "yaxis": "y"
        }
       ],
       "layout": {
        "barmode": "relative",
        "template": {
         "data": {
          "bar": [
           {
            "error_x": {
             "color": "#f2f5fa"
            },
            "error_y": {
             "color": "#f2f5fa"
            },
            "marker": {
             "line": {
              "color": "rgb(17,17,17)",
              "width": 0.5
             }
            },
            "type": "bar"
           }
          ],
          "barpolar": [
           {
            "marker": {
             "line": {
              "color": "rgb(17,17,17)",
              "width": 0.5
             }
            },
            "type": "barpolar"
           }
          ],
          "carpet": [
           {
            "aaxis": {
             "endlinecolor": "#A2B1C6",
             "gridcolor": "#506784",
             "linecolor": "#506784",
             "minorgridcolor": "#506784",
             "startlinecolor": "#A2B1C6"
            },
            "baxis": {
             "endlinecolor": "#A2B1C6",
             "gridcolor": "#506784",
             "linecolor": "#506784",
             "minorgridcolor": "#506784",
             "startlinecolor": "#A2B1C6"
            },
            "type": "carpet"
           }
          ],
          "choropleth": [
           {
            "colorbar": {
             "outlinewidth": 0,
             "ticks": ""
            },
            "type": "choropleth"
           }
          ],
          "contour": [
           {
            "colorbar": {
             "outlinewidth": 0,
             "ticks": ""
            },
            "colorscale": [
             [
              0,
              "#0d0887"
             ],
             [
              0.1111111111111111,
              "#46039f"
             ],
             [
              0.2222222222222222,
              "#7201a8"
             ],
             [
              0.3333333333333333,
              "#9c179e"
             ],
             [
              0.4444444444444444,
              "#bd3786"
             ],
             [
              0.5555555555555556,
              "#d8576b"
             ],
             [
              0.6666666666666666,
              "#ed7953"
             ],
             [
              0.7777777777777778,
              "#fb9f3a"
             ],
             [
              0.8888888888888888,
              "#fdca26"
             ],
             [
              1,
              "#f0f921"
             ]
            ],
            "type": "contour"
           }
          ],
          "contourcarpet": [
           {
            "colorbar": {
             "outlinewidth": 0,
             "ticks": ""
            },
            "type": "contourcarpet"
           }
          ],
          "heatmap": [
           {
            "colorbar": {
             "outlinewidth": 0,
             "ticks": ""
            },
            "colorscale": [
             [
              0,
              "#0d0887"
             ],
             [
              0.1111111111111111,
              "#46039f"
             ],
             [
              0.2222222222222222,
              "#7201a8"
             ],
             [
              0.3333333333333333,
              "#9c179e"
             ],
             [
              0.4444444444444444,
              "#bd3786"
             ],
             [
              0.5555555555555556,
              "#d8576b"
             ],
             [
              0.6666666666666666,
              "#ed7953"
             ],
             [
              0.7777777777777778,
              "#fb9f3a"
             ],
             [
              0.8888888888888888,
              "#fdca26"
             ],
             [
              1,
              "#f0f921"
             ]
            ],
            "type": "heatmap"
           }
          ],
          "heatmapgl": [
           {
            "colorbar": {
             "outlinewidth": 0,
             "ticks": ""
            },
            "colorscale": [
             [
              0,
              "#0d0887"
             ],
             [
              0.1111111111111111,
              "#46039f"
             ],
             [
              0.2222222222222222,
              "#7201a8"
             ],
             [
              0.3333333333333333,
              "#9c179e"
             ],
             [
              0.4444444444444444,
              "#bd3786"
             ],
             [
              0.5555555555555556,
              "#d8576b"
             ],
             [
              0.6666666666666666,
              "#ed7953"
             ],
             [
              0.7777777777777778,
              "#fb9f3a"
             ],
             [
              0.8888888888888888,
              "#fdca26"
             ],
             [
              1,
              "#f0f921"
             ]
            ],
            "type": "heatmapgl"
           }
          ],
          "histogram": [
           {
            "marker": {
             "colorbar": {
              "outlinewidth": 0,
              "ticks": ""
             }
            },
            "type": "histogram"
           }
          ],
          "histogram2d": [
           {
            "colorbar": {
             "outlinewidth": 0,
             "ticks": ""
            },
            "colorscale": [
             [
              0,
              "#0d0887"
             ],
             [
              0.1111111111111111,
              "#46039f"
             ],
             [
              0.2222222222222222,
              "#7201a8"
             ],
             [
              0.3333333333333333,
              "#9c179e"
             ],
             [
              0.4444444444444444,
              "#bd3786"
             ],
             [
              0.5555555555555556,
              "#d8576b"
             ],
             [
              0.6666666666666666,
              "#ed7953"
             ],
             [
              0.7777777777777778,
              "#fb9f3a"
             ],
             [
              0.8888888888888888,
              "#fdca26"
             ],
             [
              1,
              "#f0f921"
             ]
            ],
            "type": "histogram2d"
           }
          ],
          "histogram2dcontour": [
           {
            "colorbar": {
             "outlinewidth": 0,
             "ticks": ""
            },
            "colorscale": [
             [
              0,
              "#0d0887"
             ],
             [
              0.1111111111111111,
              "#46039f"
             ],
             [
              0.2222222222222222,
              "#7201a8"
             ],
             [
              0.3333333333333333,
              "#9c179e"
             ],
             [
              0.4444444444444444,
              "#bd3786"
             ],
             [
              0.5555555555555556,
              "#d8576b"
             ],
             [
              0.6666666666666666,
              "#ed7953"
             ],
             [
              0.7777777777777778,
              "#fb9f3a"
             ],
             [
              0.8888888888888888,
              "#fdca26"
             ],
             [
              1,
              "#f0f921"
             ]
            ],
            "type": "histogram2dcontour"
           }
          ],
          "mesh3d": [
           {
            "colorbar": {
             "outlinewidth": 0,
             "ticks": ""
            },
            "type": "mesh3d"
           }
          ],
          "parcoords": [
           {
            "line": {
             "colorbar": {
              "outlinewidth": 0,
              "ticks": ""
             }
            },
            "type": "parcoords"
           }
          ],
          "pie": [
           {
            "automargin": true,
            "type": "pie"
           }
          ],
          "scatter": [
           {
            "marker": {
             "line": {
              "color": "#283442"
             }
            },
            "type": "scatter"
           }
          ],
          "scatter3d": [
           {
            "line": {
             "colorbar": {
              "outlinewidth": 0,
              "ticks": ""
             }
            },
            "marker": {
             "colorbar": {
              "outlinewidth": 0,
              "ticks": ""
             }
            },
            "type": "scatter3d"
           }
          ],
          "scattercarpet": [
           {
            "marker": {
             "colorbar": {
              "outlinewidth": 0,
              "ticks": ""
             }
            },
            "type": "scattercarpet"
           }
          ],
          "scattergeo": [
           {
            "marker": {
             "colorbar": {
              "outlinewidth": 0,
              "ticks": ""
             }
            },
            "type": "scattergeo"
           }
          ],
          "scattergl": [
           {
            "marker": {
             "line": {
              "color": "#283442"
             }
            },
            "type": "scattergl"
           }
          ],
          "scattermapbox": [
           {
            "marker": {
             "colorbar": {
              "outlinewidth": 0,
              "ticks": ""
             }
            },
            "type": "scattermapbox"
           }
          ],
          "scatterpolar": [
           {
            "marker": {
             "colorbar": {
              "outlinewidth": 0,
              "ticks": ""
             }
            },
            "type": "scatterpolar"
           }
          ],
          "scatterpolargl": [
           {
            "marker": {
             "colorbar": {
              "outlinewidth": 0,
              "ticks": ""
             }
            },
            "type": "scatterpolargl"
           }
          ],
          "scatterternary": [
           {
            "marker": {
             "colorbar": {
              "outlinewidth": 0,
              "ticks": ""
             }
            },
            "type": "scatterternary"
           }
          ],
          "surface": [
           {
            "colorbar": {
             "outlinewidth": 0,
             "ticks": ""
            },
            "colorscale": [
             [
              0,
              "#0d0887"
             ],
             [
              0.1111111111111111,
              "#46039f"
             ],
             [
              0.2222222222222222,
              "#7201a8"
             ],
             [
              0.3333333333333333,
              "#9c179e"
             ],
             [
              0.4444444444444444,
              "#bd3786"
             ],
             [
              0.5555555555555556,
              "#d8576b"
             ],
             [
              0.6666666666666666,
              "#ed7953"
             ],
             [
              0.7777777777777778,
              "#fb9f3a"
             ],
             [
              0.8888888888888888,
              "#fdca26"
             ],
             [
              1,
              "#f0f921"
             ]
            ],
            "type": "surface"
           }
          ],
          "table": [
           {
            "cells": {
             "fill": {
              "color": "#506784"
             },
             "line": {
              "color": "rgb(17,17,17)"
             }
            },
            "header": {
             "fill": {
              "color": "#2a3f5f"
             },
             "line": {
              "color": "rgb(17,17,17)"
             }
            },
            "type": "table"
           }
          ]
         },
         "layout": {
          "annotationdefaults": {
           "arrowcolor": "#f2f5fa",
           "arrowhead": 0,
           "arrowwidth": 1
          },
          "autotypenumbers": "strict",
          "coloraxis": {
           "colorbar": {
            "outlinewidth": 0,
            "ticks": ""
           }
          },
          "colorscale": {
           "diverging": [
            [
             0,
             "#8e0152"
            ],
            [
             0.1,
             "#c51b7d"
            ],
            [
             0.2,
             "#de77ae"
            ],
            [
             0.3,
             "#f1b6da"
            ],
            [
             0.4,
             "#fde0ef"
            ],
            [
             0.5,
             "#f7f7f7"
            ],
            [
             0.6,
             "#e6f5d0"
            ],
            [
             0.7,
             "#b8e186"
            ],
            [
             0.8,
             "#7fbc41"
            ],
            [
             0.9,
             "#4d9221"
            ],
            [
             1,
             "#276419"
            ]
           ],
           "sequential": [
            [
             0,
             "#0d0887"
            ],
            [
             0.1111111111111111,
             "#46039f"
            ],
            [
             0.2222222222222222,
             "#7201a8"
            ],
            [
             0.3333333333333333,
             "#9c179e"
            ],
            [
             0.4444444444444444,
             "#bd3786"
            ],
            [
             0.5555555555555556,
             "#d8576b"
            ],
            [
             0.6666666666666666,
             "#ed7953"
            ],
            [
             0.7777777777777778,
             "#fb9f3a"
            ],
            [
             0.8888888888888888,
             "#fdca26"
            ],
            [
             1,
             "#f0f921"
            ]
           ],
           "sequentialminus": [
            [
             0,
             "#0d0887"
            ],
            [
             0.1111111111111111,
             "#46039f"
            ],
            [
             0.2222222222222222,
             "#7201a8"
            ],
            [
             0.3333333333333333,
             "#9c179e"
            ],
            [
             0.4444444444444444,
             "#bd3786"
            ],
            [
             0.5555555555555556,
             "#d8576b"
            ],
            [
             0.6666666666666666,
             "#ed7953"
            ],
            [
             0.7777777777777778,
             "#fb9f3a"
            ],
            [
             0.8888888888888888,
             "#fdca26"
            ],
            [
             1,
             "#f0f921"
            ]
           ]
          },
          "colorway": [
           "#636efa",
           "#EF553B",
           "#00cc96",
           "#ab63fa",
           "#FFA15A",
           "#19d3f3",
           "#FF6692",
           "#B6E880",
           "#FF97FF",
           "#FECB52"
          ],
          "font": {
           "color": "#f2f5fa"
          },
          "geo": {
           "bgcolor": "rgb(17,17,17)",
           "lakecolor": "rgb(17,17,17)",
           "landcolor": "rgb(17,17,17)",
           "showlakes": true,
           "showland": true,
           "subunitcolor": "#506784"
          },
          "hoverlabel": {
           "align": "left"
          },
          "hovermode": "closest",
          "mapbox": {
           "style": "dark"
          },
          "paper_bgcolor": "rgb(17,17,17)",
          "plot_bgcolor": "rgb(17,17,17)",
          "polar": {
           "angularaxis": {
            "gridcolor": "#506784",
            "linecolor": "#506784",
            "ticks": ""
           },
           "bgcolor": "rgb(17,17,17)",
           "radialaxis": {
            "gridcolor": "#506784",
            "linecolor": "#506784",
            "ticks": ""
           }
          },
          "scene": {
           "xaxis": {
            "backgroundcolor": "rgb(17,17,17)",
            "gridcolor": "#506784",
            "gridwidth": 2,
            "linecolor": "#506784",
            "showbackground": true,
            "ticks": "",
            "zerolinecolor": "#C8D4E3"
           },
           "yaxis": {
            "backgroundcolor": "rgb(17,17,17)",
            "gridcolor": "#506784",
            "gridwidth": 2,
            "linecolor": "#506784",
            "showbackground": true,
            "ticks": "",
            "zerolinecolor": "#C8D4E3"
           },
           "zaxis": {
            "backgroundcolor": "rgb(17,17,17)",
            "gridcolor": "#506784",
            "gridwidth": 2,
            "linecolor": "#506784",
            "showbackground": true,
            "ticks": "",
            "zerolinecolor": "#C8D4E3"
           }
          },
          "shapedefaults": {
           "line": {
            "color": "#f2f5fa"
           }
          },
          "sliderdefaults": {
           "bgcolor": "#C8D4E3",
           "bordercolor": "rgb(17,17,17)",
           "borderwidth": 1,
           "tickwidth": 0
          },
          "ternary": {
           "aaxis": {
            "gridcolor": "#506784",
            "linecolor": "#506784",
            "ticks": ""
           },
           "baxis": {
            "gridcolor": "#506784",
            "linecolor": "#506784",
            "ticks": ""
           },
           "bgcolor": "rgb(17,17,17)",
           "caxis": {
            "gridcolor": "#506784",
            "linecolor": "#506784",
            "ticks": ""
           }
          },
          "title": {
           "x": 0.05
          },
          "updatemenudefaults": {
           "bgcolor": "#506784",
           "borderwidth": 0
          },
          "xaxis": {
           "automargin": true,
           "gridcolor": "#283442",
           "linecolor": "#506784",
           "ticks": "",
           "title": {
            "standoff": 15
           },
           "zerolinecolor": "#283442",
           "zerolinewidth": 2
          },
          "yaxis": {
           "automargin": true,
           "gridcolor": "#283442",
           "linecolor": "#506784",
           "ticks": "",
           "title": {
            "standoff": 15
           },
           "zerolinecolor": "#283442",
           "zerolinewidth": 2
          }
         }
        },
        "title": {
         "text": "124.61 USD, Apple Inc., AAPL, NMS"
        },
        "xaxis": {
         "anchor": "y",
         "domain": [
          0,
          0.94
         ],
         "rangeslider": {
          "visible": false
         }
        },
        "yaxis": {
         "anchor": "x",
         "domain": [
          0,
          1
         ],
         "showgrid": false,
         "title": {
          "text": "Stock Price"
         }
        },
        "yaxis2": {
         "anchor": "x",
         "overlaying": "y",
         "showgrid": false,
         "side": "right"
        }
       }
      }
     },
     "metadata": {}
    }
   ],
   "source": [
    "import plotly.graph_objects as go\n",
    "from plotly.subplots import make_subplots\n",
    "\n",
    "#idea based\n",
    "posts['score'] = posts['score']+1\n",
    "period = '2d'\n",
    "sentiment = 'combined_sentiment'\n",
    "sentiment_prob = 'combined_score'\n",
    "posts_all_s = posts['score'].loc[posts[sentiment] != np.nan].groupby(posts.loc[posts[sentiment] != np.nan].index.round(period)).sum()\n",
    "\n",
    "pos_s = posts['score'].loc[posts[sentiment] == 'POSITIVE'].groupby(posts.loc[posts[sentiment] == 'POSITIVE'].index.round(period)).sum()\n",
    "pos_r = pos_s/posts_all_s\n",
    "pos_p = posts[sentiment].loc[posts[sentiment] == 'POSITIVE'].groupby(posts.loc[posts[sentiment] == 'POSITIVE'].index.round(period)).count().mean()\n",
    "\n",
    "neg_s = posts['score'].loc[posts[sentiment] == 'NEGATIVE'].groupby(posts.loc[posts[sentiment] == 'NEGATIVE'].index.round(period)).sum()\n",
    "neg_r = neg_s/posts_all_s*-1\n",
    "neg_p = posts[sentiment].loc[posts[sentiment] == 'NEGATIVE'].groupby(posts.loc[posts[sentiment] == 'NEGATIVE'].index.round(period)).count().mean()\n",
    "\n",
    "date = 'week'\n",
    "\n",
    "# Create figure with secondary y-axis\n",
    "fig = make_subplots(specs=[[{\"secondary_y\": True}]])\n",
    "\n",
    "#figures\n",
    "fig.add_trace(go.Candlestick(x=stock_data.index,\n",
    "                open=stock_data['Open'],\n",
    "                high=stock_data['High'],\n",
    "                low=stock_data['Low'],\n",
    "                close=stock_data['Close'], name = stock_info['symbol']), secondary_y=True)\n",
    "\n",
    "fig.add_trace(go.Scatter(x=stock_data.index, y=stock_data['Close'], name = 'Stock price',\n",
    "                line=dict(color=\"#ffffff\", width=5)),\n",
    "                secondary_y=True)\n",
    "\n",
    "fig.add_trace(go.Bar(x=pos_r.index,\n",
    "                y=pos_r,\n",
    "                base=0,\n",
    "                marker_color='lightgreen',\n",
    "                name='Positive Sentiment',\n",
    "                text=round(pos_r, 2),\n",
    "                textposition='auto',\n",
    "                ), secondary_y=False)\n",
    "\n",
    "fig.add_trace(go.Bar(x=neg_r.index,\n",
    "                y=neg_r,\n",
    "                base=0,\n",
    "                marker_color='crimson',\n",
    "                name='Negative Sentiment',\n",
    "                text=round(neg_r, 2),\n",
    "                textposition='auto',\n",
    "                ), secondary_y=False)\n",
    "\n",
    "fig.update_traces(opacity=0.6)\n",
    "\n",
    "# Add titles\n",
    "fig.update_layout(\n",
    "    title=str(round(stock_data['Close'][-1], 2))+' '+stock_info['currency']+', '+stock_info['longName']+', '+stock_info['symbol']+', '+stock_info['exchange'],\n",
    "    yaxis_title='Stock Price',\n",
    "    xaxis_rangeslider_visible=False,\n",
    "    barmode='relative',\n",
    "    template='plotly_dark')\n",
    "\n",
    "# Axes\n",
    "fig.update_yaxes(showgrid=False)\n",
    "\n",
    "if date=='week1':\n",
    "    fig.update_xaxes(\n",
    "        rangeslider_visible=True,\n",
    "        rangeselector=dict(\n",
    "            buttons=list([\n",
    "                dict(count=1, label=\"day\", step=\"day\", stepmode=\"backward\"),\n",
    "                dict(label=\"week\", step=\"all\"),\n",
    "                dict(count=7, label=\"HTD\", step=\"day\", stepmode=\"todate\")\n",
    "            ])\n",
    "        )\n",
    "    )\n",
    "\n",
    "    fig.update()\n",
    "if date=='month1':\n",
    "    fig.update_xaxes(\n",
    "        rangeslider_visible=True,\n",
    "        rangeselector=dict(\n",
    "            buttons=list([\n",
    "                dict(count=7, label=\"week\", step=\"day\", stepmode=\"backward\"),\n",
    "                dict(label=\"month\", step=\"all\"),\n",
    "                dict(count=1, label=\"HTD\", step=\"month\", stepmode=\"todate\")\n",
    "            ])\n",
    "        )\n",
    "    )\n",
    "\n",
    "#Show\n",
    "fig.show()"
   ]
  },
  {
   "cell_type": "code",
   "execution_count": 6,
   "metadata": {},
   "outputs": [
    {
     "output_type": "display_data",
     "data": {
      "application/vnd.plotly.v1+json": {
       "config": {
        "plotlyServerURL": "https://plot.ly"
       },
       "data": [
        {
         "close": [
          581.9000244140625,
          581.4876098632812,
          576.8800048828125,
          579.3098754882812,
          581.739990234375,
          585.5859985351562,
          586.7000122070312,
          589.1199951171875,
          584.9000244140625,
          585.6199951171875,
          586.2100219726562,
          586.6799926757812,
          584.719970703125,
          580.8900146484375,
          594.155029296875,
          597.27001953125,
          597.47998046875,
          603.7650146484375,
          608.6223754882812,
          613.7999877929688,
          606.8699951171875,
          605.489990234375,
          597.7830200195312,
          598.6099853515625,
          601.7135009765625,
          601.7100219726562,
          601.0288696289062,
          604.7000122070312,
          609.4550170898438,
          617.260009765625,
          621.1099853515625,
          621.780029296875,
          623.8250122070312,
          622.6300048828125,
          619.1900024414062,
          626.780029296875,
          620.489990234375,
          619.3419799804688,
          619.780029296875,
          619.2899780273438,
          618.988525390625,
          631.0349731445312,
          622.5850219726562,
          625.0560302734375,
          625.4299926757812,
          629.5449829101562,
          632.530029296875,
          630.9299926757812,
          625.7100219726562
         ],
         "high": [
          584.7000122070312,
          583.489990234375,
          582.489990234375,
          579.9520874023438,
          582.27001953125,
          586,
          588.8499755859375,
          596.6799926757812,
          591.5225830078125,
          586.7999877929688,
          588.5712890625,
          589.9400024414062,
          588.6500244140625,
          585.14501953125,
          594.5399780273438,
          600.6400146484375,
          601.1699829101562,
          604.3800048828125,
          611.010009765625,
          614.1500244140625,
          614.47998046875,
          613.989990234375,
          606.0999755859375,
          601.6799926757812,
          602.8283081054688,
          604.5,
          603.7999877929688,
          605.1199951171875,
          609.8800048828125,
          619.5800170898438,
          624.6799926757812,
          623.27001953125,
          626.1699829101562,
          624.8900146484375,
          623.4000244140625,
          628.75,
          628.280029296875,
          620.8499755859375,
          623.2999877929688,
          621.051025390625,
          620.5250244140625,
          631.1300048828125,
          634.8599853515625,
          627.6400146484375,
          627.1099853515625,
          633,
          632.9400024414062,
          635.5900268554688,
          631.0800170898438
         ],
         "low": [
          571.0700073242188,
          577.1300048828125,
          576.3499755859375,
          574.739990234375,
          577.89501953125,
          581.2000122070312,
          584.4249877929688,
          585.2000122070312,
          583.6400146484375,
          582.22998046875,
          584.2899780273438,
          585.8300170898438,
          584.7000122070312,
          580,
          573.6500244140625,
          592.7000732421875,
          596.5,
          596.5900268554688,
          603.5867919921875,
          608.1901245117188,
          606.1900024414062,
          601.75,
          597.02001953125,
          595.7100219726562,
          598.3300170898438,
          600.4600830078125,
          599.2999877929688,
          599.9299926757812,
          601.5,
          604,
          615.4000244140625,
          618.1300048828125,
          620.2000732421875,
          620.8699951171875,
          617,
          616.2100219726562,
          620.489990234375,
          617.75,
          618.25,
          617.1900024414062,
          617.5499877929688,
          618.2000122070312,
          622.510009765625,
          622.3800048828125,
          623.7100219726562,
          625,
          628.4299926757812,
          630.719970703125,
          624.02001953125
         ],
         "name": "TSLA",
         "opacity": 0.6,
         "open": [
          576.5,
          581.89501953125,
          581.5,
          576.9301147460938,
          579.3306274414062,
          581.7000122070312,
          585.469970703125,
          596.1099853515625,
          589.1300048828125,
          584.9000244140625,
          585.5900268554688,
          586.2050170898438,
          586.780029296875,
          584.8200073242188,
          581.5999755859375,
          594.25,
          597.2203979492188,
          597.6500244140625,
          603.8200073242188,
          608.5809936523438,
          613.8200073242188,
          607.3099975585938,
          605.5,
          597.8314819335938,
          598.52001953125,
          601.6900024414062,
          601.6500244140625,
          601.2999877929688,
          605.469970703125,
          609.5999755859375,
          617.27001953125,
          621.22998046875,
          621.5700073242188,
          623.8250122070312,
          622.760009765625,
          620.239990234375,
          626.780029296875,
          620.4000244140625,
          619.4099731445312,
          619.7999877929688,
          619.0900268554688,
          619.0700073242188,
          628.5,
          622.5850219726562,
          625.0999755859375,
          625.4249877929688,
          629.5028076171875,
          632.47998046875,
          630.9199829101562
         ],
         "type": "candlestick",
         "x": [
          "2021-05-20T09:30:00-04:00",
          "2021-05-20T10:30:00-04:00",
          "2021-05-20T11:30:00-04:00",
          "2021-05-20T12:30:00-04:00",
          "2021-05-20T13:30:00-04:00",
          "2021-05-20T14:30:00-04:00",
          "2021-05-20T15:30:00-04:00",
          "2021-05-21T09:30:00-04:00",
          "2021-05-21T10:30:00-04:00",
          "2021-05-21T11:30:00-04:00",
          "2021-05-21T12:30:00-04:00",
          "2021-05-21T13:30:00-04:00",
          "2021-05-21T14:30:00-04:00",
          "2021-05-21T15:30:00-04:00",
          "2021-05-24T09:30:00-04:00",
          "2021-05-24T10:30:00-04:00",
          "2021-05-24T11:30:00-04:00",
          "2021-05-24T12:30:00-04:00",
          "2021-05-24T13:30:00-04:00",
          "2021-05-24T14:30:00-04:00",
          "2021-05-24T15:30:00-04:00",
          "2021-05-25T09:30:00-04:00",
          "2021-05-25T10:30:00-04:00",
          "2021-05-25T11:30:00-04:00",
          "2021-05-25T12:30:00-04:00",
          "2021-05-25T13:30:00-04:00",
          "2021-05-25T14:30:00-04:00",
          "2021-05-25T15:30:00-04:00",
          "2021-05-26T09:30:00-04:00",
          "2021-05-26T10:30:00-04:00",
          "2021-05-26T11:30:00-04:00",
          "2021-05-26T12:30:00-04:00",
          "2021-05-26T13:30:00-04:00",
          "2021-05-26T14:30:00-04:00",
          "2021-05-26T15:30:00-04:00",
          "2021-05-27T09:30:00-04:00",
          "2021-05-27T10:30:00-04:00",
          "2021-05-27T11:30:00-04:00",
          "2021-05-27T12:30:00-04:00",
          "2021-05-27T13:30:00-04:00",
          "2021-05-27T14:30:00-04:00",
          "2021-05-27T15:30:00-04:00",
          "2021-05-28T09:30:00-04:00",
          "2021-05-28T10:30:00-04:00",
          "2021-05-28T11:30:00-04:00",
          "2021-05-28T12:30:00-04:00",
          "2021-05-28T13:30:00-04:00",
          "2021-05-28T14:30:00-04:00",
          "2021-05-28T15:30:00-04:00"
         ],
         "xaxis": "x",
         "yaxis": "y2"
        },
        {
         "line": {
          "color": "#ffffff",
          "width": 5
         },
         "name": "Stock price",
         "opacity": 0.6,
         "type": "scatter",
         "x": [
          "2021-05-20T09:30:00-04:00",
          "2021-05-20T10:30:00-04:00",
          "2021-05-20T11:30:00-04:00",
          "2021-05-20T12:30:00-04:00",
          "2021-05-20T13:30:00-04:00",
          "2021-05-20T14:30:00-04:00",
          "2021-05-20T15:30:00-04:00",
          "2021-05-21T09:30:00-04:00",
          "2021-05-21T10:30:00-04:00",
          "2021-05-21T11:30:00-04:00",
          "2021-05-21T12:30:00-04:00",
          "2021-05-21T13:30:00-04:00",
          "2021-05-21T14:30:00-04:00",
          "2021-05-21T15:30:00-04:00",
          "2021-05-24T09:30:00-04:00",
          "2021-05-24T10:30:00-04:00",
          "2021-05-24T11:30:00-04:00",
          "2021-05-24T12:30:00-04:00",
          "2021-05-24T13:30:00-04:00",
          "2021-05-24T14:30:00-04:00",
          "2021-05-24T15:30:00-04:00",
          "2021-05-25T09:30:00-04:00",
          "2021-05-25T10:30:00-04:00",
          "2021-05-25T11:30:00-04:00",
          "2021-05-25T12:30:00-04:00",
          "2021-05-25T13:30:00-04:00",
          "2021-05-25T14:30:00-04:00",
          "2021-05-25T15:30:00-04:00",
          "2021-05-26T09:30:00-04:00",
          "2021-05-26T10:30:00-04:00",
          "2021-05-26T11:30:00-04:00",
          "2021-05-26T12:30:00-04:00",
          "2021-05-26T13:30:00-04:00",
          "2021-05-26T14:30:00-04:00",
          "2021-05-26T15:30:00-04:00",
          "2021-05-27T09:30:00-04:00",
          "2021-05-27T10:30:00-04:00",
          "2021-05-27T11:30:00-04:00",
          "2021-05-27T12:30:00-04:00",
          "2021-05-27T13:30:00-04:00",
          "2021-05-27T14:30:00-04:00",
          "2021-05-27T15:30:00-04:00",
          "2021-05-28T09:30:00-04:00",
          "2021-05-28T10:30:00-04:00",
          "2021-05-28T11:30:00-04:00",
          "2021-05-28T12:30:00-04:00",
          "2021-05-28T13:30:00-04:00",
          "2021-05-28T14:30:00-04:00",
          "2021-05-28T15:30:00-04:00"
         ],
         "xaxis": "x",
         "y": [
          581.9000244140625,
          581.4876098632812,
          576.8800048828125,
          579.3098754882812,
          581.739990234375,
          585.5859985351562,
          586.7000122070312,
          589.1199951171875,
          584.9000244140625,
          585.6199951171875,
          586.2100219726562,
          586.6799926757812,
          584.719970703125,
          580.8900146484375,
          594.155029296875,
          597.27001953125,
          597.47998046875,
          603.7650146484375,
          608.6223754882812,
          613.7999877929688,
          606.8699951171875,
          605.489990234375,
          597.7830200195312,
          598.6099853515625,
          601.7135009765625,
          601.7100219726562,
          601.0288696289062,
          604.7000122070312,
          609.4550170898438,
          617.260009765625,
          621.1099853515625,
          621.780029296875,
          623.8250122070312,
          622.6300048828125,
          619.1900024414062,
          626.780029296875,
          620.489990234375,
          619.3419799804688,
          619.780029296875,
          619.2899780273438,
          618.988525390625,
          631.0349731445312,
          622.5850219726562,
          625.0560302734375,
          625.4299926757812,
          629.5449829101562,
          632.530029296875,
          630.9299926757812,
          625.7100219726562
         ],
         "yaxis": "y2"
        },
        {
         "base": 0,
         "marker": {
          "color": "lightgreen"
         },
         "name": "Positive Sentiment",
         "opacity": 0.6,
         "text": [
          1,
          null,
          0.4,
          0.17,
          0.17,
          0.33
         ],
         "textposition": "auto",
         "type": "bar",
         "x": [
          "2021-05-23T00:00:00",
          "2021-05-25T00:00:00",
          "2021-05-26T00:00:00",
          "2021-05-27T00:00:00",
          "2021-05-28T00:00:00",
          "2021-05-29T00:00:00"
         ],
         "xaxis": "x",
         "y": [
          1,
          null,
          0.4,
          0.16666666666666666,
          0.16666666666666666,
          0.3333333333333333
         ],
         "yaxis": "y"
        },
        {
         "base": 0,
         "marker": {
          "color": "crimson"
         },
         "name": "Negative Sentiment",
         "opacity": 0.6,
         "text": [
          null,
          -1,
          -0.6,
          -0.83,
          -0.83,
          -0.67
         ],
         "textposition": "auto",
         "type": "bar",
         "x": [
          "2021-05-23T00:00:00",
          "2021-05-25T00:00:00",
          "2021-05-26T00:00:00",
          "2021-05-27T00:00:00",
          "2021-05-28T00:00:00",
          "2021-05-29T00:00:00"
         ],
         "xaxis": "x",
         "y": [
          null,
          -1,
          -0.6,
          -0.8333333333333334,
          -0.8333333333333334,
          -0.6666666666666666
         ],
         "yaxis": "y"
        }
       ],
       "layout": {
        "barmode": "relative",
        "template": {
         "data": {
          "bar": [
           {
            "error_x": {
             "color": "#f2f5fa"
            },
            "error_y": {
             "color": "#f2f5fa"
            },
            "marker": {
             "line": {
              "color": "rgb(17,17,17)",
              "width": 0.5
             }
            },
            "type": "bar"
           }
          ],
          "barpolar": [
           {
            "marker": {
             "line": {
              "color": "rgb(17,17,17)",
              "width": 0.5
             }
            },
            "type": "barpolar"
           }
          ],
          "carpet": [
           {
            "aaxis": {
             "endlinecolor": "#A2B1C6",
             "gridcolor": "#506784",
             "linecolor": "#506784",
             "minorgridcolor": "#506784",
             "startlinecolor": "#A2B1C6"
            },
            "baxis": {
             "endlinecolor": "#A2B1C6",
             "gridcolor": "#506784",
             "linecolor": "#506784",
             "minorgridcolor": "#506784",
             "startlinecolor": "#A2B1C6"
            },
            "type": "carpet"
           }
          ],
          "choropleth": [
           {
            "colorbar": {
             "outlinewidth": 0,
             "ticks": ""
            },
            "type": "choropleth"
           }
          ],
          "contour": [
           {
            "colorbar": {
             "outlinewidth": 0,
             "ticks": ""
            },
            "colorscale": [
             [
              0,
              "#0d0887"
             ],
             [
              0.1111111111111111,
              "#46039f"
             ],
             [
              0.2222222222222222,
              "#7201a8"
             ],
             [
              0.3333333333333333,
              "#9c179e"
             ],
             [
              0.4444444444444444,
              "#bd3786"
             ],
             [
              0.5555555555555556,
              "#d8576b"
             ],
             [
              0.6666666666666666,
              "#ed7953"
             ],
             [
              0.7777777777777778,
              "#fb9f3a"
             ],
             [
              0.8888888888888888,
              "#fdca26"
             ],
             [
              1,
              "#f0f921"
             ]
            ],
            "type": "contour"
           }
          ],
          "contourcarpet": [
           {
            "colorbar": {
             "outlinewidth": 0,
             "ticks": ""
            },
            "type": "contourcarpet"
           }
          ],
          "heatmap": [
           {
            "colorbar": {
             "outlinewidth": 0,
             "ticks": ""
            },
            "colorscale": [
             [
              0,
              "#0d0887"
             ],
             [
              0.1111111111111111,
              "#46039f"
             ],
             [
              0.2222222222222222,
              "#7201a8"
             ],
             [
              0.3333333333333333,
              "#9c179e"
             ],
             [
              0.4444444444444444,
              "#bd3786"
             ],
             [
              0.5555555555555556,
              "#d8576b"
             ],
             [
              0.6666666666666666,
              "#ed7953"
             ],
             [
              0.7777777777777778,
              "#fb9f3a"
             ],
             [
              0.8888888888888888,
              "#fdca26"
             ],
             [
              1,
              "#f0f921"
             ]
            ],
            "type": "heatmap"
           }
          ],
          "heatmapgl": [
           {
            "colorbar": {
             "outlinewidth": 0,
             "ticks": ""
            },
            "colorscale": [
             [
              0,
              "#0d0887"
             ],
             [
              0.1111111111111111,
              "#46039f"
             ],
             [
              0.2222222222222222,
              "#7201a8"
             ],
             [
              0.3333333333333333,
              "#9c179e"
             ],
             [
              0.4444444444444444,
              "#bd3786"
             ],
             [
              0.5555555555555556,
              "#d8576b"
             ],
             [
              0.6666666666666666,
              "#ed7953"
             ],
             [
              0.7777777777777778,
              "#fb9f3a"
             ],
             [
              0.8888888888888888,
              "#fdca26"
             ],
             [
              1,
              "#f0f921"
             ]
            ],
            "type": "heatmapgl"
           }
          ],
          "histogram": [
           {
            "marker": {
             "colorbar": {
              "outlinewidth": 0,
              "ticks": ""
             }
            },
            "type": "histogram"
           }
          ],
          "histogram2d": [
           {
            "colorbar": {
             "outlinewidth": 0,
             "ticks": ""
            },
            "colorscale": [
             [
              0,
              "#0d0887"
             ],
             [
              0.1111111111111111,
              "#46039f"
             ],
             [
              0.2222222222222222,
              "#7201a8"
             ],
             [
              0.3333333333333333,
              "#9c179e"
             ],
             [
              0.4444444444444444,
              "#bd3786"
             ],
             [
              0.5555555555555556,
              "#d8576b"
             ],
             [
              0.6666666666666666,
              "#ed7953"
             ],
             [
              0.7777777777777778,
              "#fb9f3a"
             ],
             [
              0.8888888888888888,
              "#fdca26"
             ],
             [
              1,
              "#f0f921"
             ]
            ],
            "type": "histogram2d"
           }
          ],
          "histogram2dcontour": [
           {
            "colorbar": {
             "outlinewidth": 0,
             "ticks": ""
            },
            "colorscale": [
             [
              0,
              "#0d0887"
             ],
             [
              0.1111111111111111,
              "#46039f"
             ],
             [
              0.2222222222222222,
              "#7201a8"
             ],
             [
              0.3333333333333333,
              "#9c179e"
             ],
             [
              0.4444444444444444,
              "#bd3786"
             ],
             [
              0.5555555555555556,
              "#d8576b"
             ],
             [
              0.6666666666666666,
              "#ed7953"
             ],
             [
              0.7777777777777778,
              "#fb9f3a"
             ],
             [
              0.8888888888888888,
              "#fdca26"
             ],
             [
              1,
              "#f0f921"
             ]
            ],
            "type": "histogram2dcontour"
           }
          ],
          "mesh3d": [
           {
            "colorbar": {
             "outlinewidth": 0,
             "ticks": ""
            },
            "type": "mesh3d"
           }
          ],
          "parcoords": [
           {
            "line": {
             "colorbar": {
              "outlinewidth": 0,
              "ticks": ""
             }
            },
            "type": "parcoords"
           }
          ],
          "pie": [
           {
            "automargin": true,
            "type": "pie"
           }
          ],
          "scatter": [
           {
            "marker": {
             "line": {
              "color": "#283442"
             }
            },
            "type": "scatter"
           }
          ],
          "scatter3d": [
           {
            "line": {
             "colorbar": {
              "outlinewidth": 0,
              "ticks": ""
             }
            },
            "marker": {
             "colorbar": {
              "outlinewidth": 0,
              "ticks": ""
             }
            },
            "type": "scatter3d"
           }
          ],
          "scattercarpet": [
           {
            "marker": {
             "colorbar": {
              "outlinewidth": 0,
              "ticks": ""
             }
            },
            "type": "scattercarpet"
           }
          ],
          "scattergeo": [
           {
            "marker": {
             "colorbar": {
              "outlinewidth": 0,
              "ticks": ""
             }
            },
            "type": "scattergeo"
           }
          ],
          "scattergl": [
           {
            "marker": {
             "line": {
              "color": "#283442"
             }
            },
            "type": "scattergl"
           }
          ],
          "scattermapbox": [
           {
            "marker": {
             "colorbar": {
              "outlinewidth": 0,
              "ticks": ""
             }
            },
            "type": "scattermapbox"
           }
          ],
          "scatterpolar": [
           {
            "marker": {
             "colorbar": {
              "outlinewidth": 0,
              "ticks": ""
             }
            },
            "type": "scatterpolar"
           }
          ],
          "scatterpolargl": [
           {
            "marker": {
             "colorbar": {
              "outlinewidth": 0,
              "ticks": ""
             }
            },
            "type": "scatterpolargl"
           }
          ],
          "scatterternary": [
           {
            "marker": {
             "colorbar": {
              "outlinewidth": 0,
              "ticks": ""
             }
            },
            "type": "scatterternary"
           }
          ],
          "surface": [
           {
            "colorbar": {
             "outlinewidth": 0,
             "ticks": ""
            },
            "colorscale": [
             [
              0,
              "#0d0887"
             ],
             [
              0.1111111111111111,
              "#46039f"
             ],
             [
              0.2222222222222222,
              "#7201a8"
             ],
             [
              0.3333333333333333,
              "#9c179e"
             ],
             [
              0.4444444444444444,
              "#bd3786"
             ],
             [
              0.5555555555555556,
              "#d8576b"
             ],
             [
              0.6666666666666666,
              "#ed7953"
             ],
             [
              0.7777777777777778,
              "#fb9f3a"
             ],
             [
              0.8888888888888888,
              "#fdca26"
             ],
             [
              1,
              "#f0f921"
             ]
            ],
            "type": "surface"
           }
          ],
          "table": [
           {
            "cells": {
             "fill": {
              "color": "#506784"
             },
             "line": {
              "color": "rgb(17,17,17)"
             }
            },
            "header": {
             "fill": {
              "color": "#2a3f5f"
             },
             "line": {
              "color": "rgb(17,17,17)"
             }
            },
            "type": "table"
           }
          ]
         },
         "layout": {
          "annotationdefaults": {
           "arrowcolor": "#f2f5fa",
           "arrowhead": 0,
           "arrowwidth": 1
          },
          "autotypenumbers": "strict",
          "coloraxis": {
           "colorbar": {
            "outlinewidth": 0,
            "ticks": ""
           }
          },
          "colorscale": {
           "diverging": [
            [
             0,
             "#8e0152"
            ],
            [
             0.1,
             "#c51b7d"
            ],
            [
             0.2,
             "#de77ae"
            ],
            [
             0.3,
             "#f1b6da"
            ],
            [
             0.4,
             "#fde0ef"
            ],
            [
             0.5,
             "#f7f7f7"
            ],
            [
             0.6,
             "#e6f5d0"
            ],
            [
             0.7,
             "#b8e186"
            ],
            [
             0.8,
             "#7fbc41"
            ],
            [
             0.9,
             "#4d9221"
            ],
            [
             1,
             "#276419"
            ]
           ],
           "sequential": [
            [
             0,
             "#0d0887"
            ],
            [
             0.1111111111111111,
             "#46039f"
            ],
            [
             0.2222222222222222,
             "#7201a8"
            ],
            [
             0.3333333333333333,
             "#9c179e"
            ],
            [
             0.4444444444444444,
             "#bd3786"
            ],
            [
             0.5555555555555556,
             "#d8576b"
            ],
            [
             0.6666666666666666,
             "#ed7953"
            ],
            [
             0.7777777777777778,
             "#fb9f3a"
            ],
            [
             0.8888888888888888,
             "#fdca26"
            ],
            [
             1,
             "#f0f921"
            ]
           ],
           "sequentialminus": [
            [
             0,
             "#0d0887"
            ],
            [
             0.1111111111111111,
             "#46039f"
            ],
            [
             0.2222222222222222,
             "#7201a8"
            ],
            [
             0.3333333333333333,
             "#9c179e"
            ],
            [
             0.4444444444444444,
             "#bd3786"
            ],
            [
             0.5555555555555556,
             "#d8576b"
            ],
            [
             0.6666666666666666,
             "#ed7953"
            ],
            [
             0.7777777777777778,
             "#fb9f3a"
            ],
            [
             0.8888888888888888,
             "#fdca26"
            ],
            [
             1,
             "#f0f921"
            ]
           ]
          },
          "colorway": [
           "#636efa",
           "#EF553B",
           "#00cc96",
           "#ab63fa",
           "#FFA15A",
           "#19d3f3",
           "#FF6692",
           "#B6E880",
           "#FF97FF",
           "#FECB52"
          ],
          "font": {
           "color": "#f2f5fa"
          },
          "geo": {
           "bgcolor": "rgb(17,17,17)",
           "lakecolor": "rgb(17,17,17)",
           "landcolor": "rgb(17,17,17)",
           "showlakes": true,
           "showland": true,
           "subunitcolor": "#506784"
          },
          "hoverlabel": {
           "align": "left"
          },
          "hovermode": "closest",
          "mapbox": {
           "style": "dark"
          },
          "paper_bgcolor": "rgb(17,17,17)",
          "plot_bgcolor": "rgb(17,17,17)",
          "polar": {
           "angularaxis": {
            "gridcolor": "#506784",
            "linecolor": "#506784",
            "ticks": ""
           },
           "bgcolor": "rgb(17,17,17)",
           "radialaxis": {
            "gridcolor": "#506784",
            "linecolor": "#506784",
            "ticks": ""
           }
          },
          "scene": {
           "xaxis": {
            "backgroundcolor": "rgb(17,17,17)",
            "gridcolor": "#506784",
            "gridwidth": 2,
            "linecolor": "#506784",
            "showbackground": true,
            "ticks": "",
            "zerolinecolor": "#C8D4E3"
           },
           "yaxis": {
            "backgroundcolor": "rgb(17,17,17)",
            "gridcolor": "#506784",
            "gridwidth": 2,
            "linecolor": "#506784",
            "showbackground": true,
            "ticks": "",
            "zerolinecolor": "#C8D4E3"
           },
           "zaxis": {
            "backgroundcolor": "rgb(17,17,17)",
            "gridcolor": "#506784",
            "gridwidth": 2,
            "linecolor": "#506784",
            "showbackground": true,
            "ticks": "",
            "zerolinecolor": "#C8D4E3"
           }
          },
          "shapedefaults": {
           "line": {
            "color": "#f2f5fa"
           }
          },
          "sliderdefaults": {
           "bgcolor": "#C8D4E3",
           "bordercolor": "rgb(17,17,17)",
           "borderwidth": 1,
           "tickwidth": 0
          },
          "ternary": {
           "aaxis": {
            "gridcolor": "#506784",
            "linecolor": "#506784",
            "ticks": ""
           },
           "baxis": {
            "gridcolor": "#506784",
            "linecolor": "#506784",
            "ticks": ""
           },
           "bgcolor": "rgb(17,17,17)",
           "caxis": {
            "gridcolor": "#506784",
            "linecolor": "#506784",
            "ticks": ""
           }
          },
          "title": {
           "x": 0.05
          },
          "updatemenudefaults": {
           "bgcolor": "#506784",
           "borderwidth": 0
          },
          "xaxis": {
           "automargin": true,
           "gridcolor": "#283442",
           "linecolor": "#506784",
           "ticks": "",
           "title": {
            "standoff": 15
           },
           "zerolinecolor": "#283442",
           "zerolinewidth": 2
          },
          "yaxis": {
           "automargin": true,
           "gridcolor": "#283442",
           "linecolor": "#506784",
           "ticks": "",
           "title": {
            "standoff": 15
           },
           "zerolinecolor": "#283442",
           "zerolinewidth": 2
          }
         }
        },
        "title": {
         "text": "625.71 USD, Tesla, Inc., TSLA, NMS"
        },
        "xaxis": {
         "anchor": "y",
         "domain": [
          0,
          0.94
         ],
         "rangeslider": {
          "visible": false
         }
        },
        "yaxis": {
         "anchor": "x",
         "domain": [
          0,
          1
         ],
         "showgrid": false,
         "title": {
          "text": "Stock Price"
         }
        },
        "yaxis2": {
         "anchor": "x",
         "overlaying": "y",
         "showgrid": false,
         "side": "right"
        }
       }
      }
     },
     "metadata": {}
    }
   ],
   "source": [
    "import plotly.graph_objects as go\n",
    "from plotly.subplots import make_subplots\n",
    "\n",
    "#idea based\n",
    "period = '1d'\n",
    "sentiment = 'combined_sentiment'\n",
    "posts_all = posts[sentiment].loc[posts[sentiment] != np.nan].groupby(posts.loc[posts[sentiment] != np.nan].index.round(period)).count()\n",
    "pos_n = posts[sentiment].loc[posts[sentiment] == 'POSITIVE'].groupby(posts.loc[posts[sentiment] == 'POSITIVE'].index.round(period)).count()/posts_all\n",
    "neg_n = posts[sentiment].loc[posts[sentiment] == 'NEGATIVE'].groupby(posts.loc[posts[sentiment] == 'NEGATIVE'].index.round(period)).count()/posts_all*-1\n",
    "\n",
    "date = 'week'\n",
    "\n",
    "# Create figure with secondary y-axis\n",
    "fig = make_subplots(specs=[[{\"secondary_y\": True}]])\n",
    "\n",
    "#figures\n",
    "fig.add_trace(go.Candlestick(x=stock_data.index,\n",
    "                open=stock_data['Open'],\n",
    "                high=stock_data['High'],\n",
    "                low=stock_data['Low'],\n",
    "                close=stock_data['Close'], name = stock_info['symbol']), secondary_y=True)\n",
    "\n",
    "fig.add_trace(go.Scatter(x=stock_data.index, y=stock_data['Close'], name = 'Stock price',\n",
    "                line=dict(color=\"#ffffff\", width=5)),\n",
    "                secondary_y=True)\n",
    "\n",
    "fig.add_trace(go.Bar(x=pos_n.index,\n",
    "                y=pos_n,\n",
    "                base=0,\n",
    "                marker_color='lightgreen',\n",
    "                name='Positive Sentiment',\n",
    "                text=round(pos_n, 2),\n",
    "                textposition='auto',\n",
    "                ), secondary_y=False)\n",
    "\n",
    "fig.add_trace(go.Bar(x=neg_n.index,\n",
    "                y=neg_n,\n",
    "                base=0,\n",
    "                marker_color='crimson',\n",
    "                name='Negative Sentiment',\n",
    "                text=round(neg_n, 2),\n",
    "                textposition='auto',\n",
    "                ), secondary_y=False)\n",
    "\n",
    "fig.update_traces(opacity=0.6)\n",
    "\n",
    "# Add titles\n",
    "fig.update_layout(\n",
    "    title=str(round(stock_data['Close'][-1], 2))+' '+stock_info['currency']+', '+stock_info['longName']+', '+stock_info['symbol']+', '+stock_info['exchange'],\n",
    "    yaxis_title='Stock Price',\n",
    "    xaxis_rangeslider_visible=False,\n",
    "    barmode='relative',\n",
    "    template='plotly_dark')\n",
    "\n",
    "# Axes\n",
    "fig.update_yaxes(showgrid=False)\n",
    "\n",
    "if date=='week1':\n",
    "    fig.update_xaxes(\n",
    "        rangeslider_visible=True,\n",
    "        rangeselector=dict(\n",
    "            buttons=list([\n",
    "                dict(count=1, label=\"day\", step=\"day\", stepmode=\"backward\"),\n",
    "                dict(label=\"week\", step=\"all\"),\n",
    "                dict(count=7, label=\"HTD\", step=\"day\", stepmode=\"todate\")\n",
    "            ])\n",
    "        )\n",
    "    )\n",
    "\n",
    "    fig.update()\n",
    "if date=='month1':\n",
    "    fig.update_xaxes(\n",
    "        rangeslider_visible=True,\n",
    "        rangeselector=dict(\n",
    "            buttons=list([\n",
    "                dict(count=7, label=\"week\", step=\"day\", stepmode=\"backward\"),\n",
    "                dict(label=\"month\", step=\"all\"),\n",
    "                dict(count=1, label=\"HTD\", step=\"month\", stepmode=\"todate\")\n",
    "            ])\n",
    "        )\n",
    "    )\n",
    "\n",
    "#Show\n",
    "fig.show()"
   ]
  },
  {
   "cell_type": "code",
   "execution_count": 54,
   "metadata": {},
   "outputs": [
    {
     "output_type": "execute_result",
     "data": {
      "text/plain": [
       "Series([], Name: score, dtype: float64)"
      ]
     },
     "metadata": {},
     "execution_count": 54
    }
   ],
   "source": [
    "neg_s"
   ]
  },
  {
   "cell_type": "code",
   "execution_count": 55,
   "metadata": {},
   "outputs": [
    {
     "output_type": "execute_result",
     "data": {
      "text/plain": [
       "Series([], Name: score, dtype: float64)"
      ]
     },
     "metadata": {},
     "execution_count": 55
    }
   ],
   "source": [
    "pos_s"
   ]
  },
  {
   "cell_type": "code",
   "execution_count": 63,
   "metadata": {},
   "outputs": [
    {
     "output_type": "execute_result",
     "data": {
      "text/plain": [
       "Series([], Name: combined_sentiment, dtype: float64)"
      ]
     },
     "metadata": {},
     "execution_count": 63
    }
   ],
   "source": [
    "neg_n"
   ]
  },
  {
   "cell_type": "code",
   "execution_count": 64,
   "metadata": {},
   "outputs": [
    {
     "output_type": "execute_result",
     "data": {
      "text/plain": [
       "Series([], Name: combined_sentiment, dtype: float64)"
      ]
     },
     "metadata": {},
     "execution_count": 64
    }
   ],
   "source": [
    "pos_n"
   ]
  },
  {
   "cell_type": "code",
   "execution_count": 65,
   "metadata": {},
   "outputs": [
    {
     "output_type": "execute_result",
     "data": {
      "text/plain": [
       "Series([], Name: combined_sentiment, dtype: int64)"
      ]
     },
     "metadata": {},
     "execution_count": 65
    }
   ],
   "source": [
    "posts_all"
   ]
  },
  {
   "cell_type": "code",
   "execution_count": 66,
   "metadata": {},
   "outputs": [
    {
     "output_type": "execute_result",
     "data": {
      "text/plain": [
       "Series([], Name: combined_sentiment, dtype: int64)"
      ]
     },
     "metadata": {},
     "execution_count": 66
    }
   ],
   "source": [
    "posts['combined_sentiment'].value_counts()"
   ]
  },
  {
   "cell_type": "code",
   "execution_count": 43,
   "metadata": {},
   "outputs": [
    {
     "output_type": "execute_result",
     "data": {
      "text/plain": [
       "                                                        title     score  \\\n",
       "created                                                                   \n",
       "2021-05-24  Why I'm Large and in Charge for Dick Kings (DKNG)  0.998371   \n",
       "2021-05-24  Increased \"competition\" in the EV space is bul...  0.999922   \n",
       "2021-05-18  Michael Burry of ‘The Big Short’ reveals a $53...  0.981055   \n",
       "2021-05-19            Worst buys you’ve made this year so far  0.999982   \n",
       "2021-05-17                                    How am I doing?  0.999076   \n",
       "\n",
       "           post_id       subreddit  \\\n",
       "created                              \n",
       "2021-05-24  njaa8g  wallstreetbets   \n",
       "2021-05-24  njazsm          stocks   \n",
       "2021-05-18  new7su          stocks   \n",
       "2021-05-19  nfrmgh          stocks   \n",
       "2021-05-17  ndq2ig          stocks   \n",
       "\n",
       "                                                          url  num_comments  \\\n",
       "created                                                                       \n",
       "2021-05-24  https://www.reddit.com/r/wallstreetbets/commen...            51   \n",
       "2021-05-24  https://www.reddit.com/r/stocks/comments/njazs...            12   \n",
       "2021-05-18  https://www.reddit.com/r/stocks/comments/new7s...           371   \n",
       "2021-05-19  https://www.reddit.com/r/stocks/comments/nfrmg...           643   \n",
       "2021-05-17  https://www.reddit.com/r/stocks/comments/ndq2i...           154   \n",
       "\n",
       "                                                         body sentiment  \\\n",
       "created                                                                   \n",
       "2021-05-24  Hey retards, it's been awhile since I've poste...  NEGATIVE   \n",
       "2021-05-24  **Disclaimer!** I'm not saying i'm bullish (or...  NEGATIVE   \n",
       "2021-05-18   \\n\\n* Michael  Burry is long puts against 800...  NEGATIVE   \n",
       "2021-05-19  I’m new to investing, and like any new investo...  NEGATIVE   \n",
       "2021-05-17  I’m 19, going to College for my bachelors in E...  NEGATIVE   \n",
       "\n",
       "           comments_sentiment  comments_score combined_sentiment  \\\n",
       "created                                                            \n",
       "2021-05-24           NEGATIVE        0.909460           POSITIVE   \n",
       "2021-05-24           NEGATIVE        0.941806           POSITIVE   \n",
       "2021-05-18           NEGATIVE        0.930124           POSITIVE   \n",
       "2021-05-19           NEGATIVE        0.919327           POSITIVE   \n",
       "2021-05-17           NEGATIVE        0.934317           POSITIVE   \n",
       "\n",
       "            combined_score  \n",
       "created                     \n",
       "2021-05-24        0.953916  \n",
       "2021-05-24        0.970864  \n",
       "2021-05-18        0.955590  \n",
       "2021-05-19        0.959654  \n",
       "2021-05-17        0.966697  "
      ],
      "text/html": "<div>\n<style scoped>\n    .dataframe tbody tr th:only-of-type {\n        vertical-align: middle;\n    }\n\n    .dataframe tbody tr th {\n        vertical-align: top;\n    }\n\n    .dataframe thead th {\n        text-align: right;\n    }\n</style>\n<table border=\"1\" class=\"dataframe\">\n  <thead>\n    <tr style=\"text-align: right;\">\n      <th></th>\n      <th>title</th>\n      <th>score</th>\n      <th>post_id</th>\n      <th>subreddit</th>\n      <th>url</th>\n      <th>num_comments</th>\n      <th>body</th>\n      <th>sentiment</th>\n      <th>comments_sentiment</th>\n      <th>comments_score</th>\n      <th>combined_sentiment</th>\n      <th>combined_score</th>\n    </tr>\n    <tr>\n      <th>created</th>\n      <th></th>\n      <th></th>\n      <th></th>\n      <th></th>\n      <th></th>\n      <th></th>\n      <th></th>\n      <th></th>\n      <th></th>\n      <th></th>\n      <th></th>\n      <th></th>\n    </tr>\n  </thead>\n  <tbody>\n    <tr>\n      <th>2021-05-24</th>\n      <td>Why I'm Large and in Charge for Dick Kings (DKNG)</td>\n      <td>0.998371</td>\n      <td>njaa8g</td>\n      <td>wallstreetbets</td>\n      <td>https://www.reddit.com/r/wallstreetbets/commen...</td>\n      <td>51</td>\n      <td>Hey retards, it's been awhile since I've poste...</td>\n      <td>NEGATIVE</td>\n      <td>NEGATIVE</td>\n      <td>0.909460</td>\n      <td>POSITIVE</td>\n      <td>0.953916</td>\n    </tr>\n    <tr>\n      <th>2021-05-24</th>\n      <td>Increased \"competition\" in the EV space is bul...</td>\n      <td>0.999922</td>\n      <td>njazsm</td>\n      <td>stocks</td>\n      <td>https://www.reddit.com/r/stocks/comments/njazs...</td>\n      <td>12</td>\n      <td>**Disclaimer!** I'm not saying i'm bullish (or...</td>\n      <td>NEGATIVE</td>\n      <td>NEGATIVE</td>\n      <td>0.941806</td>\n      <td>POSITIVE</td>\n      <td>0.970864</td>\n    </tr>\n    <tr>\n      <th>2021-05-18</th>\n      <td>Michael Burry of ‘The Big Short’ reveals a $53...</td>\n      <td>0.981055</td>\n      <td>new7su</td>\n      <td>stocks</td>\n      <td>https://www.reddit.com/r/stocks/comments/new7s...</td>\n      <td>371</td>\n      <td>\\n\\n* Michael  Burry is long puts against 800...</td>\n      <td>NEGATIVE</td>\n      <td>NEGATIVE</td>\n      <td>0.930124</td>\n      <td>POSITIVE</td>\n      <td>0.955590</td>\n    </tr>\n    <tr>\n      <th>2021-05-19</th>\n      <td>Worst buys you’ve made this year so far</td>\n      <td>0.999982</td>\n      <td>nfrmgh</td>\n      <td>stocks</td>\n      <td>https://www.reddit.com/r/stocks/comments/nfrmg...</td>\n      <td>643</td>\n      <td>I’m new to investing, and like any new investo...</td>\n      <td>NEGATIVE</td>\n      <td>NEGATIVE</td>\n      <td>0.919327</td>\n      <td>POSITIVE</td>\n      <td>0.959654</td>\n    </tr>\n    <tr>\n      <th>2021-05-17</th>\n      <td>How am I doing?</td>\n      <td>0.999076</td>\n      <td>ndq2ig</td>\n      <td>stocks</td>\n      <td>https://www.reddit.com/r/stocks/comments/ndq2i...</td>\n      <td>154</td>\n      <td>I’m 19, going to College for my bachelors in E...</td>\n      <td>NEGATIVE</td>\n      <td>NEGATIVE</td>\n      <td>0.934317</td>\n      <td>POSITIVE</td>\n      <td>0.966697</td>\n    </tr>\n  </tbody>\n</table>\n</div>"
     },
     "metadata": {},
     "execution_count": 43
    }
   ],
   "source": [
    "posts_g.head()"
   ]
  },
  {
   "cell_type": "code",
   "execution_count": 10,
   "metadata": {},
   "outputs": [
    {
     "output_type": "execute_result",
     "data": {
      "text/plain": [
       "               score  num_comments  comments_score  combined_score\n",
       "created                                                           \n",
       "2021-05-17  0.575213             1             NaN             NaN\n",
       "2021-05-18  0.996458            18        0.936951        0.966704\n",
       "2021-05-22  0.892782            16        0.919081        0.958218\n",
       "2021-05-23  0.690700             2        0.938495        0.814597"
      ],
      "text/html": "<div>\n<style scoped>\n    .dataframe tbody tr th:only-of-type {\n        vertical-align: middle;\n    }\n\n    .dataframe tbody tr th {\n        vertical-align: top;\n    }\n\n    .dataframe thead th {\n        text-align: right;\n    }\n</style>\n<table border=\"1\" class=\"dataframe\">\n  <thead>\n    <tr style=\"text-align: right;\">\n      <th></th>\n      <th>score</th>\n      <th>num_comments</th>\n      <th>comments_score</th>\n      <th>combined_score</th>\n    </tr>\n    <tr>\n      <th>created</th>\n      <th></th>\n      <th></th>\n      <th></th>\n      <th></th>\n    </tr>\n  </thead>\n  <tbody>\n    <tr>\n      <th>2021-05-17</th>\n      <td>0.575213</td>\n      <td>1</td>\n      <td>NaN</td>\n      <td>NaN</td>\n    </tr>\n    <tr>\n      <th>2021-05-18</th>\n      <td>0.996458</td>\n      <td>18</td>\n      <td>0.936951</td>\n      <td>0.966704</td>\n    </tr>\n    <tr>\n      <th>2021-05-22</th>\n      <td>0.892782</td>\n      <td>16</td>\n      <td>0.919081</td>\n      <td>0.958218</td>\n    </tr>\n    <tr>\n      <th>2021-05-23</th>\n      <td>0.690700</td>\n      <td>2</td>\n      <td>0.938495</td>\n      <td>0.814597</td>\n    </tr>\n  </tbody>\n</table>\n</div>"
     },
     "metadata": {},
     "execution_count": 10
    }
   ],
   "source": [
    "posts.groupby(posts.index.round('D')).mean()"
   ]
  },
  {
   "cell_type": "code",
   "execution_count": 39,
   "metadata": {},
   "outputs": [
    {
     "output_type": "execute_result",
     "data": {
      "text/plain": [
       "created\n",
       "2021-05-18 04:49:31   -0.996458\n",
       "2021-05-21 17:26:19   -0.997355\n",
       "2021-05-23 02:57:25   -0.690700\n",
       "Name: score, dtype: float64"
      ]
     },
     "metadata": {},
     "execution_count": 39
    }
   ],
   "source": [
    "posts['score'].loc[posts['sentiment'] == 'NEGATIVE'].groupby(posts.loc[posts['sentiment'] == 'NEGATIVE'].index.round('s')).mean()*-1"
   ]
  },
  {
   "cell_type": "code",
   "execution_count": 80,
   "metadata": {},
   "outputs": [
    {
     "output_type": "execute_result",
     "data": {
      "text/plain": [
       "created\n",
       "2021-05-17    0.698761\n",
       "2021-05-18    0.742731\n",
       "2021-05-19    0.937613\n",
       "2021-05-20    0.998638\n",
       "Name: score, dtype: float64"
      ]
     },
     "metadata": {},
     "execution_count": 80
    }
   ],
   "source": [
    "posts['score'].loc[posts['sentiment'] == 'POSITIVE'].groupby(posts.loc[posts['sentiment'] == 'POSITIVE'].index.round('D')).mean()"
   ]
  },
  {
   "cell_type": "code",
   "execution_count": 58,
   "metadata": {},
   "outputs": [
    {
     "output_type": "execute_result",
     "data": {
      "text/plain": [
       "0    -0.981055\n",
       "1    -0.999982\n",
       "2    -0.999076\n",
       "3    -0.994048\n",
       "4    -0.997254\n",
       "5     0.794380\n",
       "6    -0.999984\n",
       "7     0.575213\n",
       "8    -0.983755\n",
       "9    -0.871390\n",
       "10   -0.841332\n",
       "11   -0.927603\n",
       "12   -0.999813\n",
       "13   -0.834652\n",
       "14    0.539636\n",
       "15    0.539636\n",
       "16   -0.974038\n",
       "17    0.997866\n",
       "18    0.981434\n",
       "19    0.814846\n",
       "20    0.931593\n",
       "21   -0.999981\n",
       "22   -0.999822\n",
       "23   -0.911607\n",
       "24   -0.999614\n",
       "25   -0.999993\n",
       "26    0.937613\n",
       "27   -0.999224\n",
       "28    0.633199\n",
       "29   -0.997114\n",
       "30   -0.641618\n",
       "31    0.999411\n",
       "32   -0.997114\n",
       "33   -0.847958\n",
       "Name: score, dtype: float64"
      ]
     },
     "metadata": {},
     "execution_count": 58
    }
   ],
   "source": [
    "posts['score'].mask(posts['sentiment'] == 'NEGATIVE', posts['score']*-1, inplace=False)"
   ]
  },
  {
   "cell_type": "code",
   "execution_count": 59,
   "metadata": {},
   "outputs": [
    {
     "output_type": "execute_result",
     "data": {
      "text/plain": [
       "0    -0.981055\n",
       "1    -0.999982\n",
       "2    -0.999076\n",
       "3    -0.994048\n",
       "4    -0.997254\n",
       "6    -0.999984\n",
       "8    -0.983755\n",
       "9    -0.871390\n",
       "10   -0.841332\n",
       "11   -0.927603\n",
       "12   -0.999813\n",
       "13   -0.834652\n",
       "16   -0.974038\n",
       "21   -0.999981\n",
       "22   -0.999822\n",
       "23   -0.911607\n",
       "24   -0.999614\n",
       "25   -0.999993\n",
       "27   -0.999224\n",
       "29   -0.997114\n",
       "30   -0.641618\n",
       "32   -0.997114\n",
       "33   -0.847958\n",
       "Name: score, dtype: float64"
      ]
     },
     "metadata": {},
     "execution_count": 59
    }
   ],
   "source": [
    "posts['score'].loc[posts['sentiment'] == 'NEGATIVE']*-1"
   ]
  },
  {
   "cell_type": "code",
   "execution_count": 60,
   "metadata": {},
   "outputs": [
    {
     "output_type": "execute_result",
     "data": {
      "text/plain": [
       "0    2021-05-18 08:20:11\n",
       "1    2021-05-19 09:00:45\n",
       "2    2021-05-16 22:56:29\n",
       "3    2021-05-22 02:39:05\n",
       "4    2021-05-21 07:06:44\n",
       "5    2021-05-18 06:16:24\n",
       "6    2021-05-21 06:08:35\n",
       "7    2021-05-16 23:19:23\n",
       "8    2021-05-18 07:06:49\n",
       "9    2021-05-21 07:44:06\n",
       "10   2021-05-18 02:32:27\n",
       "11   2021-05-18 10:58:56\n",
       "12   2021-05-21 07:46:46\n",
       "13   2021-05-20 03:47:54\n",
       "14   2021-05-17 18:00:16\n",
       "15   2021-05-17 04:00:17\n",
       "16   2021-05-20 04:59:36\n",
       "17   2021-05-20 02:43:28\n",
       "18   2021-05-17 05:22:38\n",
       "19   2021-05-18 01:19:16\n",
       "20   2021-05-18 02:44:20\n",
       "21   2021-05-18 15:11:54\n",
       "22   2021-05-22 08:05:20\n",
       "23   2021-05-21 06:23:44\n",
       "24   2021-05-22 01:39:22\n",
       "25   2021-05-21 11:08:21\n",
       "26   2021-05-18 21:14:22\n",
       "27   2021-05-18 21:16:46\n",
       "28   2021-05-18 05:16:07\n",
       "29   2021-05-17 23:08:06\n",
       "30   2021-05-18 05:26:55\n",
       "31   2021-05-20 00:02:12\n",
       "32   2021-05-17 23:07:33\n",
       "33   2021-05-21 09:13:05\n",
       "Name: created, dtype: datetime64[ns]"
      ]
     },
     "metadata": {},
     "execution_count": 60
    }
   ],
   "source": [
    "pd.to_datetime(posts['created'], unit='s')"
   ]
  },
  {
   "cell_type": "code",
   "execution_count": 61,
   "metadata": {},
   "outputs": [
    {
     "output_type": "execute_result",
     "data": {
      "text/plain": [
       "DatetimeIndex(['2021-05-17', '2021-05-18', '2021-05-19', '2021-05-20',\n",
       "               '2021-05-21'],\n",
       "              dtype='datetime64[ns]', name='Date', freq=None)"
      ]
     },
     "metadata": {},
     "execution_count": 61
    }
   ],
   "source": [
    "pd.to_datetime(stock_data.index)"
   ]
  },
  {
   "cell_type": "code",
   "execution_count": 20,
   "metadata": {},
   "outputs": [],
   "source": [
    "posts, comments = pq(['roblox','RBLX'], 'allstocks', 'relevance', 'week', True)"
   ]
  },
  {
   "cell_type": "code",
   "execution_count": 8,
   "metadata": {},
   "outputs": [
    {
     "output_type": "execute_result",
     "data": {
      "text/plain": [
       "array(['nerh13', 'ncl6bw'], dtype=object)"
      ]
     },
     "metadata": {},
     "execution_count": 8
    }
   ],
   "source": [
    "comments[\"post_id\"].unique()"
   ]
  },
  {
   "cell_type": "code",
   "execution_count": 9,
   "metadata": {},
   "outputs": [
    {
     "output_type": "execute_result",
     "data": {
      "text/plain": [
       "array(['nerh13', 'ndqjmt', 'ncl6bw'], dtype=object)"
      ]
     },
     "metadata": {},
     "execution_count": 9
    }
   ],
   "source": [
    "posts[\"post_id\"].unique()"
   ]
  },
  {
   "cell_type": "code",
   "execution_count": 10,
   "metadata": {},
   "outputs": [],
   "source": [
    "overall_posts = []\n",
    "overall_posts.append([posts['sentiment'].loc[posts['confidence'] >=0.9].mode()[0], posts['confidence'].loc[posts['confidence'] >=0.9].mean(), posts['title'].loc[(posts['sentiment'] == 'POSITIVE') & (posts['score'] == posts['score'].loc[posts['sentiment'] == 'POSITIVE'].max())], posts['title'].loc[(posts['sentiment'] == 'NEGATIVE') & (posts['score'] == posts['score'].loc[posts['sentiment'] == 'NEGATIVE'].max())]])\n",
    "overall_posts = pd.DataFrame(overall_posts,columns=['most common sentiment', 'confidence mean', 'top positive post', 'top negative post'])"
   ]
  },
  {
   "cell_type": "code",
   "execution_count": 11,
   "metadata": {
    "tags": []
   },
   "outputs": [
    {
     "output_type": "stream",
     "name": "stdout",
     "text": [
      "nerh13\nNEGATIVE\n0.9833645423253378\nncl6bw\nNEGATIVE\n0.968096937822259\n"
     ]
    }
   ],
   "source": [
    "overall_comments = []\n",
    "for post_id in comments[\"post_id\"].unique():\n",
    "    print (post_id)\n",
    "    print ( comments[\"sentiment\"].loc[(comments[\"post_id\"]==post_id) & (comments[\"confidence\"]>=0.8)].mode()[0] )\n",
    "    print ( comments[\"confidence\"].loc[(comments[\"post_id\"]==post_id) & (comments[\"confidence\"]>=0.8)].mean() )\n",
    "    overall_comments.append([post_id, comments[\"sentiment\"].loc[(comments[\"post_id\"]==post_id) & (comments[\"confidence\"]>=0.8)].mode()[0], comments[\"confidence\"].loc[comments[\"confidence\"]>=0.8].mean()])\n",
    "overall_comments = pd.DataFrame(overall_comments,columns=[\"post_id\", 'most common sentiment', 'confidence mean'])"
   ]
  },
  {
   "cell_type": "code",
   "execution_count": 12,
   "metadata": {},
   "outputs": [
    {
     "output_type": "execute_result",
     "data": {
      "text/plain": [
       "'NEGATIVE'"
      ]
     },
     "metadata": {},
     "execution_count": 12
    }
   ],
   "source": [
    "overall_comments[\"most common sentiment\"].mode()[0]"
   ]
  },
  {
   "cell_type": "code",
   "execution_count": 13,
   "metadata": {},
   "outputs": [
    {
     "output_type": "execute_result",
     "data": {
      "text/plain": [
       "                                               title  score post_id  \\\n",
       "0  Here is a Market Recap for today Monday, May 1...     67  nerh13   \n",
       "2                                         $RBLX - DD     31  ncl6bw   \n",
       "\n",
       "        subreddit                                                url  \\\n",
       "0          stocks  https://www.reddit.com/r/stocks/comments/nerh1...   \n",
       "2  wallstreetbets  https://www.reddit.com/r/wallstreetbets/commen...   \n",
       "\n",
       "   num_comments                                               body  \\\n",
       "0            18  **PsychoMarket Recap - Monday, May 17, 2021**\\...   \n",
       "2            52  # Introduction\\n\\nI'm proud to say I've played...   \n",
       "\n",
       "        created sentiment  confidence comments_sentiment  comments_confidence  \\\n",
       "0  1.621313e+09  NEGATIVE    0.996458           NEGATIVE             0.994743   \n",
       "2  1.621062e+09  NEGATIVE    0.999807           NEGATIVE             0.984415   \n",
       "\n",
       "  combined_sentiment  combined_confidence  \n",
       "0           POSITIVE             0.995600  \n",
       "2           POSITIVE             0.992111  "
      ],
      "text/html": "<div>\n<style scoped>\n    .dataframe tbody tr th:only-of-type {\n        vertical-align: middle;\n    }\n\n    .dataframe tbody tr th {\n        vertical-align: top;\n    }\n\n    .dataframe thead th {\n        text-align: right;\n    }\n</style>\n<table border=\"1\" class=\"dataframe\">\n  <thead>\n    <tr style=\"text-align: right;\">\n      <th></th>\n      <th>title</th>\n      <th>score</th>\n      <th>post_id</th>\n      <th>subreddit</th>\n      <th>url</th>\n      <th>num_comments</th>\n      <th>body</th>\n      <th>created</th>\n      <th>sentiment</th>\n      <th>confidence</th>\n      <th>comments_sentiment</th>\n      <th>comments_confidence</th>\n      <th>combined_sentiment</th>\n      <th>combined_confidence</th>\n    </tr>\n  </thead>\n  <tbody>\n    <tr>\n      <th>0</th>\n      <td>Here is a Market Recap for today Monday, May 1...</td>\n      <td>67</td>\n      <td>nerh13</td>\n      <td>stocks</td>\n      <td>https://www.reddit.com/r/stocks/comments/nerh1...</td>\n      <td>18</td>\n      <td>**PsychoMarket Recap - Monday, May 17, 2021**\\...</td>\n      <td>1.621313e+09</td>\n      <td>NEGATIVE</td>\n      <td>0.996458</td>\n      <td>NEGATIVE</td>\n      <td>0.994743</td>\n      <td>POSITIVE</td>\n      <td>0.995600</td>\n    </tr>\n    <tr>\n      <th>2</th>\n      <td>$RBLX - DD</td>\n      <td>31</td>\n      <td>ncl6bw</td>\n      <td>wallstreetbets</td>\n      <td>https://www.reddit.com/r/wallstreetbets/commen...</td>\n      <td>52</td>\n      <td># Introduction\\n\\nI'm proud to say I've played...</td>\n      <td>1.621062e+09</td>\n      <td>NEGATIVE</td>\n      <td>0.999807</td>\n      <td>NEGATIVE</td>\n      <td>0.984415</td>\n      <td>POSITIVE</td>\n      <td>0.992111</td>\n    </tr>\n  </tbody>\n</table>\n</div>"
     },
     "metadata": {},
     "execution_count": 13
    }
   ],
   "source": [
    "posts.loc[posts[\"confidence\"]>=0.8]"
   ]
  },
  {
   "cell_type": "code",
   "execution_count": 14,
   "metadata": {},
   "outputs": [
    {
     "output_type": "execute_result",
     "data": {
      "text/plain": [
       "  most common sentiment  confidence mean  \\\n",
       "0              NEGATIVE         0.998132   \n",
       "\n",
       "                                   top positive post  \\\n",
       "0  1    HeWhoSleepsNot random market report 5/16/...   \n",
       "\n",
       "                                   top negative post  \n",
       "0  0    Here is a Market Recap for today Monday, ...  "
      ],
      "text/html": "<div>\n<style scoped>\n    .dataframe tbody tr th:only-of-type {\n        vertical-align: middle;\n    }\n\n    .dataframe tbody tr th {\n        vertical-align: top;\n    }\n\n    .dataframe thead th {\n        text-align: right;\n    }\n</style>\n<table border=\"1\" class=\"dataframe\">\n  <thead>\n    <tr style=\"text-align: right;\">\n      <th></th>\n      <th>most common sentiment</th>\n      <th>confidence mean</th>\n      <th>top positive post</th>\n      <th>top negative post</th>\n    </tr>\n  </thead>\n  <tbody>\n    <tr>\n      <th>0</th>\n      <td>NEGATIVE</td>\n      <td>0.998132</td>\n      <td>1    HeWhoSleepsNot random market report 5/16/...</td>\n      <td>0    Here is a Market Recap for today Monday, ...</td>\n    </tr>\n  </tbody>\n</table>\n</div>"
     },
     "metadata": {},
     "execution_count": 14
    }
   ],
   "source": [
    "overall_posts"
   ]
  },
  {
   "cell_type": "code",
   "execution_count": 15,
   "metadata": {},
   "outputs": [
    {
     "output_type": "execute_result",
     "data": {
      "text/plain": [
       "NEGATIVE    2\n",
       "POSITIVE    0\n",
       "Name: sentiment, dtype: int64"
      ]
     },
     "metadata": {},
     "execution_count": 15
    }
   ],
   "source": [
    "posts['sentiment'].loc[posts[\"confidence\"]>=0.8].value_counts()"
   ]
  },
  {
   "cell_type": "code",
   "execution_count": 29,
   "metadata": {},
   "outputs": [
    {
     "output_type": "execute_result",
     "data": {
      "text/plain": [
       "NEGATIVE    2861\n",
       "POSITIVE    1421\n",
       "Name: sentiment, dtype: int64"
      ]
     },
     "metadata": {},
     "execution_count": 29
    }
   ],
   "source": [
    "comments['sentiment'].value_counts()"
   ]
  },
  {
   "cell_type": "code",
   "execution_count": 30,
   "metadata": {},
   "outputs": [
    {
     "output_type": "execute_result",
     "data": {
      "text/plain": [
       "POSITIVE    21\n",
       "NEGATIVE    15\n",
       "Name: combined_sentiment, dtype: int64"
      ]
     },
     "metadata": {},
     "execution_count": 30
    }
   ],
   "source": [
    "posts['combined_sentiment'].value_counts()\n"
   ]
  },
  {
   "cell_type": "code",
   "execution_count": 18,
   "metadata": {},
   "outputs": [
    {
     "output_type": "execute_result",
     "data": {
      "text/plain": [
       "'$RBLX - DD'"
      ]
     },
     "metadata": {},
     "execution_count": 18
    }
   ],
   "source": [
    "posts['title'].loc[posts['confidence'] >=0.9].mode()[0]"
   ]
  },
  {
   "cell_type": "code",
   "execution_count": 19,
   "metadata": {},
   "outputs": [
    {
     "output_type": "execute_result",
     "data": {
      "text/plain": [
       "0.9981323480606079"
      ]
     },
     "metadata": {},
     "execution_count": 19
    }
   ],
   "source": [
    "posts['confidence'].loc[posts['confidence'] >=0.9].mean()"
   ]
  },
  {
   "cell_type": "code",
   "execution_count": 20,
   "metadata": {},
   "outputs": [
    {
     "output_type": "execute_result",
     "data": {
      "text/plain": [
       "67"
      ]
     },
     "metadata": {},
     "execution_count": 20
    }
   ],
   "source": [
    "posts['score'].max()"
   ]
  },
  {
   "cell_type": "code",
   "execution_count": 21,
   "metadata": {},
   "outputs": [
    {
     "output_type": "execute_result",
     "data": {
      "text/plain": [
       "1    HeWhoSleepsNot random market report 5/16/21\n",
       "Name: title, dtype: object"
      ]
     },
     "metadata": {},
     "execution_count": 21
    }
   ],
   "source": [
    "posts['title'].loc[(posts['sentiment'] == 'POSITIVE') & (posts['score'] == posts['score'].loc[posts['sentiment'] == 'POSITIVE'].max())]"
   ]
  },
  {
   "cell_type": "code",
   "execution_count": 8,
   "metadata": {},
   "outputs": [
    {
     "output_type": "execute_result",
     "data": {
      "text/plain": [
       "   post_id                                            post  score comment_id  \\\n",
       "0   nlvxzs  Imagine all these trucks with the solar cover!      3    gzn4ihu   \n",
       "1   nlvxzs  Imagine all these trucks with the solar cover!      2    gznxxei   \n",
       "2   nlvxzs  Imagine all these trucks with the solar cover!      2    gzn4q50   \n",
       "3   nlvxzs  Imagine all these trucks with the solar cover!      1    gzoeqod   \n",
       "4   nlvxzs  Imagine all these trucks with the solar cover!      3    gzn52i3   \n",
       "..     ...                                             ...    ...        ...   \n",
       "66  nkyu3p                  SHILL POSTS INCOMING STAY WOKE      2    gzfsfpg   \n",
       "67  nkyu3p                  SHILL POSTS INCOMING STAY WOKE      2    gzgimlw   \n",
       "68  nmnpbj          Journey to $1 Million - May 28th, 2021      2    gzt153h   \n",
       "69  nmnpbj          Journey to $1 Million - May 28th, 2021      1    gztmsat   \n",
       "70  nkqdd8                               WKSP NEWS 5-25-21      1    gze4f05   \n",
       "\n",
       "                                                 body       created sentiment  \\\n",
       "0                Let’s go!!! This Tonneau is awesome.  1.622156e+09  POSITIVE   \n",
       "1   Yeah this is a set it and forget it for me. I ...  1.622168e+09  NEGATIVE   \n",
       "2           Agree...I’m long this one! Best of luck!!  1.622156e+09  POSITIVE   \n",
       "3   Totally agree! I love technology we’re not goi...  1.622175e+09  POSITIVE   \n",
       "4   Yep, I think I invested because I want one so ...  1.622156e+09  NEGATIVE   \n",
       "..                                                ...           ...       ...   \n",
       "66  They posted it 4 times AH lol\\n\\nAnd didn’t me...  1.622006e+09  NEGATIVE   \n",
       "67  Lots of wrinkles in AMC lots of respect for ol...  1.622019e+09  NEGATIVE   \n",
       "68  I bought some BHP August calls yesterday and t...  1.622266e+09  NEGATIVE   \n",
       "69                                   Nice, I like it.  1.622278e+09  POSITIVE   \n",
       "70  \\nDoes this submission fit our subreddit? If i...  1.621980e+09  NEGATIVE   \n",
       "\n",
       "    sentiment_score  \n",
       "0          0.999752  \n",
       "1          0.999878  \n",
       "2          0.710718  \n",
       "3          0.933101  \n",
       "4          0.976153  \n",
       "..              ...  \n",
       "66         0.813309  \n",
       "67         0.941478  \n",
       "68         0.999245  \n",
       "69         0.988143  \n",
       "70         0.996711  \n",
       "\n",
       "[71 rows x 8 columns]"
      ],
      "text/html": "<div>\n<style scoped>\n    .dataframe tbody tr th:only-of-type {\n        vertical-align: middle;\n    }\n\n    .dataframe tbody tr th {\n        vertical-align: top;\n    }\n\n    .dataframe thead th {\n        text-align: right;\n    }\n</style>\n<table border=\"1\" class=\"dataframe\">\n  <thead>\n    <tr style=\"text-align: right;\">\n      <th></th>\n      <th>post_id</th>\n      <th>post</th>\n      <th>score</th>\n      <th>comment_id</th>\n      <th>body</th>\n      <th>created</th>\n      <th>sentiment</th>\n      <th>sentiment_score</th>\n    </tr>\n  </thead>\n  <tbody>\n    <tr>\n      <th>0</th>\n      <td>nlvxzs</td>\n      <td>Imagine all these trucks with the solar cover!</td>\n      <td>3</td>\n      <td>gzn4ihu</td>\n      <td>Let’s go!!! This Tonneau is awesome.</td>\n      <td>1.622156e+09</td>\n      <td>POSITIVE</td>\n      <td>0.999752</td>\n    </tr>\n    <tr>\n      <th>1</th>\n      <td>nlvxzs</td>\n      <td>Imagine all these trucks with the solar cover!</td>\n      <td>2</td>\n      <td>gznxxei</td>\n      <td>Yeah this is a set it and forget it for me. I ...</td>\n      <td>1.622168e+09</td>\n      <td>NEGATIVE</td>\n      <td>0.999878</td>\n    </tr>\n    <tr>\n      <th>2</th>\n      <td>nlvxzs</td>\n      <td>Imagine all these trucks with the solar cover!</td>\n      <td>2</td>\n      <td>gzn4q50</td>\n      <td>Agree...I’m long this one! Best of luck!!</td>\n      <td>1.622156e+09</td>\n      <td>POSITIVE</td>\n      <td>0.710718</td>\n    </tr>\n    <tr>\n      <th>3</th>\n      <td>nlvxzs</td>\n      <td>Imagine all these trucks with the solar cover!</td>\n      <td>1</td>\n      <td>gzoeqod</td>\n      <td>Totally agree! I love technology we’re not goi...</td>\n      <td>1.622175e+09</td>\n      <td>POSITIVE</td>\n      <td>0.933101</td>\n    </tr>\n    <tr>\n      <th>4</th>\n      <td>nlvxzs</td>\n      <td>Imagine all these trucks with the solar cover!</td>\n      <td>3</td>\n      <td>gzn52i3</td>\n      <td>Yep, I think I invested because I want one so ...</td>\n      <td>1.622156e+09</td>\n      <td>NEGATIVE</td>\n      <td>0.976153</td>\n    </tr>\n    <tr>\n      <th>...</th>\n      <td>...</td>\n      <td>...</td>\n      <td>...</td>\n      <td>...</td>\n      <td>...</td>\n      <td>...</td>\n      <td>...</td>\n      <td>...</td>\n    </tr>\n    <tr>\n      <th>66</th>\n      <td>nkyu3p</td>\n      <td>SHILL POSTS INCOMING STAY WOKE</td>\n      <td>2</td>\n      <td>gzfsfpg</td>\n      <td>They posted it 4 times AH lol\\n\\nAnd didn’t me...</td>\n      <td>1.622006e+09</td>\n      <td>NEGATIVE</td>\n      <td>0.813309</td>\n    </tr>\n    <tr>\n      <th>67</th>\n      <td>nkyu3p</td>\n      <td>SHILL POSTS INCOMING STAY WOKE</td>\n      <td>2</td>\n      <td>gzgimlw</td>\n      <td>Lots of wrinkles in AMC lots of respect for ol...</td>\n      <td>1.622019e+09</td>\n      <td>NEGATIVE</td>\n      <td>0.941478</td>\n    </tr>\n    <tr>\n      <th>68</th>\n      <td>nmnpbj</td>\n      <td>Journey to $1 Million - May 28th, 2021</td>\n      <td>2</td>\n      <td>gzt153h</td>\n      <td>I bought some BHP August calls yesterday and t...</td>\n      <td>1.622266e+09</td>\n      <td>NEGATIVE</td>\n      <td>0.999245</td>\n    </tr>\n    <tr>\n      <th>69</th>\n      <td>nmnpbj</td>\n      <td>Journey to $1 Million - May 28th, 2021</td>\n      <td>1</td>\n      <td>gztmsat</td>\n      <td>Nice, I like it.</td>\n      <td>1.622278e+09</td>\n      <td>POSITIVE</td>\n      <td>0.988143</td>\n    </tr>\n    <tr>\n      <th>70</th>\n      <td>nkqdd8</td>\n      <td>WKSP NEWS 5-25-21</td>\n      <td>1</td>\n      <td>gze4f05</td>\n      <td>\\nDoes this submission fit our subreddit? If i...</td>\n      <td>1.621980e+09</td>\n      <td>NEGATIVE</td>\n      <td>0.996711</td>\n    </tr>\n  </tbody>\n</table>\n<p>71 rows × 8 columns</p>\n</div>"
     },
     "metadata": {},
     "execution_count": 8
    }
   ],
   "source": [
    "comments"
   ]
  },
  {
   "cell_type": "code",
   "execution_count": 7,
   "metadata": {},
   "outputs": [
    {
     "output_type": "stream",
     "name": "stdout",
     "text": [
      "<class 'pandas.core.frame.DataFrame'>\nIndex: 0 entries\nData columns (total 6 columns):\n #   Column      Non-Null Count  Dtype \n---  ------      --------------  ----- \n 0   post_id     0 non-null      object\n 1   post        0 non-null      object\n 2   score       0 non-null      object\n 3   comment_id  0 non-null      object\n 4   body        0 non-null      object\n 5   created     0 non-null      object\ndtypes: object(6)\nmemory usage: 80.0+ bytes\n"
     ]
    }
   ],
   "source": [
    "comments.info()"
   ]
  },
  {
   "cell_type": "code",
   "execution_count": 9,
   "metadata": {},
   "outputs": [
    {
     "output_type": "execute_result",
     "data": {
      "text/plain": [
       "True"
      ]
     },
     "metadata": {},
     "execution_count": 9
    }
   ],
   "source": [
    "comments.empty==True"
   ]
  },
  {
   "cell_type": "code",
   "execution_count": 9,
   "metadata": {},
   "outputs": [],
   "source": [
    "posts[\"test\"] = np.where (posts['comments_sentiment'].isna(), posts['sentiment'], np.where (posts['sentiment'] == posts['comments_sentiment'], 'POSITIVE', 'NEGATIVE'))\n",
    "#posts[\"combined_sentiment\"] = np.where (posts['sentiment'] == posts['comments_sentiment'], \"POSITIVE\", \"NEGATIVE\")"
   ]
  },
  {
   "cell_type": "code",
   "execution_count": 7,
   "metadata": {},
   "outputs": [
    {
     "output_type": "execute_result",
     "data": {
      "text/plain": [
       "                    post_id  \\\n",
       "created                       \n",
       "2021-05-27 08:50:50  nlvxzs   \n",
       "2021-05-27 14:17:29  nm138z   \n",
       "2021-05-27 21:52:03  nm7xjt   \n",
       "2021-05-26 21:47:21  nlhgdw   \n",
       "2021-05-28 21:49:47  nmy95q   \n",
       "2021-05-24 21:51:14  njygdc   \n",
       "2021-05-25 21:47:28  nkq5ns   \n",
       "2021-05-27 18:32:20  nm4h6p   \n",
       "2021-05-27 06:10:33  nlsu85   \n",
       "2021-05-28 10:31:18  nmnrko   \n",
       "2021-05-23 05:15:15  nisapp   \n",
       "2021-05-26 04:09:06  nkyu3p   \n",
       "2021-05-28 10:27:35  nmnpbj   \n",
       "2021-05-25 08:43:28  nkcwfw   \n",
       "2021-05-27 05:22:59  nlrvw6   \n",
       "2021-05-29 04:06:25  nn6cwr   \n",
       "2021-05-28 04:33:56  nmgx94   \n",
       "2021-05-25 21:57:40  nkqdd8   \n",
       "2021-05-25 05:29:36  nk8xr6   \n",
       "2021-05-26 05:12:27  nl065q   \n",
       "2021-05-25 21:56:14  nkqc8u   \n",
       "2021-05-29 07:03:52  nna2a7   \n",
       "2021-05-27 00:54:20  nllq5p   \n",
       "2021-05-27 09:43:20  nlwuq7   \n",
       "\n",
       "                                                                 title  score  \\\n",
       "created                                                                         \n",
       "2021-05-27 08:50:50     Imagine all these trucks with the solar cover!      9   \n",
       "2021-05-27 14:17:29                        Looking for help with xpath      3   \n",
       "2021-05-27 21:52:03      Your Morning Brief for Thursday, May 27, 2021     20   \n",
       "2021-05-26 21:47:21     Your Morning Brief for Wednesday, May 26, 2021     16   \n",
       "2021-05-28 21:49:47        Your Morning Brief for Friday, May 28, 2021     12   \n",
       "2021-05-24 21:51:14        Your Morning Brief for Monday, May 24, 2021      6   \n",
       "2021-05-25 21:47:28       Your Morning Brief for Tuesday, May 25, 2021      9   \n",
       "2021-05-27 18:32:20  WKSP on the move and imagine all these EV truc...      2   \n",
       "2021-05-27 06:10:33  First real post on WSB - found a walking zombi...     27   \n",
       "2021-05-28 10:31:18                            FB and SNOW - Puts - TA     16   \n",
       "2021-05-23 05:15:15  Tesla Accused in Suit of Firing Worker to Cove...     56   \n",
       "2021-05-26 04:09:06                     SHILL POSTS INCOMING STAY WOKE     14   \n",
       "2021-05-28 10:27:35             Journey to $1 Million - May 28th, 2021     12   \n",
       "2021-05-25 08:43:28  China Braces for $1.3 Trillion Maturity Wall a...     54   \n",
       "2021-05-27 05:22:59  Stockboomer[Alphaversion] 2021-05-26 - Stockbo...      9   \n",
       "2021-05-29 04:06:25             $FSR (Fisker Inc) due-diligence part 4      6   \n",
       "2021-05-28 04:33:56  Stockboomer[Alphaversion] 2021-05-27 - Stockbo...      7   \n",
       "2021-05-25 21:57:40                                  WKSP NEWS 5-25-21      7   \n",
       "2021-05-25 05:29:36  Stockboomer[Alphaversion] 2021-05-24 - Stockbo...      7   \n",
       "2021-05-26 05:12:27  Stockboomer[Alphaversion] 2021-05-25 - Stockbo...      6   \n",
       "2021-05-25 21:56:14                                      5-25-21 News.      5   \n",
       "2021-05-29 07:03:52  Stockboomer[Alphaversion] 2021-05-28 - Stockbo...      4   \n",
       "2021-05-27 00:54:20  Forget Bitcoin and Ethereum: 10 Best Cryptocur...      4   \n",
       "2021-05-27 09:43:20  First real post on WSB - found a walking zombi...      1   \n",
       "\n",
       "                                 subreddit  \\\n",
       "created                                      \n",
       "2021-05-27 08:50:50                   wksp   \n",
       "2021-05-27 14:17:29                 sheets   \n",
       "2021-05-27 21:52:03          RedditTickers   \n",
       "2021-05-26 21:47:21          RedditTickers   \n",
       "2021-05-28 21:49:47          RedditTickers   \n",
       "2021-05-24 21:51:14          RedditTickers   \n",
       "2021-05-25 21:47:28          RedditTickers   \n",
       "2021-05-27 18:32:20         MillennialBets   \n",
       "2021-05-27 06:10:33         wallstreetbets   \n",
       "2021-05-28 10:31:18                options   \n",
       "2021-05-23 05:15:15       Wallstreetsilver   \n",
       "2021-05-26 04:09:06               amcstock   \n",
       "2021-05-28 10:27:35               ProStock   \n",
       "2021-05-25 08:43:28       Wallstreetsilver   \n",
       "2021-05-27 05:22:59            stockboomer   \n",
       "2021-05-29 04:06:25  investingforbeginners   \n",
       "2021-05-28 04:33:56            stockboomer   \n",
       "2021-05-25 21:57:40            pennystocks   \n",
       "2021-05-25 05:29:36            stockboomer   \n",
       "2021-05-26 05:12:27            stockboomer   \n",
       "2021-05-25 21:56:14                   wksp   \n",
       "2021-05-29 07:03:52            stockboomer   \n",
       "2021-05-27 00:54:20             BeesSocial   \n",
       "2021-05-27 09:43:20         MillennialBets   \n",
       "\n",
       "                                                                   url  \\\n",
       "created                                                                  \n",
       "2021-05-27 08:50:50  https://www.reddit.com/r/wksp/comments/nlvxzs/...   \n",
       "2021-05-27 14:17:29  https://www.reddit.com/r/sheets/comments/nm138...   \n",
       "2021-05-27 21:52:03  https://www.reddit.com/r/RedditTickers/comment...   \n",
       "2021-05-26 21:47:21  https://www.reddit.com/r/RedditTickers/comment...   \n",
       "2021-05-28 21:49:47  https://www.reddit.com/r/RedditTickers/comment...   \n",
       "2021-05-24 21:51:14  https://www.reddit.com/r/RedditTickers/comment...   \n",
       "2021-05-25 21:47:28  https://www.reddit.com/r/RedditTickers/comment...   \n",
       "2021-05-27 18:32:20  https://www.reddit.com/r/MillennialBets/commen...   \n",
       "2021-05-27 06:10:33  https://www.reddit.com/r/wallstreetbets/commen...   \n",
       "2021-05-28 10:31:18  https://www.reddit.com/r/options/comments/nmnr...   \n",
       "2021-05-23 05:15:15  https://www.reddit.com/r/Wallstreetsilver/comm...   \n",
       "2021-05-26 04:09:06  https://www.reddit.com/r/amcstock/comments/nky...   \n",
       "2021-05-28 10:27:35  https://www.reddit.com/r/ProStock/comments/nmn...   \n",
       "2021-05-25 08:43:28  https://www.reddit.com/r/Wallstreetsilver/comm...   \n",
       "2021-05-27 05:22:59  https://www.reddit.com/r/stockboomer/comments/...   \n",
       "2021-05-29 04:06:25  https://www.reddit.com/r/investingforbeginners...   \n",
       "2021-05-28 04:33:56  https://www.reddit.com/r/stockboomer/comments/...   \n",
       "2021-05-25 21:57:40  https://www.reddit.com/r/pennystocks/comments/...   \n",
       "2021-05-25 05:29:36  https://www.reddit.com/r/stockboomer/comments/...   \n",
       "2021-05-26 05:12:27  https://www.reddit.com/r/stockboomer/comments/...   \n",
       "2021-05-25 21:56:14  https://www.reddit.com/r/wksp/comments/nkqc8u/...   \n",
       "2021-05-29 07:03:52  https://www.reddit.com/r/stockboomer/comments/...   \n",
       "2021-05-27 00:54:20  https://www.reddit.com/r/BeesSocial/comments/n...   \n",
       "2021-05-27 09:43:20  https://www.reddit.com/r/MillennialBets/commen...   \n",
       "\n",
       "                     num_comments  \\\n",
       "created                             \n",
       "2021-05-27 08:50:50            11   \n",
       "2021-05-27 14:17:29             3   \n",
       "2021-05-27 21:52:03             0   \n",
       "2021-05-26 21:47:21             1   \n",
       "2021-05-28 21:49:47             1   \n",
       "2021-05-24 21:51:14             1   \n",
       "2021-05-25 21:47:28             0   \n",
       "2021-05-27 18:32:20             0   \n",
       "2021-05-27 06:10:33            32   \n",
       "2021-05-28 10:31:18            12   \n",
       "2021-05-23 05:15:15             7   \n",
       "2021-05-26 04:09:06             3   \n",
       "2021-05-28 10:27:35             2   \n",
       "2021-05-25 08:43:28             0   \n",
       "2021-05-27 05:22:59             0   \n",
       "2021-05-29 04:06:25             0   \n",
       "2021-05-28 04:33:56             0   \n",
       "2021-05-25 21:57:40             1   \n",
       "2021-05-25 05:29:36             0   \n",
       "2021-05-26 05:12:27             0   \n",
       "2021-05-25 21:56:14             0   \n",
       "2021-05-29 07:03:52             0   \n",
       "2021-05-27 00:54:20             0   \n",
       "2021-05-27 09:43:20             0   \n",
       "\n",
       "                                                                  body  \\\n",
       "created                                                                  \n",
       "2021-05-27 08:50:50  Ford's F-150 electric truck sales hit 70,000: ...   \n",
       "2021-05-27 14:17:29  Hi all,\\n\\nI've been trying to figure out how ...   \n",
       "2021-05-27 21:52:03  #Market Overview\\n\\nThe S&P 500 is higher Thur...   \n",
       "2021-05-26 21:47:21  #Market Overview\\n\\nThe S&P 500 is higher Wedn...   \n",
       "2021-05-28 21:49:47  #Market Overview\\n\\nThe S&P 500 is higher Frid...   \n",
       "2021-05-24 21:51:14  #Market Overview\\n\\nThe S&P 500 is higher Mond...   \n",
       "2021-05-25 21:47:28  #Market Overview\\n\\nThe S&P 500 is higher Tues...   \n",
       "2021-05-27 18:32:20  **Author**: u/StAnthonyleadus2it(**Karma:** 44...   \n",
       "2021-05-27 06:10:33  Redoing this because I tried to emulate instea...   \n",
       "2021-05-28 10:31:18   **Options Triggering:** \\n\\nFacebook, $FB, ha...   \n",
       "2021-05-23 05:15:15  **Nothing shady about this...yet the lemmings ...   \n",
       "2021-05-26 04:09:06   on AMC ticker via Think Or Swim News Alert\\n\\...   \n",
       "2021-05-28 10:27:35  [https://www.prostockadvice.com/post/journey-t...   \n",
       "2021-05-25 08:43:28  **China's central bank, like all central banks...   \n",
       "2021-05-27 05:22:59  *Disclaimer: Currently in early development st...   \n",
       "2021-05-29 04:06:25   \\n\\n## Recent news/announcements/media etc\\n\\...   \n",
       "2021-05-28 04:33:56  *Disclaimer: Currently in early development st...   \n",
       "2021-05-25 21:57:40  8:30a ET 5/25/2021 - Benzinga\\nWorksport's Bed...   \n",
       "2021-05-25 05:29:36  *Disclaimer: Currently in early development st...   \n",
       "2021-05-26 05:12:27  *Disclaimer: Currently in early development st...   \n",
       "2021-05-25 21:56:14  8:30a ET 5/25/2021 \\nWorksport's Bed Covers Ch...   \n",
       "2021-05-29 07:03:52  *Disclaimer: Currently in early development st...   \n",
       "2021-05-27 00:54:20   \\n\\nIn this article, we will take a look at t...   \n",
       "2021-05-27 09:43:20  **Author**: u/RugbyDov(**Karma:** 283, **Creat...   \n",
       "\n",
       "                    sentiment  sentiment_score comments_sentiment  \\\n",
       "created                                                             \n",
       "2021-05-27 08:50:50  NEGATIVE         0.971231           POSITIVE   \n",
       "2021-05-27 14:17:29  NEGATIVE         0.990733           POSITIVE   \n",
       "2021-05-27 21:52:03  NEGATIVE         0.998418                NaN   \n",
       "2021-05-26 21:47:21  NEGATIVE         0.999335           POSITIVE   \n",
       "2021-05-28 21:49:47  NEGATIVE         0.999724           POSITIVE   \n",
       "2021-05-24 21:51:14  NEGATIVE         0.999651           POSITIVE   \n",
       "2021-05-25 21:47:28  NEGATIVE         0.998607                NaN   \n",
       "2021-05-27 18:32:20  NEGATIVE         0.955394                NaN   \n",
       "2021-05-27 06:10:33  NEGATIVE         0.999991           NEGATIVE   \n",
       "2021-05-28 10:31:18  NEGATIVE         0.998853           NEGATIVE   \n",
       "2021-05-23 05:15:15  NEGATIVE         0.997514           NEGATIVE   \n",
       "2021-05-26 04:09:06  NEGATIVE         0.996693           NEGATIVE   \n",
       "2021-05-28 10:27:35  POSITIVE         0.999171           NEGATIVE   \n",
       "2021-05-25 08:43:28  NEGATIVE         0.995779                NaN   \n",
       "2021-05-27 05:22:59  NEGATIVE         0.997877                NaN   \n",
       "2021-05-29 04:06:25  POSITIVE         0.999669                NaN   \n",
       "2021-05-28 04:33:56  NEGATIVE         0.998947                NaN   \n",
       "2021-05-25 21:57:40  NEGATIVE         0.891296           NEGATIVE   \n",
       "2021-05-25 05:29:36  NEGATIVE         0.998725                NaN   \n",
       "2021-05-26 05:12:27  NEGATIVE         0.999047                NaN   \n",
       "2021-05-25 21:56:14  NEGATIVE         0.736500                NaN   \n",
       "2021-05-29 07:03:52  NEGATIVE         0.998624                NaN   \n",
       "2021-05-27 00:54:20  NEGATIVE         0.969468                NaN   \n",
       "2021-05-27 09:43:20  NEGATIVE         0.999796                NaN   \n",
       "\n",
       "                     comments_score combined_sentiment  combined_score  \n",
       "created                                                                 \n",
       "2021-05-27 08:50:50        0.891190           NEGATIVE        0.931210  \n",
       "2021-05-27 14:17:29        0.974930           NEGATIVE        0.982832  \n",
       "2021-05-27 21:52:03             NaN           NEGATIVE        0.998418  \n",
       "2021-05-26 21:47:21        0.930025           NEGATIVE        0.964680  \n",
       "2021-05-28 21:49:47        0.743806           NEGATIVE        0.871765  \n",
       "2021-05-24 21:51:14        0.976070           NEGATIVE        0.987860  \n",
       "2021-05-25 21:47:28             NaN           NEGATIVE        0.998607  \n",
       "2021-05-27 18:32:20             NaN           NEGATIVE        0.955394  \n",
       "2021-05-27 06:10:33        0.949658           POSITIVE        0.974824  \n",
       "2021-05-28 10:31:18        0.962506           POSITIVE        0.980680  \n",
       "2021-05-23 05:15:15        0.983157           POSITIVE        0.990336  \n",
       "2021-05-26 04:09:06        0.795081           POSITIVE        0.895887  \n",
       "2021-05-28 10:27:35        0.993694           NEGATIVE        0.996432  \n",
       "2021-05-25 08:43:28             NaN           NEGATIVE        0.995779  \n",
       "2021-05-27 05:22:59             NaN           NEGATIVE        0.997877  \n",
       "2021-05-29 04:06:25             NaN           POSITIVE        0.999669  \n",
       "2021-05-28 04:33:56             NaN           NEGATIVE        0.998947  \n",
       "2021-05-25 21:57:40        0.996711           POSITIVE        0.944003  \n",
       "2021-05-25 05:29:36             NaN           NEGATIVE        0.998725  \n",
       "2021-05-26 05:12:27             NaN           NEGATIVE        0.999047  \n",
       "2021-05-25 21:56:14             NaN           NEGATIVE        0.736500  \n",
       "2021-05-29 07:03:52             NaN           NEGATIVE        0.998624  \n",
       "2021-05-27 00:54:20             NaN           NEGATIVE        0.969468  \n",
       "2021-05-27 09:43:20             NaN           NEGATIVE        0.999796  "
      ],
      "text/html": "<div>\n<style scoped>\n    .dataframe tbody tr th:only-of-type {\n        vertical-align: middle;\n    }\n\n    .dataframe tbody tr th {\n        vertical-align: top;\n    }\n\n    .dataframe thead th {\n        text-align: right;\n    }\n</style>\n<table border=\"1\" class=\"dataframe\">\n  <thead>\n    <tr style=\"text-align: right;\">\n      <th></th>\n      <th>post_id</th>\n      <th>title</th>\n      <th>score</th>\n      <th>subreddit</th>\n      <th>url</th>\n      <th>num_comments</th>\n      <th>body</th>\n      <th>sentiment</th>\n      <th>sentiment_score</th>\n      <th>comments_sentiment</th>\n      <th>comments_score</th>\n      <th>combined_sentiment</th>\n      <th>combined_score</th>\n    </tr>\n    <tr>\n      <th>created</th>\n      <th></th>\n      <th></th>\n      <th></th>\n      <th></th>\n      <th></th>\n      <th></th>\n      <th></th>\n      <th></th>\n      <th></th>\n      <th></th>\n      <th></th>\n      <th></th>\n      <th></th>\n    </tr>\n  </thead>\n  <tbody>\n    <tr>\n      <th>2021-05-27 08:50:50</th>\n      <td>nlvxzs</td>\n      <td>Imagine all these trucks with the solar cover!</td>\n      <td>9</td>\n      <td>wksp</td>\n      <td>https://www.reddit.com/r/wksp/comments/nlvxzs/...</td>\n      <td>11</td>\n      <td>Ford's F-150 electric truck sales hit 70,000: ...</td>\n      <td>NEGATIVE</td>\n      <td>0.971231</td>\n      <td>POSITIVE</td>\n      <td>0.891190</td>\n      <td>NEGATIVE</td>\n      <td>0.931210</td>\n    </tr>\n    <tr>\n      <th>2021-05-27 14:17:29</th>\n      <td>nm138z</td>\n      <td>Looking for help with xpath</td>\n      <td>3</td>\n      <td>sheets</td>\n      <td>https://www.reddit.com/r/sheets/comments/nm138...</td>\n      <td>3</td>\n      <td>Hi all,\\n\\nI've been trying to figure out how ...</td>\n      <td>NEGATIVE</td>\n      <td>0.990733</td>\n      <td>POSITIVE</td>\n      <td>0.974930</td>\n      <td>NEGATIVE</td>\n      <td>0.982832</td>\n    </tr>\n    <tr>\n      <th>2021-05-27 21:52:03</th>\n      <td>nm7xjt</td>\n      <td>Your Morning Brief for Thursday, May 27, 2021</td>\n      <td>20</td>\n      <td>RedditTickers</td>\n      <td>https://www.reddit.com/r/RedditTickers/comment...</td>\n      <td>0</td>\n      <td>#Market Overview\\n\\nThe S&amp;P 500 is higher Thur...</td>\n      <td>NEGATIVE</td>\n      <td>0.998418</td>\n      <td>NaN</td>\n      <td>NaN</td>\n      <td>NEGATIVE</td>\n      <td>0.998418</td>\n    </tr>\n    <tr>\n      <th>2021-05-26 21:47:21</th>\n      <td>nlhgdw</td>\n      <td>Your Morning Brief for Wednesday, May 26, 2021</td>\n      <td>16</td>\n      <td>RedditTickers</td>\n      <td>https://www.reddit.com/r/RedditTickers/comment...</td>\n      <td>1</td>\n      <td>#Market Overview\\n\\nThe S&amp;P 500 is higher Wedn...</td>\n      <td>NEGATIVE</td>\n      <td>0.999335</td>\n      <td>POSITIVE</td>\n      <td>0.930025</td>\n      <td>NEGATIVE</td>\n      <td>0.964680</td>\n    </tr>\n    <tr>\n      <th>2021-05-28 21:49:47</th>\n      <td>nmy95q</td>\n      <td>Your Morning Brief for Friday, May 28, 2021</td>\n      <td>12</td>\n      <td>RedditTickers</td>\n      <td>https://www.reddit.com/r/RedditTickers/comment...</td>\n      <td>1</td>\n      <td>#Market Overview\\n\\nThe S&amp;P 500 is higher Frid...</td>\n      <td>NEGATIVE</td>\n      <td>0.999724</td>\n      <td>POSITIVE</td>\n      <td>0.743806</td>\n      <td>NEGATIVE</td>\n      <td>0.871765</td>\n    </tr>\n    <tr>\n      <th>2021-05-24 21:51:14</th>\n      <td>njygdc</td>\n      <td>Your Morning Brief for Monday, May 24, 2021</td>\n      <td>6</td>\n      <td>RedditTickers</td>\n      <td>https://www.reddit.com/r/RedditTickers/comment...</td>\n      <td>1</td>\n      <td>#Market Overview\\n\\nThe S&amp;P 500 is higher Mond...</td>\n      <td>NEGATIVE</td>\n      <td>0.999651</td>\n      <td>POSITIVE</td>\n      <td>0.976070</td>\n      <td>NEGATIVE</td>\n      <td>0.987860</td>\n    </tr>\n    <tr>\n      <th>2021-05-25 21:47:28</th>\n      <td>nkq5ns</td>\n      <td>Your Morning Brief for Tuesday, May 25, 2021</td>\n      <td>9</td>\n      <td>RedditTickers</td>\n      <td>https://www.reddit.com/r/RedditTickers/comment...</td>\n      <td>0</td>\n      <td>#Market Overview\\n\\nThe S&amp;P 500 is higher Tues...</td>\n      <td>NEGATIVE</td>\n      <td>0.998607</td>\n      <td>NaN</td>\n      <td>NaN</td>\n      <td>NEGATIVE</td>\n      <td>0.998607</td>\n    </tr>\n    <tr>\n      <th>2021-05-27 18:32:20</th>\n      <td>nm4h6p</td>\n      <td>WKSP on the move and imagine all these EV truc...</td>\n      <td>2</td>\n      <td>MillennialBets</td>\n      <td>https://www.reddit.com/r/MillennialBets/commen...</td>\n      <td>0</td>\n      <td>**Author**: u/StAnthonyleadus2it(**Karma:** 44...</td>\n      <td>NEGATIVE</td>\n      <td>0.955394</td>\n      <td>NaN</td>\n      <td>NaN</td>\n      <td>NEGATIVE</td>\n      <td>0.955394</td>\n    </tr>\n    <tr>\n      <th>2021-05-27 06:10:33</th>\n      <td>nlsu85</td>\n      <td>First real post on WSB - found a walking zombi...</td>\n      <td>27</td>\n      <td>wallstreetbets</td>\n      <td>https://www.reddit.com/r/wallstreetbets/commen...</td>\n      <td>32</td>\n      <td>Redoing this because I tried to emulate instea...</td>\n      <td>NEGATIVE</td>\n      <td>0.999991</td>\n      <td>NEGATIVE</td>\n      <td>0.949658</td>\n      <td>POSITIVE</td>\n      <td>0.974824</td>\n    </tr>\n    <tr>\n      <th>2021-05-28 10:31:18</th>\n      <td>nmnrko</td>\n      <td>FB and SNOW - Puts - TA</td>\n      <td>16</td>\n      <td>options</td>\n      <td>https://www.reddit.com/r/options/comments/nmnr...</td>\n      <td>12</td>\n      <td>**Options Triggering:** \\n\\nFacebook, $FB, ha...</td>\n      <td>NEGATIVE</td>\n      <td>0.998853</td>\n      <td>NEGATIVE</td>\n      <td>0.962506</td>\n      <td>POSITIVE</td>\n      <td>0.980680</td>\n    </tr>\n    <tr>\n      <th>2021-05-23 05:15:15</th>\n      <td>nisapp</td>\n      <td>Tesla Accused in Suit of Firing Worker to Cove...</td>\n      <td>56</td>\n      <td>Wallstreetsilver</td>\n      <td>https://www.reddit.com/r/Wallstreetsilver/comm...</td>\n      <td>7</td>\n      <td>**Nothing shady about this...yet the lemmings ...</td>\n      <td>NEGATIVE</td>\n      <td>0.997514</td>\n      <td>NEGATIVE</td>\n      <td>0.983157</td>\n      <td>POSITIVE</td>\n      <td>0.990336</td>\n    </tr>\n    <tr>\n      <th>2021-05-26 04:09:06</th>\n      <td>nkyu3p</td>\n      <td>SHILL POSTS INCOMING STAY WOKE</td>\n      <td>14</td>\n      <td>amcstock</td>\n      <td>https://www.reddit.com/r/amcstock/comments/nky...</td>\n      <td>3</td>\n      <td>on AMC ticker via Think Or Swim News Alert\\n\\...</td>\n      <td>NEGATIVE</td>\n      <td>0.996693</td>\n      <td>NEGATIVE</td>\n      <td>0.795081</td>\n      <td>POSITIVE</td>\n      <td>0.895887</td>\n    </tr>\n    <tr>\n      <th>2021-05-28 10:27:35</th>\n      <td>nmnpbj</td>\n      <td>Journey to $1 Million - May 28th, 2021</td>\n      <td>12</td>\n      <td>ProStock</td>\n      <td>https://www.reddit.com/r/ProStock/comments/nmn...</td>\n      <td>2</td>\n      <td>[https://www.prostockadvice.com/post/journey-t...</td>\n      <td>POSITIVE</td>\n      <td>0.999171</td>\n      <td>NEGATIVE</td>\n      <td>0.993694</td>\n      <td>NEGATIVE</td>\n      <td>0.996432</td>\n    </tr>\n    <tr>\n      <th>2021-05-25 08:43:28</th>\n      <td>nkcwfw</td>\n      <td>China Braces for $1.3 Trillion Maturity Wall a...</td>\n      <td>54</td>\n      <td>Wallstreetsilver</td>\n      <td>https://www.reddit.com/r/Wallstreetsilver/comm...</td>\n      <td>0</td>\n      <td>**China's central bank, like all central banks...</td>\n      <td>NEGATIVE</td>\n      <td>0.995779</td>\n      <td>NaN</td>\n      <td>NaN</td>\n      <td>NEGATIVE</td>\n      <td>0.995779</td>\n    </tr>\n    <tr>\n      <th>2021-05-27 05:22:59</th>\n      <td>nlrvw6</td>\n      <td>Stockboomer[Alphaversion] 2021-05-26 - Stockbo...</td>\n      <td>9</td>\n      <td>stockboomer</td>\n      <td>https://www.reddit.com/r/stockboomer/comments/...</td>\n      <td>0</td>\n      <td>*Disclaimer: Currently in early development st...</td>\n      <td>NEGATIVE</td>\n      <td>0.997877</td>\n      <td>NaN</td>\n      <td>NaN</td>\n      <td>NEGATIVE</td>\n      <td>0.997877</td>\n    </tr>\n    <tr>\n      <th>2021-05-29 04:06:25</th>\n      <td>nn6cwr</td>\n      <td>$FSR (Fisker Inc) due-diligence part 4</td>\n      <td>6</td>\n      <td>investingforbeginners</td>\n      <td>https://www.reddit.com/r/investingforbeginners...</td>\n      <td>0</td>\n      <td>\\n\\n## Recent news/announcements/media etc\\n\\...</td>\n      <td>POSITIVE</td>\n      <td>0.999669</td>\n      <td>NaN</td>\n      <td>NaN</td>\n      <td>POSITIVE</td>\n      <td>0.999669</td>\n    </tr>\n    <tr>\n      <th>2021-05-28 04:33:56</th>\n      <td>nmgx94</td>\n      <td>Stockboomer[Alphaversion] 2021-05-27 - Stockbo...</td>\n      <td>7</td>\n      <td>stockboomer</td>\n      <td>https://www.reddit.com/r/stockboomer/comments/...</td>\n      <td>0</td>\n      <td>*Disclaimer: Currently in early development st...</td>\n      <td>NEGATIVE</td>\n      <td>0.998947</td>\n      <td>NaN</td>\n      <td>NaN</td>\n      <td>NEGATIVE</td>\n      <td>0.998947</td>\n    </tr>\n    <tr>\n      <th>2021-05-25 21:57:40</th>\n      <td>nkqdd8</td>\n      <td>WKSP NEWS 5-25-21</td>\n      <td>7</td>\n      <td>pennystocks</td>\n      <td>https://www.reddit.com/r/pennystocks/comments/...</td>\n      <td>1</td>\n      <td>8:30a ET 5/25/2021 - Benzinga\\nWorksport's Bed...</td>\n      <td>NEGATIVE</td>\n      <td>0.891296</td>\n      <td>NEGATIVE</td>\n      <td>0.996711</td>\n      <td>POSITIVE</td>\n      <td>0.944003</td>\n    </tr>\n    <tr>\n      <th>2021-05-25 05:29:36</th>\n      <td>nk8xr6</td>\n      <td>Stockboomer[Alphaversion] 2021-05-24 - Stockbo...</td>\n      <td>7</td>\n      <td>stockboomer</td>\n      <td>https://www.reddit.com/r/stockboomer/comments/...</td>\n      <td>0</td>\n      <td>*Disclaimer: Currently in early development st...</td>\n      <td>NEGATIVE</td>\n      <td>0.998725</td>\n      <td>NaN</td>\n      <td>NaN</td>\n      <td>NEGATIVE</td>\n      <td>0.998725</td>\n    </tr>\n    <tr>\n      <th>2021-05-26 05:12:27</th>\n      <td>nl065q</td>\n      <td>Stockboomer[Alphaversion] 2021-05-25 - Stockbo...</td>\n      <td>6</td>\n      <td>stockboomer</td>\n      <td>https://www.reddit.com/r/stockboomer/comments/...</td>\n      <td>0</td>\n      <td>*Disclaimer: Currently in early development st...</td>\n      <td>NEGATIVE</td>\n      <td>0.999047</td>\n      <td>NaN</td>\n      <td>NaN</td>\n      <td>NEGATIVE</td>\n      <td>0.999047</td>\n    </tr>\n    <tr>\n      <th>2021-05-25 21:56:14</th>\n      <td>nkqc8u</td>\n      <td>5-25-21 News.</td>\n      <td>5</td>\n      <td>wksp</td>\n      <td>https://www.reddit.com/r/wksp/comments/nkqc8u/...</td>\n      <td>0</td>\n      <td>8:30a ET 5/25/2021 \\nWorksport's Bed Covers Ch...</td>\n      <td>NEGATIVE</td>\n      <td>0.736500</td>\n      <td>NaN</td>\n      <td>NaN</td>\n      <td>NEGATIVE</td>\n      <td>0.736500</td>\n    </tr>\n    <tr>\n      <th>2021-05-29 07:03:52</th>\n      <td>nna2a7</td>\n      <td>Stockboomer[Alphaversion] 2021-05-28 - Stockbo...</td>\n      <td>4</td>\n      <td>stockboomer</td>\n      <td>https://www.reddit.com/r/stockboomer/comments/...</td>\n      <td>0</td>\n      <td>*Disclaimer: Currently in early development st...</td>\n      <td>NEGATIVE</td>\n      <td>0.998624</td>\n      <td>NaN</td>\n      <td>NaN</td>\n      <td>NEGATIVE</td>\n      <td>0.998624</td>\n    </tr>\n    <tr>\n      <th>2021-05-27 00:54:20</th>\n      <td>nllq5p</td>\n      <td>Forget Bitcoin and Ethereum: 10 Best Cryptocur...</td>\n      <td>4</td>\n      <td>BeesSocial</td>\n      <td>https://www.reddit.com/r/BeesSocial/comments/n...</td>\n      <td>0</td>\n      <td>\\n\\nIn this article, we will take a look at t...</td>\n      <td>NEGATIVE</td>\n      <td>0.969468</td>\n      <td>NaN</td>\n      <td>NaN</td>\n      <td>NEGATIVE</td>\n      <td>0.969468</td>\n    </tr>\n    <tr>\n      <th>2021-05-27 09:43:20</th>\n      <td>nlwuq7</td>\n      <td>First real post on WSB - found a walking zombi...</td>\n      <td>1</td>\n      <td>MillennialBets</td>\n      <td>https://www.reddit.com/r/MillennialBets/commen...</td>\n      <td>0</td>\n      <td>**Author**: u/RugbyDov(**Karma:** 283, **Creat...</td>\n      <td>NEGATIVE</td>\n      <td>0.999796</td>\n      <td>NaN</td>\n      <td>NaN</td>\n      <td>NEGATIVE</td>\n      <td>0.999796</td>\n    </tr>\n  </tbody>\n</table>\n</div>"
     },
     "metadata": {},
     "execution_count": 7
    }
   ],
   "source": [
    "posts"
   ]
  },
  {
   "cell_type": "code",
   "execution_count": 118,
   "metadata": {},
   "outputs": [
    {
     "output_type": "error",
     "ename": "KeyError",
     "evalue": "False",
     "traceback": [
      "\u001b[1;31m---------------------------------------------------------------------------\u001b[0m",
      "\u001b[1;31mKeyError\u001b[0m                                  Traceback (most recent call last)",
      "\u001b[1;32m<ipython-input-118-da2e483437dd>\u001b[0m in \u001b[0;36m<module>\u001b[1;34m\u001b[0m\n\u001b[0;32m      1\u001b[0m \u001b[1;32mfor\u001b[0m \u001b[0mpost_id\u001b[0m \u001b[1;32min\u001b[0m \u001b[0mcomments\u001b[0m\u001b[1;33m[\u001b[0m\u001b[1;34m\"post_id\"\u001b[0m\u001b[1;33m]\u001b[0m\u001b[1;33m.\u001b[0m\u001b[0munique\u001b[0m\u001b[1;33m(\u001b[0m\u001b[1;33m)\u001b[0m\u001b[1;33m:\u001b[0m\u001b[1;33m\u001b[0m\u001b[1;33m\u001b[0m\u001b[0m\n\u001b[1;32m----> 2\u001b[1;33m     \u001b[0mposts\u001b[0m\u001b[1;33m.\u001b[0m\u001b[0mat\u001b[0m\u001b[1;33m[\u001b[0m\u001b[0mposts\u001b[0m\u001b[1;33m[\u001b[0m\u001b[0mposts\u001b[0m\u001b[1;33m.\u001b[0m\u001b[0mindex\u001b[0m\u001b[1;33m==\u001b[0m\u001b[0mpost_id\u001b[0m\u001b[1;33m]\u001b[0m\u001b[1;33m.\u001b[0m\u001b[0mindex\u001b[0m\u001b[1;33m,\u001b[0m\u001b[1;34m\"comments_sentiment\"\u001b[0m\u001b[1;33m]\u001b[0m \u001b[1;33m=\u001b[0m \u001b[0mcomments\u001b[0m\u001b[1;33m[\u001b[0m\u001b[1;34m\"sentiment\"\u001b[0m\u001b[1;33m]\u001b[0m\u001b[1;33m[\u001b[0m\u001b[1;34m\"post_id\"\u001b[0m\u001b[1;33m==\u001b[0m\u001b[0mpost_id\u001b[0m\u001b[1;33m]\u001b[0m\u001b[1;33m.\u001b[0m\u001b[0mmode\u001b[0m\u001b[1;33m(\u001b[0m\u001b[1;33m)\u001b[0m\u001b[1;33m[\u001b[0m\u001b[1;36m0\u001b[0m\u001b[1;33m]\u001b[0m\u001b[1;33m\u001b[0m\u001b[1;33m\u001b[0m\u001b[0m\n\u001b[0m\u001b[0;32m      3\u001b[0m     \u001b[0mposts\u001b[0m\u001b[1;33m.\u001b[0m\u001b[0mat\u001b[0m\u001b[1;33m[\u001b[0m\u001b[0mposts\u001b[0m\u001b[1;33m[\u001b[0m\u001b[0mposts\u001b[0m\u001b[1;33m.\u001b[0m\u001b[0mindex\u001b[0m\u001b[1;33m==\u001b[0m\u001b[0mpost_id\u001b[0m\u001b[1;33m]\u001b[0m\u001b[1;33m.\u001b[0m\u001b[0mindex\u001b[0m\u001b[1;33m,\u001b[0m\u001b[1;34m\"comments_score\"\u001b[0m\u001b[1;33m]\u001b[0m \u001b[1;33m=\u001b[0m\u001b[0mcomments\u001b[0m\u001b[1;33m[\u001b[0m\u001b[1;34m\"sentiment_score\"\u001b[0m\u001b[1;33m]\u001b[0m\u001b[1;33m.\u001b[0m\u001b[0mloc\u001b[0m\u001b[1;33m[\u001b[0m\u001b[0mcomments\u001b[0m\u001b[1;33m[\u001b[0m\u001b[1;34m\"post_id\"\u001b[0m\u001b[1;33m]\u001b[0m\u001b[1;33m==\u001b[0m\u001b[0mpost_id\u001b[0m\u001b[1;33m]\u001b[0m\u001b[1;33m.\u001b[0m\u001b[0mmean\u001b[0m\u001b[1;33m(\u001b[0m\u001b[1;33m)\u001b[0m\u001b[1;33m\u001b[0m\u001b[1;33m\u001b[0m\u001b[0m\n\u001b[0;32m      4\u001b[0m     \u001b[1;31m#posts.at[posts.loc[posts[\"post_id\"]==post_id].index,\"comments_sentiment\"] = comments[\"sentiment\"].loc[comments[\"post_id\"]==post_id].mode()[0]\u001b[0m\u001b[1;33m\u001b[0m\u001b[1;33m\u001b[0m\u001b[1;33m\u001b[0m\u001b[0m\n\u001b[0;32m      5\u001b[0m     \u001b[1;31m#posts.at[posts.loc[posts[\"post_id\"]==post_id].index,\"comments_score\"] = comments[\"sentiment_score\"].loc[comments[\"post_id\"]==post_id].mean()\u001b[0m\u001b[1;33m\u001b[0m\u001b[1;33m\u001b[0m\u001b[1;33m\u001b[0m\u001b[0m\n",
      "\u001b[1;32m~\\AppData\\Local\\Programs\\Python\\Python38\\lib\\site-packages\\pandas\\core\\series.py\u001b[0m in \u001b[0;36m__getitem__\u001b[1;34m(self, key)\u001b[0m\n\u001b[0;32m    869\u001b[0m         \u001b[0mkey\u001b[0m \u001b[1;33m=\u001b[0m \u001b[0mcom\u001b[0m\u001b[1;33m.\u001b[0m\u001b[0mapply_if_callable\u001b[0m\u001b[1;33m(\u001b[0m\u001b[0mkey\u001b[0m\u001b[1;33m,\u001b[0m \u001b[0mself\u001b[0m\u001b[1;33m)\u001b[0m\u001b[1;33m\u001b[0m\u001b[1;33m\u001b[0m\u001b[0m\n\u001b[0;32m    870\u001b[0m         \u001b[1;32mtry\u001b[0m\u001b[1;33m:\u001b[0m\u001b[1;33m\u001b[0m\u001b[1;33m\u001b[0m\u001b[0m\n\u001b[1;32m--> 871\u001b[1;33m             \u001b[0mresult\u001b[0m \u001b[1;33m=\u001b[0m \u001b[0mself\u001b[0m\u001b[1;33m.\u001b[0m\u001b[0mindex\u001b[0m\u001b[1;33m.\u001b[0m\u001b[0mget_value\u001b[0m\u001b[1;33m(\u001b[0m\u001b[0mself\u001b[0m\u001b[1;33m,\u001b[0m \u001b[0mkey\u001b[0m\u001b[1;33m)\u001b[0m\u001b[1;33m\u001b[0m\u001b[1;33m\u001b[0m\u001b[0m\n\u001b[0m\u001b[0;32m    872\u001b[0m \u001b[1;33m\u001b[0m\u001b[0m\n\u001b[0;32m    873\u001b[0m             \u001b[1;32mif\u001b[0m \u001b[1;32mnot\u001b[0m \u001b[0mis_scalar\u001b[0m\u001b[1;33m(\u001b[0m\u001b[0mresult\u001b[0m\u001b[1;33m)\u001b[0m\u001b[1;33m:\u001b[0m\u001b[1;33m\u001b[0m\u001b[1;33m\u001b[0m\u001b[0m\n",
      "\u001b[1;32m~\\AppData\\Local\\Programs\\Python\\Python38\\lib\\site-packages\\pandas\\core\\indexes\\base.py\u001b[0m in \u001b[0;36mget_value\u001b[1;34m(self, series, key)\u001b[0m\n\u001b[0;32m   4403\u001b[0m         \u001b[0mk\u001b[0m \u001b[1;33m=\u001b[0m \u001b[0mself\u001b[0m\u001b[1;33m.\u001b[0m\u001b[0m_convert_scalar_indexer\u001b[0m\u001b[1;33m(\u001b[0m\u001b[0mk\u001b[0m\u001b[1;33m,\u001b[0m \u001b[0mkind\u001b[0m\u001b[1;33m=\u001b[0m\u001b[1;34m\"getitem\"\u001b[0m\u001b[1;33m)\u001b[0m\u001b[1;33m\u001b[0m\u001b[1;33m\u001b[0m\u001b[0m\n\u001b[0;32m   4404\u001b[0m         \u001b[1;32mtry\u001b[0m\u001b[1;33m:\u001b[0m\u001b[1;33m\u001b[0m\u001b[1;33m\u001b[0m\u001b[0m\n\u001b[1;32m-> 4405\u001b[1;33m             \u001b[1;32mreturn\u001b[0m \u001b[0mself\u001b[0m\u001b[1;33m.\u001b[0m\u001b[0m_engine\u001b[0m\u001b[1;33m.\u001b[0m\u001b[0mget_value\u001b[0m\u001b[1;33m(\u001b[0m\u001b[0ms\u001b[0m\u001b[1;33m,\u001b[0m \u001b[0mk\u001b[0m\u001b[1;33m,\u001b[0m \u001b[0mtz\u001b[0m\u001b[1;33m=\u001b[0m\u001b[0mgetattr\u001b[0m\u001b[1;33m(\u001b[0m\u001b[0mseries\u001b[0m\u001b[1;33m.\u001b[0m\u001b[0mdtype\u001b[0m\u001b[1;33m,\u001b[0m \u001b[1;34m\"tz\"\u001b[0m\u001b[1;33m,\u001b[0m \u001b[1;32mNone\u001b[0m\u001b[1;33m)\u001b[0m\u001b[1;33m)\u001b[0m\u001b[1;33m\u001b[0m\u001b[1;33m\u001b[0m\u001b[0m\n\u001b[0m\u001b[0;32m   4406\u001b[0m         \u001b[1;32mexcept\u001b[0m \u001b[0mKeyError\u001b[0m \u001b[1;32mas\u001b[0m \u001b[0me1\u001b[0m\u001b[1;33m:\u001b[0m\u001b[1;33m\u001b[0m\u001b[1;33m\u001b[0m\u001b[0m\n\u001b[0;32m   4407\u001b[0m             \u001b[1;32mif\u001b[0m \u001b[0mlen\u001b[0m\u001b[1;33m(\u001b[0m\u001b[0mself\u001b[0m\u001b[1;33m)\u001b[0m \u001b[1;33m>\u001b[0m \u001b[1;36m0\u001b[0m \u001b[1;32mand\u001b[0m \u001b[1;33m(\u001b[0m\u001b[0mself\u001b[0m\u001b[1;33m.\u001b[0m\u001b[0mholds_integer\u001b[0m\u001b[1;33m(\u001b[0m\u001b[1;33m)\u001b[0m \u001b[1;32mor\u001b[0m \u001b[0mself\u001b[0m\u001b[1;33m.\u001b[0m\u001b[0mis_boolean\u001b[0m\u001b[1;33m(\u001b[0m\u001b[1;33m)\u001b[0m\u001b[1;33m)\u001b[0m\u001b[1;33m:\u001b[0m\u001b[1;33m\u001b[0m\u001b[1;33m\u001b[0m\u001b[0m\n",
      "\u001b[1;32mpandas\\_libs\\index.pyx\u001b[0m in \u001b[0;36mpandas._libs.index.IndexEngine.get_value\u001b[1;34m()\u001b[0m\n",
      "\u001b[1;32mpandas\\_libs\\index.pyx\u001b[0m in \u001b[0;36mpandas._libs.index.IndexEngine.get_value\u001b[1;34m()\u001b[0m\n",
      "\u001b[1;32mpandas\\_libs\\index.pyx\u001b[0m in \u001b[0;36mpandas._libs.index.IndexEngine.get_loc\u001b[1;34m()\u001b[0m\n",
      "\u001b[1;32mpandas\\_libs\\index_class_helper.pxi\u001b[0m in \u001b[0;36mpandas._libs.index.Int64Engine._check_type\u001b[1;34m()\u001b[0m\n",
      "\u001b[1;31mKeyError\u001b[0m: False"
     ]
    }
   ],
   "source": [
    "for post_id in comments[\"post_id\"].unique():\n",
    "    posts.at[posts[posts.index==post_id].index,\"comments_sentiment\"] = comments[\"sentiment\"][\"post_id\"==post_id].mode()[0]\n",
    "    posts.at[posts[posts.index==post_id].index,\"comments_score\"] =comments[\"sentiment_score\"].loc[comments[\"post_id\"]==post_id].mean()\n",
    "    #posts.at[posts.loc[posts[\"post_id\"]==post_id].index,\"comments_sentiment\"] = comments[\"sentiment\"].loc[comments[\"post_id\"]==post_id].mode()[0]\n",
    "    #posts.at[posts.loc[posts[\"post_id\"]==post_id].index,\"comments_score\"] = comments[\"sentiment_score\"].loc[comments[\"post_id\"]==post_id].mean()"
   ]
  },
  {
   "cell_type": "code",
   "execution_count": 111,
   "metadata": {},
   "outputs": [
    {
     "output_type": "error",
     "ename": "KeyError",
     "evalue": "'sentiment'",
     "traceback": [
      "\u001b[1;31m---------------------------------------------------------------------------\u001b[0m",
      "\u001b[1;31mKeyError\u001b[0m                                  Traceback (most recent call last)",
      "\u001b[1;32m~\\AppData\\Local\\Programs\\Python\\Python38\\lib\\site-packages\\pandas\\core\\indexes\\base.py\u001b[0m in \u001b[0;36mget_loc\u001b[1;34m(self, key, method, tolerance)\u001b[0m\n\u001b[0;32m   2645\u001b[0m             \u001b[1;32mtry\u001b[0m\u001b[1;33m:\u001b[0m\u001b[1;33m\u001b[0m\u001b[1;33m\u001b[0m\u001b[0m\n\u001b[1;32m-> 2646\u001b[1;33m                 \u001b[1;32mreturn\u001b[0m \u001b[0mself\u001b[0m\u001b[1;33m.\u001b[0m\u001b[0m_engine\u001b[0m\u001b[1;33m.\u001b[0m\u001b[0mget_loc\u001b[0m\u001b[1;33m(\u001b[0m\u001b[0mkey\u001b[0m\u001b[1;33m)\u001b[0m\u001b[1;33m\u001b[0m\u001b[1;33m\u001b[0m\u001b[0m\n\u001b[0m\u001b[0;32m   2647\u001b[0m             \u001b[1;32mexcept\u001b[0m \u001b[0mKeyError\u001b[0m\u001b[1;33m:\u001b[0m\u001b[1;33m\u001b[0m\u001b[1;33m\u001b[0m\u001b[0m\n",
      "\u001b[1;32mpandas\\_libs\\index.pyx\u001b[0m in \u001b[0;36mpandas._libs.index.IndexEngine.get_loc\u001b[1;34m()\u001b[0m\n",
      "\u001b[1;32mpandas\\_libs\\index.pyx\u001b[0m in \u001b[0;36mpandas._libs.index.IndexEngine.get_loc\u001b[1;34m()\u001b[0m\n",
      "\u001b[1;32mpandas\\_libs\\hashtable_class_helper.pxi\u001b[0m in \u001b[0;36mpandas._libs.hashtable.PyObjectHashTable.get_item\u001b[1;34m()\u001b[0m\n",
      "\u001b[1;32mpandas\\_libs\\hashtable_class_helper.pxi\u001b[0m in \u001b[0;36mpandas._libs.hashtable.PyObjectHashTable.get_item\u001b[1;34m()\u001b[0m\n",
      "\u001b[1;31mKeyError\u001b[0m: 'sentiment'",
      "\nDuring handling of the above exception, another exception occurred:\n",
      "\u001b[1;31mKeyError\u001b[0m                                  Traceback (most recent call last)",
      "\u001b[1;32m<ipython-input-111-5c88a9ac8dd5>\u001b[0m in \u001b[0;36m<module>\u001b[1;34m\u001b[0m\n\u001b[1;32m----> 1\u001b[1;33m \u001b[1;32mfor\u001b[0m \u001b[0mpost_id\u001b[0m \u001b[1;32min\u001b[0m \u001b[0mposts\u001b[0m\u001b[1;33m[\u001b[0m\u001b[0mposts\u001b[0m\u001b[1;33m[\u001b[0m\u001b[1;34m\"sentiment\"\u001b[0m\u001b[1;33m]\u001b[0m\u001b[1;33m.\u001b[0m\u001b[0misna\u001b[0m\u001b[1;33m(\u001b[0m\u001b[1;33m)\u001b[0m\u001b[1;33m]\u001b[0m\u001b[1;33m.\u001b[0m\u001b[0mindex\u001b[0m\u001b[1;33m:\u001b[0m\u001b[1;33m\u001b[0m\u001b[1;33m\u001b[0m\u001b[0m\n\u001b[0m\u001b[0;32m      2\u001b[0m     \u001b[1;31m#print (posts[\"sentiment\"][['post_id']==post_id] )\u001b[0m\u001b[1;33m\u001b[0m\u001b[1;33m\u001b[0m\u001b[1;33m\u001b[0m\u001b[0m\n\u001b[0;32m      3\u001b[0m     \u001b[1;31m#print (posts[posts['post_id']==post_id].index)\u001b[0m\u001b[1;33m\u001b[0m\u001b[1;33m\u001b[0m\u001b[1;33m\u001b[0m\u001b[0m\n\u001b[0;32m      4\u001b[0m     \u001b[0mposts\u001b[0m\u001b[1;33m.\u001b[0m\u001b[0mat\u001b[0m\u001b[1;33m[\u001b[0m\u001b[0mpost_id\u001b[0m\u001b[1;33m,\u001b[0m\u001b[1;34m\"sentiment\"\u001b[0m\u001b[1;33m]\u001b[0m \u001b[1;33m=\u001b[0m \u001b[1;36m2\u001b[0m\u001b[1;33m\u001b[0m\u001b[1;33m\u001b[0m\u001b[0m\n",
      "\u001b[1;32m~\\AppData\\Local\\Programs\\Python\\Python38\\lib\\site-packages\\pandas\\core\\frame.py\u001b[0m in \u001b[0;36m__getitem__\u001b[1;34m(self, key)\u001b[0m\n\u001b[0;32m   2798\u001b[0m             \u001b[1;32mif\u001b[0m \u001b[0mself\u001b[0m\u001b[1;33m.\u001b[0m\u001b[0mcolumns\u001b[0m\u001b[1;33m.\u001b[0m\u001b[0mnlevels\u001b[0m \u001b[1;33m>\u001b[0m \u001b[1;36m1\u001b[0m\u001b[1;33m:\u001b[0m\u001b[1;33m\u001b[0m\u001b[1;33m\u001b[0m\u001b[0m\n\u001b[0;32m   2799\u001b[0m                 \u001b[1;32mreturn\u001b[0m \u001b[0mself\u001b[0m\u001b[1;33m.\u001b[0m\u001b[0m_getitem_multilevel\u001b[0m\u001b[1;33m(\u001b[0m\u001b[0mkey\u001b[0m\u001b[1;33m)\u001b[0m\u001b[1;33m\u001b[0m\u001b[1;33m\u001b[0m\u001b[0m\n\u001b[1;32m-> 2800\u001b[1;33m             \u001b[0mindexer\u001b[0m \u001b[1;33m=\u001b[0m \u001b[0mself\u001b[0m\u001b[1;33m.\u001b[0m\u001b[0mcolumns\u001b[0m\u001b[1;33m.\u001b[0m\u001b[0mget_loc\u001b[0m\u001b[1;33m(\u001b[0m\u001b[0mkey\u001b[0m\u001b[1;33m)\u001b[0m\u001b[1;33m\u001b[0m\u001b[1;33m\u001b[0m\u001b[0m\n\u001b[0m\u001b[0;32m   2801\u001b[0m             \u001b[1;32mif\u001b[0m \u001b[0mis_integer\u001b[0m\u001b[1;33m(\u001b[0m\u001b[0mindexer\u001b[0m\u001b[1;33m)\u001b[0m\u001b[1;33m:\u001b[0m\u001b[1;33m\u001b[0m\u001b[1;33m\u001b[0m\u001b[0m\n\u001b[0;32m   2802\u001b[0m                 \u001b[0mindexer\u001b[0m \u001b[1;33m=\u001b[0m \u001b[1;33m[\u001b[0m\u001b[0mindexer\u001b[0m\u001b[1;33m]\u001b[0m\u001b[1;33m\u001b[0m\u001b[1;33m\u001b[0m\u001b[0m\n",
      "\u001b[1;32m~\\AppData\\Local\\Programs\\Python\\Python38\\lib\\site-packages\\pandas\\core\\indexes\\base.py\u001b[0m in \u001b[0;36mget_loc\u001b[1;34m(self, key, method, tolerance)\u001b[0m\n\u001b[0;32m   2646\u001b[0m                 \u001b[1;32mreturn\u001b[0m \u001b[0mself\u001b[0m\u001b[1;33m.\u001b[0m\u001b[0m_engine\u001b[0m\u001b[1;33m.\u001b[0m\u001b[0mget_loc\u001b[0m\u001b[1;33m(\u001b[0m\u001b[0mkey\u001b[0m\u001b[1;33m)\u001b[0m\u001b[1;33m\u001b[0m\u001b[1;33m\u001b[0m\u001b[0m\n\u001b[0;32m   2647\u001b[0m             \u001b[1;32mexcept\u001b[0m \u001b[0mKeyError\u001b[0m\u001b[1;33m:\u001b[0m\u001b[1;33m\u001b[0m\u001b[1;33m\u001b[0m\u001b[0m\n\u001b[1;32m-> 2648\u001b[1;33m                 \u001b[1;32mreturn\u001b[0m \u001b[0mself\u001b[0m\u001b[1;33m.\u001b[0m\u001b[0m_engine\u001b[0m\u001b[1;33m.\u001b[0m\u001b[0mget_loc\u001b[0m\u001b[1;33m(\u001b[0m\u001b[0mself\u001b[0m\u001b[1;33m.\u001b[0m\u001b[0m_maybe_cast_indexer\u001b[0m\u001b[1;33m(\u001b[0m\u001b[0mkey\u001b[0m\u001b[1;33m)\u001b[0m\u001b[1;33m)\u001b[0m\u001b[1;33m\u001b[0m\u001b[1;33m\u001b[0m\u001b[0m\n\u001b[0m\u001b[0;32m   2649\u001b[0m         \u001b[0mindexer\u001b[0m \u001b[1;33m=\u001b[0m \u001b[0mself\u001b[0m\u001b[1;33m.\u001b[0m\u001b[0mget_indexer\u001b[0m\u001b[1;33m(\u001b[0m\u001b[1;33m[\u001b[0m\u001b[0mkey\u001b[0m\u001b[1;33m]\u001b[0m\u001b[1;33m,\u001b[0m \u001b[0mmethod\u001b[0m\u001b[1;33m=\u001b[0m\u001b[0mmethod\u001b[0m\u001b[1;33m,\u001b[0m \u001b[0mtolerance\u001b[0m\u001b[1;33m=\u001b[0m\u001b[0mtolerance\u001b[0m\u001b[1;33m)\u001b[0m\u001b[1;33m\u001b[0m\u001b[1;33m\u001b[0m\u001b[0m\n\u001b[0;32m   2650\u001b[0m         \u001b[1;32mif\u001b[0m \u001b[0mindexer\u001b[0m\u001b[1;33m.\u001b[0m\u001b[0mndim\u001b[0m \u001b[1;33m>\u001b[0m \u001b[1;36m1\u001b[0m \u001b[1;32mor\u001b[0m \u001b[0mindexer\u001b[0m\u001b[1;33m.\u001b[0m\u001b[0msize\u001b[0m \u001b[1;33m>\u001b[0m \u001b[1;36m1\u001b[0m\u001b[1;33m:\u001b[0m\u001b[1;33m\u001b[0m\u001b[1;33m\u001b[0m\u001b[0m\n",
      "\u001b[1;32mpandas\\_libs\\index.pyx\u001b[0m in \u001b[0;36mpandas._libs.index.IndexEngine.get_loc\u001b[1;34m()\u001b[0m\n",
      "\u001b[1;32mpandas\\_libs\\index.pyx\u001b[0m in \u001b[0;36mpandas._libs.index.IndexEngine.get_loc\u001b[1;34m()\u001b[0m\n",
      "\u001b[1;32mpandas\\_libs\\hashtable_class_helper.pxi\u001b[0m in \u001b[0;36mpandas._libs.hashtable.PyObjectHashTable.get_item\u001b[1;34m()\u001b[0m\n",
      "\u001b[1;32mpandas\\_libs\\hashtable_class_helper.pxi\u001b[0m in \u001b[0;36mpandas._libs.hashtable.PyObjectHashTable.get_item\u001b[1;34m()\u001b[0m\n",
      "\u001b[1;31mKeyError\u001b[0m: 'sentiment'"
     ]
    }
   ],
   "source": [
    "for post_id in posts[posts[\"sentiment\"].isna()].index:\n",
    "    #print (posts[\"sentiment\"][['post_id']==post_id] )\n",
    "    #print (posts[posts['post_id']==post_id].index)\n",
    "    posts.at[post_id,\"sentiment\"] = 2"
   ]
  },
  {
   "cell_type": "code",
   "execution_count": 6,
   "metadata": {},
   "outputs": [
    {
     "output_type": "execute_result",
     "data": {
      "text/plain": [
       "                                Open       High        Low      Close  \\\n",
       "2021-04-28 09:30:00-04:00  26.370001  27.094999  26.160000  27.070000   \n",
       "2021-04-28 10:30:00-04:00  27.070000  27.350000  27.030001  27.275000   \n",
       "2021-04-28 11:30:00-04:00  27.260000  27.389999  27.219999  27.260000   \n",
       "2021-04-28 12:30:00-04:00  27.264099  27.440001  27.250000  27.320000   \n",
       "2021-04-28 13:30:00-04:00  27.320000  27.340000  27.160000  27.334999   \n",
       "...                              ...        ...        ...        ...   \n",
       "2021-05-27 11:30:00-04:00  31.469999  31.584999  31.410000  31.444401   \n",
       "2021-05-27 12:30:00-04:00  31.445000  31.570000  31.400000  31.530001   \n",
       "2021-05-27 13:30:00-04:00  31.525000  31.540001  31.370001  31.430000   \n",
       "2021-05-27 14:30:00-04:00  31.430000  31.520000  31.405001  31.450001   \n",
       "2021-05-27 15:30:00-04:00  31.455000  31.469999  31.309999  31.320000   \n",
       "\n",
       "                            Volume  Dividends  Stock Splits  \n",
       "2021-04-28 09:30:00-04:00  1755500          0             0  \n",
       "2021-04-28 10:30:00-04:00  1603922          0             0  \n",
       "2021-04-28 11:30:00-04:00   919413          0             0  \n",
       "2021-04-28 12:30:00-04:00   769316          0             0  \n",
       "2021-04-28 13:30:00-04:00   877649          0             0  \n",
       "...                            ...        ...           ...  \n",
       "2021-05-27 11:30:00-04:00   852549          0             0  \n",
       "2021-05-27 12:30:00-04:00   640538          0             0  \n",
       "2021-05-27 13:30:00-04:00   761470          0             0  \n",
       "2021-05-27 14:30:00-04:00  1024683          0             0  \n",
       "2021-05-27 15:30:00-04:00  2317787          0             0  \n",
       "\n",
       "[154 rows x 7 columns]"
      ],
      "text/html": "<div>\n<style scoped>\n    .dataframe tbody tr th:only-of-type {\n        vertical-align: middle;\n    }\n\n    .dataframe tbody tr th {\n        vertical-align: top;\n    }\n\n    .dataframe thead th {\n        text-align: right;\n    }\n</style>\n<table border=\"1\" class=\"dataframe\">\n  <thead>\n    <tr style=\"text-align: right;\">\n      <th></th>\n      <th>Open</th>\n      <th>High</th>\n      <th>Low</th>\n      <th>Close</th>\n      <th>Volume</th>\n      <th>Dividends</th>\n      <th>Stock Splits</th>\n    </tr>\n  </thead>\n  <tbody>\n    <tr>\n      <th>2021-04-28 09:30:00-04:00</th>\n      <td>26.370001</td>\n      <td>27.094999</td>\n      <td>26.160000</td>\n      <td>27.070000</td>\n      <td>1755500</td>\n      <td>0</td>\n      <td>0</td>\n    </tr>\n    <tr>\n      <th>2021-04-28 10:30:00-04:00</th>\n      <td>27.070000</td>\n      <td>27.350000</td>\n      <td>27.030001</td>\n      <td>27.275000</td>\n      <td>1603922</td>\n      <td>0</td>\n      <td>0</td>\n    </tr>\n    <tr>\n      <th>2021-04-28 11:30:00-04:00</th>\n      <td>27.260000</td>\n      <td>27.389999</td>\n      <td>27.219999</td>\n      <td>27.260000</td>\n      <td>919413</td>\n      <td>0</td>\n      <td>0</td>\n    </tr>\n    <tr>\n      <th>2021-04-28 12:30:00-04:00</th>\n      <td>27.264099</td>\n      <td>27.440001</td>\n      <td>27.250000</td>\n      <td>27.320000</td>\n      <td>769316</td>\n      <td>0</td>\n      <td>0</td>\n    </tr>\n    <tr>\n      <th>2021-04-28 13:30:00-04:00</th>\n      <td>27.320000</td>\n      <td>27.340000</td>\n      <td>27.160000</td>\n      <td>27.334999</td>\n      <td>877649</td>\n      <td>0</td>\n      <td>0</td>\n    </tr>\n    <tr>\n      <th>...</th>\n      <td>...</td>\n      <td>...</td>\n      <td>...</td>\n      <td>...</td>\n      <td>...</td>\n      <td>...</td>\n      <td>...</td>\n    </tr>\n    <tr>\n      <th>2021-05-27 11:30:00-04:00</th>\n      <td>31.469999</td>\n      <td>31.584999</td>\n      <td>31.410000</td>\n      <td>31.444401</td>\n      <td>852549</td>\n      <td>0</td>\n      <td>0</td>\n    </tr>\n    <tr>\n      <th>2021-05-27 12:30:00-04:00</th>\n      <td>31.445000</td>\n      <td>31.570000</td>\n      <td>31.400000</td>\n      <td>31.530001</td>\n      <td>640538</td>\n      <td>0</td>\n      <td>0</td>\n    </tr>\n    <tr>\n      <th>2021-05-27 13:30:00-04:00</th>\n      <td>31.525000</td>\n      <td>31.540001</td>\n      <td>31.370001</td>\n      <td>31.430000</td>\n      <td>761470</td>\n      <td>0</td>\n      <td>0</td>\n    </tr>\n    <tr>\n      <th>2021-05-27 14:30:00-04:00</th>\n      <td>31.430000</td>\n      <td>31.520000</td>\n      <td>31.405001</td>\n      <td>31.450001</td>\n      <td>1024683</td>\n      <td>0</td>\n      <td>0</td>\n    </tr>\n    <tr>\n      <th>2021-05-27 15:30:00-04:00</th>\n      <td>31.455000</td>\n      <td>31.469999</td>\n      <td>31.309999</td>\n      <td>31.320000</td>\n      <td>2317787</td>\n      <td>0</td>\n      <td>0</td>\n    </tr>\n  </tbody>\n</table>\n<p>154 rows × 7 columns</p>\n</div>"
     },
     "metadata": {},
     "execution_count": 6
    }
   ],
   "source": [
    "stock_data"
   ]
  },
  {
   "cell_type": "code",
   "execution_count": 75,
   "metadata": {},
   "outputs": [
    {
     "output_type": "execute_result",
     "data": {
      "text/plain": [
       "{'zip': '77056',\n",
       " 'sector': 'Energy',\n",
       " 'fullTimeEmployees': 86000,\n",
       " 'longBusinessSummary': 'Schlumberger Limited supplies technology for reservoir characterization, drilling, production, and processing to the oil and gas industry worldwide. It operates in four divisions: Digital & Integration, Reservoir Performance, Well Construction, and Production Systems. The company offers reservoir interpretation and data processing services; open and cased-hole, and slickline services; exploration and production pressure and flow-rate measurement services; tubing-conveyed perforating services; integrated production systems; software, consulting, information management, and IT infrastructure services; reservoir characterization, field development planning, and production enhancement consulting services; and petro technical data services and training solutions. It designs, manufactures, and markets roller cone and fixed cutter drill bits; supplies drilling fluid systems, fluid systems and specialty equipment, production technology solutions, and engineered managed pressure and underbalanced drilling solutions; and offers environmental services and products; provides drilling and measurement, land drilling rigs, and related support services; and supplies well planning and drilling, engineering, supervision, logistics, procurement, and contracting services, as well as drilling rig management services. In addition, the company offers well services; coiled tubing equipment; hydraulic fracturing, multistage completions, perforating, coiled tubing equipment, and services; well completion services and equipment; artificial lift production equipment and optimization services; and production management services. Further, it provides integrated subsea production systems; drilling equipment and services; onshore and offshore platform wellhead systems and processing solutions; and valve and process systems. The company was formerly known as SocieÂ´teÂ´ de Prospection EÂ´lectrique. Schlumberger Limited was founded in 1926 and is based in Houston, Texas.',\n",
       " 'city': 'Houston',\n",
       " 'state': 'TX',\n",
       " 'country': 'United States',\n",
       " 'companyOfficers': [],\n",
       " 'website': 'http://www.slb.com',\n",
       " 'maxAge': 1,\n",
       " 'address1': '5599 San Felipe',\n",
       " 'industry': 'Oil & Gas Equipment & Services',\n",
       " 'address2': '17th Floor',\n",
       " 'previousClose': 31.95,\n",
       " 'regularMarketOpen': 32.13,\n",
       " 'twoHundredDayAverage': 25.502222,\n",
       " 'trailingAnnualDividendYield': 0.015649453,\n",
       " 'payoutRatio': None,\n",
       " 'volume24Hr': None,\n",
       " 'regularMarketDayHigh': 32.13,\n",
       " 'navPrice': None,\n",
       " 'averageDailyVolume10Day': 12331120,\n",
       " 'totalAssets': None,\n",
       " 'regularMarketPreviousClose': 31.95,\n",
       " 'fiftyDayAverage': 28.692,\n",
       " 'trailingAnnualDividendRate': 0.5,\n",
       " 'open': 32.13,\n",
       " 'toCurrency': None,\n",
       " 'averageVolume10days': 12331120,\n",
       " 'expireDate': None,\n",
       " 'yield': None,\n",
       " 'algorithm': None,\n",
       " 'dividendRate': 0.5,\n",
       " 'exDividendDate': 1622505600,\n",
       " 'beta': 2.419251,\n",
       " 'circulatingSupply': None,\n",
       " 'startDate': None,\n",
       " 'regularMarketDayLow': 31.56,\n",
       " 'priceHint': 2,\n",
       " 'currency': 'USD',\n",
       " 'regularMarketVolume': 9755934,\n",
       " 'lastMarket': None,\n",
       " 'maxSupply': None,\n",
       " 'openInterest': None,\n",
       " 'marketCap': 44327063552,\n",
       " 'volumeAllCurrencies': None,\n",
       " 'strikePrice': None,\n",
       " 'averageVolume': 14174875,\n",
       " 'priceToSalesTrailing12Months': 2.074363,\n",
       " 'dayLow': 31.56,\n",
       " 'ask': 31.96,\n",
       " 'ytdReturn': None,\n",
       " 'askSize': 1000,\n",
       " 'volume': 9755934,\n",
       " 'fiftyTwoWeekHigh': 34.33,\n",
       " 'forwardPE': 19.937107,\n",
       " 'fromCurrency': None,\n",
       " 'fiveYearAvgDividendYield': 4.22,\n",
       " 'fiftyTwoWeekLow': 13.7,\n",
       " 'bid': 31.58,\n",
       " 'tradeable': False,\n",
       " 'dividendYield': 0.015700001,\n",
       " 'bidSize': 3000,\n",
       " 'dayHigh': 32.13,\n",
       " 'exchange': 'NYQ',\n",
       " 'shortName': 'Schlumberger N.V.',\n",
       " 'longName': 'Schlumberger Limited',\n",
       " 'exchangeTimezoneName': 'America/New_York',\n",
       " 'exchangeTimezoneShortName': 'EDT',\n",
       " 'isEsgPopulated': False,\n",
       " 'gmtOffSetMilliseconds': '-14400000',\n",
       " 'quoteType': 'EQUITY',\n",
       " 'symbol': 'SLB',\n",
       " 'messageBoardId': 'finmb_301966',\n",
       " 'market': 'us_market',\n",
       " 'annualHoldingsTurnover': None,\n",
       " 'enterpriseToRevenue': 2.751,\n",
       " 'beta3Year': None,\n",
       " 'profitMargins': -0.13304,\n",
       " 'enterpriseToEbitda': 14.941,\n",
       " '52WeekChange': 0.736413,\n",
       " 'morningStarRiskRating': None,\n",
       " 'forwardEps': 1.59,\n",
       " 'revenueQuarterlyGrowth': None,\n",
       " 'sharesOutstanding': 1398329984,\n",
       " 'fundInceptionDate': None,\n",
       " 'annualReportExpenseRatio': None,\n",
       " 'bookValue': 8.97,\n",
       " 'sharesShort': 22136314,\n",
       " 'sharesPercentSharesOut': 0.015800001,\n",
       " 'fundFamily': None,\n",
       " 'lastFiscalYearEnd': 1609372800,\n",
       " 'heldPercentInstitutions': 0.77866,\n",
       " 'netIncomeToCommon': -2843000064,\n",
       " 'trailingEps': -2.043,\n",
       " 'lastDividendValue': 0.125,\n",
       " 'SandP52WeekChange': 0.38909745,\n",
       " 'priceToBook': 3.5340023,\n",
       " 'heldPercentInsiders': 0.0011100001,\n",
       " 'nextFiscalYearEnd': 1672444800,\n",
       " 'mostRecentQuarter': 1617148800,\n",
       " 'shortRatio': 1.93,\n",
       " 'sharesShortPreviousMonthDate': 1617148800,\n",
       " 'floatShares': 1394878582,\n",
       " 'enterpriseValue': 58778722304,\n",
       " 'threeYearAverageReturn': None,\n",
       " 'lastSplitDate': 1144627200,\n",
       " 'lastSplitFactor': '2:1',\n",
       " 'legalType': None,\n",
       " 'lastDividendDate': 1613433600,\n",
       " 'morningStarOverallRating': None,\n",
       " 'earningsQuarterlyGrowth': None,\n",
       " 'dateShortInterest': 1619740800,\n",
       " 'pegRatio': 0.47,\n",
       " 'lastCapGain': None,\n",
       " 'shortPercentOfFloat': 0.015800001,\n",
       " 'sharesShortPriorMonth': 20269994,\n",
       " 'impliedSharesOutstanding': None,\n",
       " 'category': None,\n",
       " 'fiveYearAverageReturn': None,\n",
       " 'regularMarketPrice': 31.7,\n",
       " 'logo_url': 'https://logo.clearbit.com/slb.com'}"
      ]
     },
     "metadata": {},
     "execution_count": 75
    }
   ],
   "source": [
    "stock_info"
   ]
  },
  {
   "cell_type": "code",
   "execution_count": null,
   "metadata": {},
   "outputs": [],
   "source": []
  }
 ]
}